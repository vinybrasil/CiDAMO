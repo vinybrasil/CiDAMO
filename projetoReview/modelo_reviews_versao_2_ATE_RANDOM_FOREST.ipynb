{
  "nbformat": 4,
  "nbformat_minor": 0,
  "metadata": {
    "kernelspec": {
      "display_name": "Python 3",
      "language": "python",
      "name": "python3"
    },
    "language_info": {
      "codemirror_mode": {
        "name": "ipython",
        "version": 3
      },
      "file_extension": ".py",
      "mimetype": "text/x-python",
      "name": "python",
      "nbconvert_exporter": "python",
      "pygments_lexer": "ipython3",
      "version": "3.7.6"
    },
    "colab": {
      "name": "modelo_reviews_versao_2.ipynb",
      "provenance": [],
      "collapsed_sections": []
    }
  },
  "cells": [
    {
      "cell_type": "code",
      "metadata": {
        "id": "nAn0oPFsMzWM",
        "colab_type": "code",
        "colab": {}
      },
      "source": [
        "import pandas as pd\n",
        "from sklearn.linear_model import LogisticRegression\n",
        "from sklearn.metrics import accuracy_score, precision_score, recall_score, f1_score\n",
        "from sklearn.model_selection import train_test_split, GridSearchCV\n",
        "from sklearn.ensemble import RandomForestClassifier\n",
        "from sklearn.feature_extraction.text import TfidfVectorizer\n",
        "from sklearn.metrics import accuracy_score, roc_curve, auc\n",
        "from sklearn.svm import SVC\n",
        "import spacy\n",
        "import re\n",
        "import string"
      ],
      "execution_count": 0,
      "outputs": []
    },
    {
      "cell_type": "code",
      "metadata": {
        "id": "jLij0B3MNIyS",
        "colab_type": "code",
        "outputId": "238eed1f-39aa-4b4e-8d4e-c4f3829d9844",
        "colab": {
          "base_uri": "https://localhost:8080/",
          "height": 129
        }
      },
      "source": [
        "!pip install unidecode"
      ],
      "execution_count": 2,
      "outputs": [
        {
          "output_type": "stream",
          "text": [
            "Collecting unidecode\n",
            "\u001b[?25l  Downloading https://files.pythonhosted.org/packages/d0/42/d9edfed04228bacea2d824904cae367ee9efd05e6cce7ceaaedd0b0ad964/Unidecode-1.1.1-py2.py3-none-any.whl (238kB)\n",
            "\r\u001b[K     |█▍                              | 10kB 14.2MB/s eta 0:00:01\r\u001b[K     |██▊                             | 20kB 6.9MB/s eta 0:00:01\r\u001b[K     |████▏                           | 30kB 8.1MB/s eta 0:00:01\r\u001b[K     |█████▌                          | 40kB 8.8MB/s eta 0:00:01\r\u001b[K     |██████▉                         | 51kB 7.1MB/s eta 0:00:01\r\u001b[K     |████████▎                       | 61kB 7.5MB/s eta 0:00:01\r\u001b[K     |█████████▋                      | 71kB 8.0MB/s eta 0:00:01\r\u001b[K     |███████████                     | 81kB 8.6MB/s eta 0:00:01\r\u001b[K     |████████████▍                   | 92kB 8.0MB/s eta 0:00:01\r\u001b[K     |█████████████▊                  | 102kB 8.2MB/s eta 0:00:01\r\u001b[K     |███████████████▏                | 112kB 8.2MB/s eta 0:00:01\r\u001b[K     |████████████████▌               | 122kB 8.2MB/s eta 0:00:01\r\u001b[K     |█████████████████▉              | 133kB 8.2MB/s eta 0:00:01\r\u001b[K     |███████████████████▎            | 143kB 8.2MB/s eta 0:00:01\r\u001b[K     |████████████████████▋           | 153kB 8.2MB/s eta 0:00:01\r\u001b[K     |██████████████████████          | 163kB 8.2MB/s eta 0:00:01\r\u001b[K     |███████████████████████▍        | 174kB 8.2MB/s eta 0:00:01\r\u001b[K     |████████████████████████▊       | 184kB 8.2MB/s eta 0:00:01\r\u001b[K     |██████████████████████████▏     | 194kB 8.2MB/s eta 0:00:01\r\u001b[K     |███████████████████████████▌    | 204kB 8.2MB/s eta 0:00:01\r\u001b[K     |████████████████████████████▉   | 215kB 8.2MB/s eta 0:00:01\r\u001b[K     |██████████████████████████████▎ | 225kB 8.2MB/s eta 0:00:01\r\u001b[K     |███████████████████████████████▋| 235kB 8.2MB/s eta 0:00:01\r\u001b[K     |████████████████████████████████| 245kB 8.2MB/s \n",
            "\u001b[?25hInstalling collected packages: unidecode\n",
            "Successfully installed unidecode-1.1.1\n"
          ],
          "name": "stdout"
        }
      ]
    },
    {
      "cell_type": "code",
      "metadata": {
        "id": "a6QM4kXKNNW6",
        "colab_type": "code",
        "colab": {}
      },
      "source": [
        "from unidecode import unidecode"
      ],
      "execution_count": 0,
      "outputs": []
    },
    {
      "cell_type": "code",
      "metadata": {
        "id": "fsiDDSZ6MzXB",
        "colab_type": "code",
        "colab": {}
      },
      "source": [
        "#data = pd.read_csv('final.csv')\n",
        "data = pd.read_csv('/content/drive/My Drive/BERT/CSV_FINAL_EQUALIZADO.csv')\n",
        "data = data.drop('Unnamed: 0', axis=1)\n",
        "#data['review_rate'] = data['review_rate'].fillna(' ')\n",
        "#data = data.fillna(data.mean())\n",
        "data = data.drop_duplicates(subset=['review_body'])"
      ],
      "execution_count": 0,
      "outputs": []
    },
    {
      "cell_type": "code",
      "metadata": {
        "id": "cuXMX7LqNSCy",
        "colab_type": "code",
        "outputId": "97b8485c-df0e-46e9-a750-91030d8e89cf",
        "colab": {
          "base_uri": "https://localhost:8080/",
          "height": 129
        }
      },
      "source": [
        "from google.colab import drive\n",
        "drive.mount('/content/drive')"
      ],
      "execution_count": 5,
      "outputs": [
        {
          "output_type": "stream",
          "text": [
            "Go to this URL in a browser: https://accounts.google.com/o/oauth2/auth?client_id=947318989803-6bn6qk8qdgf4n4g3pfee6491hc0brc4i.apps.googleusercontent.com&redirect_uri=urn%3aietf%3awg%3aoauth%3a2.0%3aoob&response_type=code&scope=email%20https%3a%2f%2fwww.googleapis.com%2fauth%2fdocs.test%20https%3a%2f%2fwww.googleapis.com%2fauth%2fdrive%20https%3a%2f%2fwww.googleapis.com%2fauth%2fdrive.photos.readonly%20https%3a%2f%2fwww.googleapis.com%2fauth%2fpeopleapi.readonly\n",
            "\n",
            "Enter your authorization code:\n",
            "··········\n",
            "Mounted at /content/drive\n"
          ],
          "name": "stdout"
        }
      ]
    },
    {
      "cell_type": "code",
      "metadata": {
        "id": "kFwTNcf5MzXx",
        "colab_type": "code",
        "outputId": "0271fd7a-0001-49d6-c0da-231c0c0d7fe9",
        "colab": {
          "base_uri": "https://localhost:8080/",
          "height": 127
        }
      },
      "source": [
        "data['review_rate'].value_counts()"
      ],
      "execution_count": 7,
      "outputs": [
        {
          "output_type": "execute_result",
          "data": {
            "text/plain": [
              "50    11580\n",
              "30    10558\n",
              "40     4847\n",
              "20     3335\n",
              "10     2534\n",
              "Name: review_rate, dtype: int64"
            ]
          },
          "metadata": {
            "tags": []
          },
          "execution_count": 7
        }
      ]
    },
    {
      "cell_type": "code",
      "metadata": {
        "id": "BXXL-yE5MzYZ",
        "colab_type": "code",
        "colab": {}
      },
      "source": [
        "def DATA_BINARIZADOR_RESULTADOS(data):\n",
        "    RESULTADO_BINARIO = []\n",
        "\n",
        "    for item in data['review_rate']:\n",
        "        if item < 40:\n",
        "            RESULTADO_BINARIO.append(0)\n",
        "        elif item >= 40:\n",
        "            RESULTADO_BINARIO.append(1)\n",
        "        else:\n",
        "            print(\"Deu feijoada aqui hein\")\n",
        "\n",
        "    data['RESULTADO_BINARIO'] = RESULTADO_BINARIO\n",
        "    return data"
      ],
      "execution_count": 0,
      "outputs": []
    },
    {
      "cell_type": "code",
      "metadata": {
        "id": "fOLgb_f3MzY6",
        "colab_type": "code",
        "outputId": "a779f511-9907-4b16-f510-384b056cec1b",
        "colab": {
          "base_uri": "https://localhost:8080/",
          "height": 206
        }
      },
      "source": [
        "\n",
        "data = DATA_BINARIZADOR_RESULTADOS(data)\n",
        "data.head()"
      ],
      "execution_count": 9,
      "outputs": [
        {
          "output_type": "execute_result",
          "data": {
            "text/html": [
              "<div>\n",
              "<style scoped>\n",
              "    .dataframe tbody tr th:only-of-type {\n",
              "        vertical-align: middle;\n",
              "    }\n",
              "\n",
              "    .dataframe tbody tr th {\n",
              "        vertical-align: top;\n",
              "    }\n",
              "\n",
              "    .dataframe thead th {\n",
              "        text-align: right;\n",
              "    }\n",
              "</style>\n",
              "<table border=\"1\" class=\"dataframe\">\n",
              "  <thead>\n",
              "    <tr style=\"text-align: right;\">\n",
              "      <th></th>\n",
              "      <th>review_rate</th>\n",
              "      <th>review_body</th>\n",
              "      <th>RESULTADO_BINARIO</th>\n",
              "    </tr>\n",
              "  </thead>\n",
              "  <tbody>\n",
              "    <tr>\n",
              "      <th>0</th>\n",
              "      <td>50</td>\n",
              "      <td>Excelente experiência !! Atendimento impecável...</td>\n",
              "      <td>1</td>\n",
              "    </tr>\n",
              "    <tr>\n",
              "      <th>1</th>\n",
              "      <td>30</td>\n",
              "      <td>Local agradável, porém, já fui em melhores, co...</td>\n",
              "      <td>0</td>\n",
              "    </tr>\n",
              "    <tr>\n",
              "      <th>2</th>\n",
              "      <td>50</td>\n",
              "      <td>Esta é a “milésima” vez que venho a este resta...</td>\n",
              "      <td>1</td>\n",
              "    </tr>\n",
              "    <tr>\n",
              "      <th>3</th>\n",
              "      <td>40</td>\n",
              "      <td>O local, o atendimento e a comida, sensacionai...</td>\n",
              "      <td>1</td>\n",
              "    </tr>\n",
              "    <tr>\n",
              "      <th>4</th>\n",
              "      <td>50</td>\n",
              "      <td>Comida espetacular, atendimento ímpar! Frank e...</td>\n",
              "      <td>1</td>\n",
              "    </tr>\n",
              "  </tbody>\n",
              "</table>\n",
              "</div>"
            ],
            "text/plain": [
              "   review_rate  ... RESULTADO_BINARIO\n",
              "0           50  ...                 1\n",
              "1           30  ...                 0\n",
              "2           50  ...                 1\n",
              "3           40  ...                 1\n",
              "4           50  ...                 1\n",
              "\n",
              "[5 rows x 3 columns]"
            ]
          },
          "metadata": {
            "tags": []
          },
          "execution_count": 9
        }
      ]
    },
    {
      "cell_type": "code",
      "metadata": {
        "id": "m4OIBWzaMzZc",
        "colab_type": "code",
        "colab": {}
      },
      "source": [
        "def clear_text(text):\n",
        "    #remove pontuacao, palavras com numeros, deixa o texto em caixa baixa e remove o texto entre colchetes\n",
        "    text = text.lower()\n",
        "    text = re.sub('\\[.*?\\]', '', text)\n",
        "    text = re.sub('[%s]' % re.escape(string.punctuation), '', text)\n",
        "    text = re.sub('\\w*\\d\\w*', '', text)\n",
        "    text = unidecode(text)\n",
        "    return text"
      ],
      "execution_count": 0,
      "outputs": []
    },
    {
      "cell_type": "code",
      "metadata": {
        "id": "gEJ7wvQYMzZ6",
        "colab_type": "code",
        "colab": {}
      },
      "source": [
        "clear = lambda x: clear_text(x)\n",
        "data_clean = pd.DataFrame(data.review_body.apply(clear))\n",
        "#data_clean['review_rate'] = data['review_rate'].values\n",
        "data_clean['RESULTADO_BINARIO'] = data['RESULTADO_BINARIO'].values\n"
      ],
      "execution_count": 0,
      "outputs": []
    },
    {
      "cell_type": "code",
      "metadata": {
        "id": "USB3vUywMzaQ",
        "colab_type": "code",
        "colab": {}
      },
      "source": [
        "X_train, X_test, y_train, y_test = train_test_split(data_clean[['review_body']], data_clean['RESULTADO_BINARIO'], test_size=0.20, random_state=40)"
      ],
      "execution_count": 0,
      "outputs": []
    },
    {
      "cell_type": "code",
      "metadata": {
        "id": "tXzwbE-dMzap",
        "colab_type": "code",
        "colab": {}
      },
      "source": [
        "t_vector = TfidfVectorizer()\n",
        "t_vector.fit(data_clean['review_body'])\n",
        "train_X = t_vector.transform(X_train['review_body'])\n",
        "test_X = t_vector.transform(X_test['review_body'])\n"
      ],
      "execution_count": 0,
      "outputs": []
    },
    {
      "cell_type": "code",
      "metadata": {
        "id": "UhEETpV_MzbG",
        "colab_type": "code",
        "colab": {}
      },
      "source": [
        "def validar(model, model_name, y, pred):\n",
        "    print(\"Os escores do \", model_name,\" são:\")\n",
        "    print(' acc = ', accuracy_score(y, pred), (\"\\n\"),\n",
        "      'prec = ', precision_score(y, pred), (\"\\n\"),\n",
        "      'recall = ', recall_score(y, pred), (\"\\n\"),\n",
        "      'f1 = ', f1_score(y, pred))\n",
        "\n",
        "    fpr, tpr, threshold = roc_curve(y, pred)\n",
        "    roc_auc = auc(fpr, tpr)\n",
        "    print(' auc = ', roc_auc)\n",
        "    return True"
      ],
      "execution_count": 0,
      "outputs": []
    },
    {
      "cell_type": "markdown",
      "metadata": {
        "id": "etfC8uIFMzbg",
        "colab_type": "text"
      },
      "source": [
        "<h1>Modelos</h1>"
      ]
    },
    {
      "cell_type": "markdown",
      "metadata": {
        "id": "C1RMgnffMzbn",
        "colab_type": "text"
      },
      "source": [
        "<h2> Regressão Logística </h2>"
      ]
    },
    {
      "cell_type": "markdown",
      "metadata": {
        "id": "ddF9sowOMzbs",
        "colab_type": "text"
      },
      "source": [
        "<h2>Treino</h2>"
      ]
    },
    {
      "cell_type": "code",
      "metadata": {
        "id": "ndCVIQ24Mzb5",
        "colab_type": "code",
        "outputId": "b89526f2-3ad2-4c66-84ac-12dcf8411a64",
        "colab": {
          "base_uri": "https://localhost:8080/",
          "height": 109
        }
      },
      "source": [
        "log = LogisticRegression()\n",
        "log.fit(train_X, y_train)\n",
        "log_pred = log.predict(train_X)\n",
        "\n",
        "\n",
        "print(' acc = ', accuracy_score(y_train, log_pred), (\"\\n\"),\n",
        "      'prec = ', precision_score(y_train, log_pred), (\"\\n\"),\n",
        "      'recall = ', recall_score(y_train, log_pred), (\"\\n\"),\n",
        "      'f1 = ', f1_score(y_train, log_pred))\n",
        "\n",
        "fpr, tpr, threshold = roc_curve(y_train, log_pred)\n",
        "roc_auc = auc(fpr, tpr)\n",
        "print(' auc = ', roc_auc)\n"
      ],
      "execution_count": 0,
      "outputs": [
        {
          "output_type": "stream",
          "text": [
            " acc =  0.9125290111478903 \n",
            " prec =  0.916973886328725 \n",
            " recall =  0.9074257049479365 \n",
            " f1 =  0.912174809947664\n",
            " auc =  0.912535037450351\n"
          ],
          "name": "stdout"
        }
      ]
    },
    {
      "cell_type": "markdown",
      "metadata": {
        "id": "loWHwl8HMzcY",
        "colab_type": "text"
      },
      "source": [
        "<h2>Teste</h2>"
      ]
    },
    {
      "cell_type": "code",
      "metadata": {
        "id": "O28fMNNfMzcc",
        "colab_type": "code",
        "outputId": "f74813b6-f61b-4351-aa32-813ce6263391",
        "colab": {
          "base_uri": "https://localhost:8080/",
          "height": 109
        }
      },
      "source": [
        "log_pred_test = log.predict(test_X)\n",
        "\n",
        "print(' acc = ', accuracy_score(y_test, log_pred_test), (\"\\n\"),\n",
        "      'prec = ', precision_score(y_test, log_pred_test), (\"\\n\"),\n",
        "      'recall = ', recall_score(y_test, log_pred_test), (\"\\n\"),\n",
        "      'f1 = ', f1_score(y_test, log_pred_test))\n",
        "\n",
        "fpr, tpr, threshold = roc_curve(y_test, log_pred_test)\n",
        "roc_auc = auc(fpr, tpr)\n",
        "print(' auc = ', roc_auc)\n"
      ],
      "execution_count": 0,
      "outputs": [
        {
          "output_type": "stream",
          "text": [
            " acc =  0.8828184446811749 \n",
            " prec =  0.8874767513949163 \n",
            " recall =  0.8755351681957186 \n",
            " f1 =  0.8814655172413793\n",
            " auc =  0.8827842457155509\n"
          ],
          "name": "stdout"
        }
      ]
    },
    {
      "cell_type": "markdown",
      "metadata": {
        "id": "Otr4PHrdMzc_",
        "colab_type": "text"
      },
      "source": [
        "<h2>Random Forest otimizando default</h2>"
      ]
    },
    {
      "cell_type": "code",
      "metadata": {
        "id": "gSsyOt1JMzdC",
        "colab_type": "code",
        "outputId": "f4ac48a8-97fe-4d11-be7c-db59c3e313dc",
        "colab": {
          "base_uri": "https://localhost:8080/",
          "height": 164
        }
      },
      "source": [
        "def random_grid(x, labels):\n",
        "    param_grid = [\n",
        "    {'n_estimators': [3, 10, 30], 'max_features': [2,4,6,8]}, \n",
        "    {'bootstrap': [False], 'n_estimators': [3,10], 'max_features': [2, 3, 4]},\n",
        "    ]   \n",
        "    grid_search = GridSearchCV(RandomForestClassifier(), param_grid, cv=5)\n",
        "    grid_search.fit(x, labels)\n",
        "    print(grid_search.best_estimator_)\n",
        "    return grid_search.best_estimator_\n",
        "\n",
        "model = random_grid(train_X, y_train)"
      ],
      "execution_count": 0,
      "outputs": [
        {
          "output_type": "stream",
          "text": [
            "RandomForestClassifier(bootstrap=True, ccp_alpha=0.0, class_weight=None,\n",
            "                       criterion='gini', max_depth=None, max_features=8,\n",
            "                       max_leaf_nodes=None, max_samples=None,\n",
            "                       min_impurity_decrease=0.0, min_impurity_split=None,\n",
            "                       min_samples_leaf=1, min_samples_split=2,\n",
            "                       min_weight_fraction_leaf=0.0, n_estimators=30,\n",
            "                       n_jobs=None, oob_score=False, random_state=None,\n",
            "                       verbose=0, warm_start=False)\n"
          ],
          "name": "stdout"
        }
      ]
    },
    {
      "cell_type": "markdown",
      "metadata": {
        "id": "qI2-esRoMzdY",
        "colab_type": "text"
      },
      "source": [
        "<h2>Treino</h2>"
      ]
    },
    {
      "cell_type": "code",
      "metadata": {
        "id": "TpDQGDNjMzdd",
        "colab_type": "code",
        "outputId": "6ccc11f6-5558-49e9-9518-39a828d80044",
        "colab": {
          "base_uri": "https://localhost:8080/",
          "height": 109
        }
      },
      "source": [
        "rf_pred = model.predict(train_X)\n",
        "print(' acc = ', accuracy_score(y_train, rf_pred), (\"\\n\"),\n",
        "      'prec = ', precision_score(y_train, rf_pred), (\"\\n\"),\n",
        "      'recall = ', recall_score(y_train, rf_pred), (\"\\n\"),\n",
        "      'f1 = ', f1_score(y_train, rf_pred))\n",
        "\n",
        "fpr, tpr, threshold = roc_curve(y_train, rf_pred)\n",
        "roc_auc = auc(fpr, tpr)\n",
        "print(' auc = ', roc_auc)"
      ],
      "execution_count": 0,
      "outputs": [
        {
          "output_type": "stream",
          "text": [
            " acc =  0.9998478103717232 \n",
            " prec =  0.9999239832763208 \n",
            " recall =  0.9997719844949456 \n",
            " f1 =  0.9998479781088476\n",
            " auc =  0.9998478999116508\n"
          ],
          "name": "stdout"
        }
      ]
    },
    {
      "cell_type": "markdown",
      "metadata": {
        "id": "sfvlICi5Mzd0",
        "colab_type": "text"
      },
      "source": [
        "<h2>Teste</h2>"
      ]
    },
    {
      "cell_type": "code",
      "metadata": {
        "id": "Mcx47YzoMzd5",
        "colab_type": "code",
        "outputId": "abff09f8-9a17-467e-a40a-45c44473804a",
        "colab": {
          "base_uri": "https://localhost:8080/",
          "height": 109
        }
      },
      "source": [
        "rf_pred_test = model.predict(test_X)\n",
        "print(' acc = ', round(accuracy_score(y_test, rf_pred_test), 5), (\"\\n\"),\n",
        "      'prec = ', round(precision_score(y_test, rf_pred_test), 5), (\"\\n\"),\n",
        "      'recall = ', round(recall_score(y_test, rf_pred_test), 5), (\"\\n\"),\n",
        "      'f1 = ', round(f1_score(y_test, rf_pred_test), 5))\n",
        "\n",
        "fpr, tpr, threshold = roc_curve(y_test, rf_pred_test)\n",
        "roc_auc = auc(fpr, tpr)\n",
        "print(' auc = ', round(roc_auc, 5))"
      ],
      "execution_count": 0,
      "outputs": [
        {
          "output_type": "stream",
          "text": [
            " acc =  0.81373 \n",
            " prec =  0.80888 \n",
            " recall =  0.81927 \n",
            " f1 =  0.81404\n",
            " auc =  0.81375\n"
          ],
          "name": "stdout"
        }
      ]
    },
    {
      "cell_type": "markdown",
      "metadata": {
        "id": "kWq9GJWFMzeK",
        "colab_type": "text"
      },
      "source": [
        "<h2>Random Forest: grid seach otimizando acurácia</h2>"
      ]
    },
    {
      "cell_type": "code",
      "metadata": {
        "id": "ZYuRopTbMzeQ",
        "colab_type": "code",
        "outputId": "295e9868-68ef-472f-adc9-ba16035f07a1",
        "colab": {
          "base_uri": "https://localhost:8080/",
          "height": 164
        }
      },
      "source": [
        "def random_grid(x, labels):\n",
        "    param_grid = [\n",
        "    {'n_estimators': [3, 10, 30], 'max_features': [2,4,6,8]}, \n",
        "    {'bootstrap': [False], 'n_estimators': [3,10], 'max_features': [2, 3, 4]},\n",
        "    ]   \n",
        "    grid_search = GridSearchCV(RandomForestClassifier(), param_grid, cv=5, scoring='accuracy')\n",
        "    grid_search.fit(x, labels)\n",
        "    print(grid_search.best_estimator_)\n",
        "    return grid_search.best_estimator_\n",
        "\n",
        "model = random_grid(train_X, y_train)"
      ],
      "execution_count": 0,
      "outputs": [
        {
          "output_type": "stream",
          "text": [
            "RandomForestClassifier(bootstrap=True, ccp_alpha=0.0, class_weight=None,\n",
            "                       criterion='gini', max_depth=None, max_features=4,\n",
            "                       max_leaf_nodes=None, max_samples=None,\n",
            "                       min_impurity_decrease=0.0, min_impurity_split=None,\n",
            "                       min_samples_leaf=1, min_samples_split=2,\n",
            "                       min_weight_fraction_leaf=0.0, n_estimators=30,\n",
            "                       n_jobs=None, oob_score=False, random_state=None,\n",
            "                       verbose=0, warm_start=False)\n"
          ],
          "name": "stdout"
        }
      ]
    },
    {
      "cell_type": "markdown",
      "metadata": {
        "id": "3En6yK5ZMzeh",
        "colab_type": "text"
      },
      "source": [
        "<h2>Treino</h2>"
      ]
    },
    {
      "cell_type": "code",
      "metadata": {
        "id": "cFp37lHKMzel",
        "colab_type": "code",
        "outputId": "37dd599f-20a1-47a4-b4f2-be461b1af5dc",
        "colab": {
          "base_uri": "https://localhost:8080/",
          "height": 109
        }
      },
      "source": [
        "rf_pred = model.predict(train_X)\n",
        "print(' acc = ', accuracy_score(y_train, rf_pred), (\"\\n\"),\n",
        "      'prec = ', precision_score(y_train, rf_pred), (\"\\n\"),\n",
        "      'recall = ', recall_score(y_train, rf_pred), (\"\\n\"),\n",
        "      'f1 = ', f1_score(y_train, rf_pred))\n",
        "\n",
        "fpr, tpr, threshold = roc_curve(y_train, rf_pred)\n",
        "roc_auc = auc(fpr, tpr)\n",
        "print(' auc = ', roc_auc)"
      ],
      "execution_count": 0,
      "outputs": [
        {
          "output_type": "stream",
          "text": [
            " acc =  0.9998858577787924 \n",
            " prec =  1.0 \n",
            " recall =  0.9997719844949456 \n",
            " f1 =  0.9998859792482232\n",
            " auc =  0.9998859922474728\n"
          ],
          "name": "stdout"
        }
      ]
    },
    {
      "cell_type": "markdown",
      "metadata": {
        "id": "4pIee_UOMze5",
        "colab_type": "text"
      },
      "source": [
        "<h2>Teste</h2>"
      ]
    },
    {
      "cell_type": "code",
      "metadata": {
        "id": "UYeTvuvuMze-",
        "colab_type": "code",
        "outputId": "b17e7096-3336-4c4e-ebfc-a839722049e4",
        "colab": {
          "base_uri": "https://localhost:8080/",
          "height": 109
        }
      },
      "source": [
        "rf_pred_test = model.predict(test_X)\n",
        "print(' acc = ', round(accuracy_score(y_test, rf_pred_test), 5), (\"\\n\"),\n",
        "      'prec = ', round(precision_score(y_test, rf_pred_test), 5), (\"\\n\"),\n",
        "      'recall = ', round(recall_score(y_test, rf_pred_test), 5), (\"\\n\"),\n",
        "      'f1 = ', round(f1_score(y_test, rf_pred_test), 5))\n",
        "\n",
        "fpr, tpr, threshold = roc_curve(y_test, rf_pred_test)\n",
        "roc_auc = auc(fpr, tpr)\n",
        "print(' auc = ', round(roc_auc, 5))"
      ],
      "execution_count": 0,
      "outputs": [
        {
          "output_type": "stream",
          "text": [
            " acc =  0.81236 \n",
            " prec =  0.81601 \n",
            " recall =  0.80428 \n",
            " f1 =  0.8101\n",
            " auc =  0.81232\n"
          ],
          "name": "stdout"
        }
      ]
    },
    {
      "cell_type": "markdown",
      "metadata": {
        "id": "UMwR8y1RMzfS",
        "colab_type": "text"
      },
      "source": [
        "<h2>Random Forest otimizando AUC </h2>"
      ]
    },
    {
      "cell_type": "code",
      "metadata": {
        "id": "IhXieQR9MzfW",
        "colab_type": "code",
        "outputId": "6273281e-3014-4e88-f5e4-5563f9cd2dc2",
        "colab": {
          "base_uri": "https://localhost:8080/",
          "height": 164
        }
      },
      "source": [
        "def random_grid(x, labels):\n",
        "    param_grid = [\n",
        "    {'n_estimators': [3, 10, 30], 'max_features': [2,4,6,8]}, \n",
        "    {'bootstrap': [False], 'n_estimators': [3,10], 'max_features': [2, 3, 4]},\n",
        "    ]   \n",
        "    grid_search = GridSearchCV(RandomForestClassifier(), param_grid, cv=5, scoring='roc_auc')\n",
        "    grid_search.fit(x, labels)\n",
        "    print(grid_search.best_estimator_)\n",
        "    return grid_search.best_estimator_\n",
        "\n",
        "model = random_grid(train_X, y_train)"
      ],
      "execution_count": 0,
      "outputs": [
        {
          "output_type": "stream",
          "text": [
            "RandomForestClassifier(bootstrap=True, ccp_alpha=0.0, class_weight=None,\n",
            "                       criterion='gini', max_depth=None, max_features=8,\n",
            "                       max_leaf_nodes=None, max_samples=None,\n",
            "                       min_impurity_decrease=0.0, min_impurity_split=None,\n",
            "                       min_samples_leaf=1, min_samples_split=2,\n",
            "                       min_weight_fraction_leaf=0.0, n_estimators=30,\n",
            "                       n_jobs=None, oob_score=False, random_state=None,\n",
            "                       verbose=0, warm_start=False)\n"
          ],
          "name": "stdout"
        }
      ]
    },
    {
      "cell_type": "markdown",
      "metadata": {
        "id": "sZg3cOF6Mzft",
        "colab_type": "text"
      },
      "source": [
        "<h2>Treino</h2>"
      ]
    },
    {
      "cell_type": "code",
      "metadata": {
        "id": "nw6s8Qy1Mzfy",
        "colab_type": "code",
        "outputId": "26543e71-6e11-4c85-be92-377f8bd429b9",
        "colab": {
          "base_uri": "https://localhost:8080/",
          "height": 109
        }
      },
      "source": [
        "rf_pred = model.predict(train_X)\n",
        "print(' acc = ', accuracy_score(y_train, rf_pred), (\"\\n\"),\n",
        "      'prec = ', precision_score(y_train, rf_pred), (\"\\n\"),\n",
        "      'recall = ', recall_score(y_train, rf_pred), (\"\\n\"),\n",
        "      'f1 = ', f1_score(y_train, rf_pred))\n",
        "\n",
        "fpr, tpr, threshold = roc_curve(y_train, rf_pred)\n",
        "roc_auc = auc(fpr, tpr)\n",
        "print(' auc = ', roc_auc)"
      ],
      "execution_count": 0,
      "outputs": [
        {
          "output_type": "stream",
          "text": [
            " acc =  0.999809762964654 \n",
            " prec =  0.9997720018239854 \n",
            " recall =  0.9998479896632971 \n",
            " f1 =  0.999809994299829\n",
            " auc =  0.9998097178241825\n"
          ],
          "name": "stdout"
        }
      ]
    },
    {
      "cell_type": "markdown",
      "metadata": {
        "id": "Sc_gPmU6MzgI",
        "colab_type": "text"
      },
      "source": [
        "<h2>Teste</h2>"
      ]
    },
    {
      "cell_type": "code",
      "metadata": {
        "id": "H-QoaeYFMzgL",
        "colab_type": "code",
        "outputId": "eb636226-30ad-44e1-be0c-0d899cc9d5c1",
        "colab": {
          "base_uri": "https://localhost:8080/",
          "height": 109
        }
      },
      "source": [
        "rf_pred_test = model.predict(test_X)\n",
        "print(' acc = ', round(accuracy_score(y_test, rf_pred_test), 5), (\"\\n\"),\n",
        "      'prec = ', round(precision_score(y_test, rf_pred_test), 5), (\"\\n\"),\n",
        "      'recall = ', round(recall_score(y_test, rf_pred_test), 5), (\"\\n\"),\n",
        "      'f1 = ', round(f1_score(y_test, rf_pred_test), 5))\n",
        "\n",
        "fpr, tpr, threshold = roc_curve(y_test, rf_pred_test)\n",
        "roc_auc = auc(fpr, tpr)\n",
        "print(' auc = ', round(roc_auc, 5))"
      ],
      "execution_count": 0,
      "outputs": [
        {
          "output_type": "stream",
          "text": [
            " acc =  0.81205 \n",
            " prec =  0.81747 \n",
            " recall =  0.80122 \n",
            " f1 =  0.80927\n",
            " auc =  0.812\n"
          ],
          "name": "stdout"
        }
      ]
    },
    {
      "cell_type": "markdown",
      "metadata": {
        "id": "pCiaaFdKMzgo",
        "colab_type": "text"
      },
      "source": [
        "<h2>SVM otimizando default</h2>"
      ]
    },
    {
      "cell_type": "code",
      "metadata": {
        "id": "5g1H8KXoMzgr",
        "colab_type": "code",
        "colab": {}
      },
      "source": [
        "def svm_grid(x, labels):\n",
        "    param_grid = [\n",
        "    {'kernel': ['rbf', 'sigmoid'],\n",
        "        'C': [0.1, 1.0, 10.0, 100.0],\n",
        "        'degree': [1, 2, 3, 4]}\n",
        "    ]   \n",
        "    grid_search = GridSearchCV(SVC(), param_grid, cv=5)\n",
        "    grid_search.fit(x, labels)\n",
        "    print(grid_search.best_estimator_)\n",
        "    return grid_search.best_estimator_\n",
        "\n",
        "model_svc = svm_grid(train_X, y_train)"
      ],
      "execution_count": 0,
      "outputs": []
    },
    {
      "cell_type": "markdown",
      "metadata": {
        "id": "6cGsiadrMzhB",
        "colab_type": "text"
      },
      "source": [
        "<h2>Treino</h2>"
      ]
    },
    {
      "cell_type": "code",
      "metadata": {
        "id": "G1HZhZ3sMzhE",
        "colab_type": "code",
        "colab": {}
      },
      "source": [
        "svm_pred = model.predict(train_X)\n",
        "print(' acc = ', round(accuracy_score(y_train, svm_pred), 5), (\"\\n\"),\n",
        "      'prec = ', round(precision_score(y_train, svm_pred), 5), (\"\\n\"),\n",
        "      'recall = ', round(recall_score(y_train, svm_pred), 5), (\"\\n\"),\n",
        "      'f1 = ', round(f1_score(y_train, svm_pred), 5))\n",
        "\n",
        "fpr, tpr, threshold = roc_curve(y_train, svm_pred)\n",
        "roc_auc = auc(fpr, tpr)\n",
        "print(' auc = ', round(roc_auc, 5))"
      ],
      "execution_count": 0,
      "outputs": []
    },
    {
      "cell_type": "markdown",
      "metadata": {
        "id": "LkidcHoHMzhZ",
        "colab_type": "text"
      },
      "source": [
        "<h2>Teste</h2>"
      ]
    },
    {
      "cell_type": "code",
      "metadata": {
        "id": "zCBa4fXjMzhd",
        "colab_type": "code",
        "colab": {}
      },
      "source": [
        "svm_pred_test = model.predict(test_X)\n",
        "print(' acc = ', round(accuracy_score(y_test, svm_pred_test), 5), (\"\\n\"),\n",
        "      'prec = ', round(precision_score(y_test, svm_pred_test), 5), (\"\\n\"),\n",
        "      'recall = ', round(recall_score(y_test, svm_pred_test), 5), (\"\\n\"),\n",
        "      'f1 = ', round(f1_score(y_test, svm_pred_test), 5))\n",
        "\n",
        "fpr, tpr, threshold = roc_curve(y_test, svm_pred_test)\n",
        "roc_auc = auc(fpr, tpr)\n",
        "print(' auc = ', round(roc_auc, 5))"
      ],
      "execution_count": 0,
      "outputs": []
    },
    {
      "cell_type": "markdown",
      "metadata": {
        "id": "_DPmz2VHMzh0",
        "colab_type": "text"
      },
      "source": [
        "<h2>SVM otimizando acurácia</h2>"
      ]
    },
    {
      "cell_type": "code",
      "metadata": {
        "id": "eziYLGEwMzh3",
        "colab_type": "code",
        "colab": {}
      },
      "source": [
        "def svm_grid(x, labels):\n",
        "    param_grid = [\n",
        "    {'kernel': ['rbf', 'sigmoid'],\n",
        "        'C': [0.1, 1.0, 10.0, 100.0],\n",
        "        'degree': [1, 2, 3]}\n",
        "    ]   \n",
        "    grid_search = GridSearchCV(SVC(), param_grid, cv=5, scoring='accuracy')\n",
        "    grid_search.fit(x, labels)\n",
        "    print(grid_search.best_estimator_)\n",
        "    return grid_search.best_estimator_\n",
        "\n",
        "model_svc = svm_grid(train_X, y_train)"
      ],
      "execution_count": 0,
      "outputs": []
    },
    {
      "cell_type": "code",
      "metadata": {
        "id": "xLlytdH7MziJ",
        "colab_type": "code",
        "colab": {}
      },
      "source": [
        "SVC().get_params().keys() #os parametros que dá pra alterar"
      ],
      "execution_count": 0,
      "outputs": []
    },
    {
      "cell_type": "markdown",
      "metadata": {
        "id": "5_xgajNeMziZ",
        "colab_type": "text"
      },
      "source": [
        "<h2>Treino</h2>"
      ]
    },
    {
      "cell_type": "code",
      "metadata": {
        "id": "28U47RmOMzic",
        "colab_type": "code",
        "colab": {}
      },
      "source": [
        "svm_pred = model.predict(train_X)\n",
        "print(' acc = ', round(accuracy_score(y_train, svm_pred), 5), (\"\\n\"),\n",
        "      'prec = ', round(precision_score(y_train, svm_pred), 5), (\"\\n\"),\n",
        "      'recall = ', round(recall_score(y_train, svm_pred), 5), (\"\\n\"),\n",
        "      'f1 = ', round(f1_score(y_train, svm_pred), 5))\n",
        "\n",
        "fpr, tpr, threshold = roc_curve(y_train, svm_pred)\n",
        "roc_auc = auc(fpr, tpr)\n",
        "print(' auc = ', round(roc_auc, 5))"
      ],
      "execution_count": 0,
      "outputs": []
    },
    {
      "cell_type": "markdown",
      "metadata": {
        "id": "wZ-dEraSMzix",
        "colab_type": "text"
      },
      "source": [
        "<h2>Teste</h2>"
      ]
    },
    {
      "cell_type": "code",
      "metadata": {
        "id": "fuOwqoFFMzi1",
        "colab_type": "code",
        "colab": {}
      },
      "source": [
        "svm_pred_test = model.predict(test_X)\n",
        "print(' acc = ', round(accuracy_score(y_test, svm_pred_test), 5), (\"\\n\"),\n",
        "      'prec = ', round(precision_score(y_test, svm_pred_test), 5), (\"\\n\"),\n",
        "      'recall = ', round(recall_score(y_test, svm_pred_test), 5), (\"\\n\"),\n",
        "      'f1 = ', round(f1_score(y_test, svm_pred_test), 5))\n",
        "\n",
        "fpr, tpr, threshold = roc_curve(y_test, svm_pred_test)\n",
        "roc_auc = auc(fpr, tpr)\n",
        "print(' auc = ', round(roc_auc, 5))"
      ],
      "execution_count": 0,
      "outputs": []
    },
    {
      "cell_type": "code",
      "metadata": {
        "id": "IWLep8iXMzjF",
        "colab_type": "code",
        "colab": {}
      },
      "source": [
        "#refazendo os grid search, optando por otimizar a auc"
      ],
      "execution_count": 0,
      "outputs": []
    },
    {
      "cell_type": "markdown",
      "metadata": {
        "id": "CQOczV_gMzjW",
        "colab_type": "text"
      },
      "source": [
        "<h2>SVM otimizando AUC</h2>"
      ]
    },
    {
      "cell_type": "code",
      "metadata": {
        "id": "fFoDNmClMzja",
        "colab_type": "code",
        "colab": {}
      },
      "source": [
        "def svm_grid(x, labels):\n",
        "    param_grid = [\n",
        "    {'kernel': ['rbf', 'sigmoid'],\n",
        "        'C': [0.1, 1.0, 10.0, 100.0],\n",
        "        'degree': [1, 2, 3, 4]}\n",
        "    ]   \n",
        "    grid_search = GridSearchCV(SVC(), param_grid, cv=5, scoring='roc_auc')\n",
        "    grid_search.fit(x, labels)\n",
        "    print(grid_search.best_estimator_)\n",
        "    return grid_search.best_estimator_\n",
        "\n",
        "model_svc = svm_grid(train_X, y_train)"
      ],
      "execution_count": 0,
      "outputs": []
    },
    {
      "cell_type": "markdown",
      "metadata": {
        "id": "I3xf_-6bMzjr",
        "colab_type": "text"
      },
      "source": [
        "<h2>Treino</h2>"
      ]
    },
    {
      "cell_type": "code",
      "metadata": {
        "id": "WxeUG76AMzj1",
        "colab_type": "code",
        "colab": {}
      },
      "source": [
        "svm_pred = model.predict(train_X)\n",
        "print(' acc = ', round(accuracy_score(y_train, svm_pred), 5), (\"\\n\"),\n",
        "      'prec = ', round(precision_score(y_train, svm_pred), 5), (\"\\n\"),\n",
        "      'recall = ', round(recall_score(y_train, svm_pred), 5), (\"\\n\"),\n",
        "      'f1 = ', round(f1_score(y_train, svm_pred), 5))\n",
        "\n",
        "fpr, tpr, threshold = roc_curve(y_train, svm_pred)\n",
        "roc_auc = auc(fpr, tpr)\n",
        "print(' auc = ', round(roc_auc, 5))"
      ],
      "execution_count": 0,
      "outputs": []
    },
    {
      "cell_type": "markdown",
      "metadata": {
        "id": "SsEYSKuTMzkL",
        "colab_type": "text"
      },
      "source": [
        "<h2>Teste</h2>"
      ]
    },
    {
      "cell_type": "code",
      "metadata": {
        "id": "BZlG79o7MzkP",
        "colab_type": "code",
        "colab": {}
      },
      "source": [
        "svm_pred_test = model.predict(test_X)\n",
        "print(' acc = ', round(accuracy_score(y_test, svm_pred_test), 5), (\"\\n\"),\n",
        "      'prec = ', round(precision_score(y_test, svm_pred_test), 5), (\"\\n\"),\n",
        "      'recall = ', round(recall_score(y_test, svm_pred_test), 5), (\"\\n\"),\n",
        "      'f1 = ', round(f1_score(y_test, svm_pred_test), 5))\n",
        "\n",
        "fpr, tpr, threshold = roc_curve(y_test, svm_pred_test)\n",
        "roc_auc = auc(fpr, tpr)\n",
        "print(' auc = ', round(roc_auc, 5))"
      ],
      "execution_count": 0,
      "outputs": []
    },
    {
      "cell_type": "code",
      "metadata": {
        "id": "wXYWkSMRMzkf",
        "colab_type": "code",
        "colab": {}
      },
      "source": [
        ""
      ],
      "execution_count": 0,
      "outputs": []
    }
  ]
}
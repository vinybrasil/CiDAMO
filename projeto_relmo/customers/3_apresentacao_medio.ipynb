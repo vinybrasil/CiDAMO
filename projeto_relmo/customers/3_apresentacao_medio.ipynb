{
  "nbformat": 4,
  "nbformat_minor": 0,
  "metadata": {
    "colab": {
      "name": "3_apresentacao_medio.ipynb",
      "provenance": [],
      "collapsed_sections": [],
      "mount_file_id": "1jgMWLoSUZEJseuvUGzRk2LyFnf-6kE-9",
      "authorship_tag": "ABX9TyONMMGtjC0V88uKpNAOtO0m",
      "include_colab_link": true
    },
    "kernelspec": {
      "name": "python3",
      "display_name": "Python 3"
    }
  },
  "cells": [
    {
      "cell_type": "markdown",
      "metadata": {
        "id": "view-in-github",
        "colab_type": "text"
      },
      "source": [
        "<a href=\"https://colab.research.google.com/github/vinybrasil/CiDAMO/blob/master/projeto_relmo/customers/3_apresentacao_medio.ipynb\" target=\"_parent\"><img src=\"https://colab.research.google.com/assets/colab-badge.svg\" alt=\"Open In Colab\"/></a>"
      ]
    },
    {
      "cell_type": "code",
      "metadata": {
        "id": "hXcDZOKHDpMG",
        "colab_type": "code",
        "colab": {}
      },
      "source": [
        "import pandas as pd\n",
        "import matplotlib.pyplot as plt\n",
        "import numpy as np"
      ],
      "execution_count": 1,
      "outputs": []
    },
    {
      "cell_type": "code",
      "metadata": {
        "id": "fg8G4JIkEkfY",
        "colab_type": "code",
        "colab": {
          "base_uri": "https://localhost:8080/",
          "height": 424
        },
        "outputId": "9aa24729-d88d-499a-c5b1-54e213dd7700"
      },
      "source": [
        "recibos = pd.read_csv(\"/content/drive/My Drive/projeto_relmo/df_cliente_recibos_total.csv\", index_col='Unnamed: 0')\n",
        "recibos"
      ],
      "execution_count": 5,
      "outputs": [
        {
          "output_type": "execute_result",
          "data": {
            "text/html": [
              "<div>\n",
              "<style scoped>\n",
              "    .dataframe tbody tr th:only-of-type {\n",
              "        vertical-align: middle;\n",
              "    }\n",
              "\n",
              "    .dataframe tbody tr th {\n",
              "        vertical-align: top;\n",
              "    }\n",
              "\n",
              "    .dataframe thead th {\n",
              "        text-align: right;\n",
              "    }\n",
              "</style>\n",
              "<table border=\"1\" class=\"dataframe\">\n",
              "  <thead>\n",
              "    <tr style=\"text-align: right;\">\n",
              "      <th></th>\n",
              "      <th>cliente</th>\n",
              "      <th>gasto_neste_recibo</th>\n",
              "    </tr>\n",
              "  </thead>\n",
              "  <tbody>\n",
              "    <tr>\n",
              "      <th>536365</th>\n",
              "      <td>17850.0</td>\n",
              "      <td>139.12</td>\n",
              "    </tr>\n",
              "    <tr>\n",
              "      <th>536366</th>\n",
              "      <td>17850.0</td>\n",
              "      <td>22.20</td>\n",
              "    </tr>\n",
              "    <tr>\n",
              "      <th>536367</th>\n",
              "      <td>13047.0</td>\n",
              "      <td>278.73</td>\n",
              "    </tr>\n",
              "    <tr>\n",
              "      <th>536368</th>\n",
              "      <td>13047.0</td>\n",
              "      <td>70.05</td>\n",
              "    </tr>\n",
              "    <tr>\n",
              "      <th>536369</th>\n",
              "      <td>13047.0</td>\n",
              "      <td>17.85</td>\n",
              "    </tr>\n",
              "    <tr>\n",
              "      <th>...</th>\n",
              "      <td>...</td>\n",
              "      <td>...</td>\n",
              "    </tr>\n",
              "    <tr>\n",
              "      <th>581583</th>\n",
              "      <td>13777.0</td>\n",
              "      <td>124.60</td>\n",
              "    </tr>\n",
              "    <tr>\n",
              "      <th>581584</th>\n",
              "      <td>13777.0</td>\n",
              "      <td>140.64</td>\n",
              "    </tr>\n",
              "    <tr>\n",
              "      <th>581585</th>\n",
              "      <td>15804.0</td>\n",
              "      <td>329.05</td>\n",
              "    </tr>\n",
              "    <tr>\n",
              "      <th>581586</th>\n",
              "      <td>13113.0</td>\n",
              "      <td>339.20</td>\n",
              "    </tr>\n",
              "    <tr>\n",
              "      <th>581587</th>\n",
              "      <td>12680.0</td>\n",
              "      <td>249.45</td>\n",
              "    </tr>\n",
              "  </tbody>\n",
              "</table>\n",
              "<p>22190 rows × 2 columns</p>\n",
              "</div>"
            ],
            "text/plain": [
              "        cliente  gasto_neste_recibo\n",
              "536365  17850.0              139.12\n",
              "536366  17850.0               22.20\n",
              "536367  13047.0              278.73\n",
              "536368  13047.0               70.05\n",
              "536369  13047.0               17.85\n",
              "...         ...                 ...\n",
              "581583  13777.0              124.60\n",
              "581584  13777.0              140.64\n",
              "581585  15804.0              329.05\n",
              "581586  13113.0              339.20\n",
              "581587  12680.0              249.45\n",
              "\n",
              "[22190 rows x 2 columns]"
            ]
          },
          "metadata": {
            "tags": []
          },
          "execution_count": 5
        }
      ]
    },
    {
      "cell_type": "code",
      "metadata": {
        "id": "R3Awq0xGEwWa",
        "colab_type": "code",
        "colab": {
          "base_uri": "https://localhost:8080/",
          "height": 54
        },
        "outputId": "43669068-caa4-4650-f4fa-1f10d693fffb"
      },
      "source": [
        "data = pd.read_csv(\"/content/drive/My Drive/projeto_relmo/DATA_SEMNA.csv\")\n",
        "#ler customers\n",
        "\n",
        "print(\"Lendo customers...\\n\")\n",
        "i = 0\n",
        "customers = []\n",
        "\n",
        "for item in data['CustomerID'].values:\n",
        "    if item not in customers:\n",
        "        customers.append(item)\n",
        "    i += 1"
      ],
      "execution_count": 6,
      "outputs": [
        {
          "output_type": "stream",
          "text": [
            "Lendo customers...\n",
            "\n"
          ],
          "name": "stdout"
        }
      ]
    },
    {
      "cell_type": "code",
      "metadata": {
        "id": "E2OrrcRzFVJN",
        "colab_type": "code",
        "colab": {}
      },
      "source": [
        "clientes = pd.DataFrame(index=customers)"
      ],
      "execution_count": 7,
      "outputs": []
    },
    {
      "cell_type": "code",
      "metadata": {
        "id": "JJ3-wBa0Gcz9",
        "colab_type": "code",
        "colab": {
          "base_uri": "https://localhost:8080/",
          "height": 237
        },
        "outputId": "0c0d27db-4ab8-4196-d1a4-af0b7ea56cbc"
      },
      "source": [
        "recibos['cliente'].value_counts()"
      ],
      "execution_count": 10,
      "outputs": [
        {
          "output_type": "execute_result",
          "data": {
            "text/plain": [
              "14911.0    248\n",
              "12748.0    224\n",
              "17841.0    169\n",
              "14606.0    128\n",
              "13089.0    118\n",
              "          ... \n",
              "13889.0      1\n",
              "16272.0      1\n",
              "14729.0      1\n",
              "16123.0      1\n",
              "17925.0      1\n",
              "Name: cliente, Length: 4372, dtype: int64"
            ]
          },
          "metadata": {
            "tags": []
          },
          "execution_count": 10
        }
      ]
    },
    {
      "cell_type": "code",
      "metadata": {
        "id": "fbK3eJrBGoUC",
        "colab_type": "code",
        "colab": {
          "base_uri": "https://localhost:8080/",
          "height": 35
        },
        "outputId": "cc513a71-33e3-478a-9885-7f3732cb7262"
      },
      "source": [
        "recibos['cliente'].value_counts().mean()\n"
      ],
      "execution_count": 36,
      "outputs": [
        {
          "output_type": "execute_result",
          "data": {
            "text/plain": [
              "5.07548032936871"
            ]
          },
          "metadata": {
            "tags": []
          },
          "execution_count": 36
        }
      ]
    },
    {
      "cell_type": "code",
      "metadata": {
        "id": "OXPqnAiJJbTC",
        "colab_type": "code",
        "colab": {
          "base_uri": "https://localhost:8080/",
          "height": 35
        },
        "outputId": "83080c73-8107-4b22-a596-e06db40cdb5d"
      },
      "source": [
        "recibos['cliente'].value_counts().values"
      ],
      "execution_count": 19,
      "outputs": [
        {
          "output_type": "execute_result",
          "data": {
            "text/plain": [
              "array([248, 224, 169, ...,   1,   1,   1])"
            ]
          },
          "metadata": {
            "tags": []
          },
          "execution_count": 19
        }
      ]
    },
    {
      "cell_type": "code",
      "metadata": {
        "id": "ptjdupcRHHXr",
        "colab_type": "code",
        "colab": {
          "base_uri": "https://localhost:8080/",
          "height": 265
        },
        "outputId": "8c161b56-cbb1-45f8-a48b-c0797e283f1c"
      },
      "source": [
        "\n",
        "num_bins = 20\n",
        "plt.grid(True)\n",
        "n, bins, patches = plt.hist(recibos['cliente'].value_counts().values,num_bins, alpha=0.9)\n"
      ],
      "execution_count": 30,
      "outputs": [
        {
          "output_type": "display_data",
          "data": {
            "image/png": "[encoded data removed]",
            "text/plain": [
              "<Figure size 432x288 with 1 Axes>"
            ]
          },
          "metadata": {
            "tags": [],
            "needs_background": "light"
          }
        }
      ]
    },
    {
      "cell_type": "code",
      "metadata": {
        "id": "XYArD1mxGtmt",
        "colab_type": "code",
        "colab": {
          "base_uri": "https://localhost:8080/",
          "height": 35
        },
        "outputId": "2836b3bf-f649-4a7d-942d-58db6b9d5cc1"
      },
      "source": [
        "np.std(recibos['cliente'].value_counts())"
      ],
      "execution_count": 13,
      "outputs": [
        {
          "output_type": "execute_result",
          "data": {
            "text/plain": [
              "9.33768608394982"
            ]
          },
          "metadata": {
            "tags": []
          },
          "execution_count": 13
        }
      ]
    },
    {
      "cell_type": "code",
      "metadata": {
        "id": "iX1RHtJtPuuL",
        "colab_type": "code",
        "colab": {
          "base_uri": "https://localhost:8080/",
          "height": 237
        },
        "outputId": "24831929-035b-444e-9b75-abca96d822cb"
      },
      "source": [
        "recibos['gasto_neste_recibo'].value_counts()"
      ],
      "execution_count": 31,
      "outputs": [
        {
          "output_type": "execute_result",
          "data": {
            "text/plain": [
              "-4.95      64\n",
              "-12.75     63\n",
              "-3.75      58\n",
              " 15.00     56\n",
              "-9.95      55\n",
              "           ..\n",
              " 634.85     1\n",
              " 539.20     1\n",
              " 4.16       1\n",
              " 280.20     1\n",
              " 636.45     1\n",
              "Name: gasto_neste_recibo, Length: 17214, dtype: int64"
            ]
          },
          "metadata": {
            "tags": []
          },
          "execution_count": 31
        }
      ]
    },
    {
      "cell_type": "code",
      "metadata": {
        "id": "X_5-vnjOP4_8",
        "colab_type": "code",
        "colab": {
          "base_uri": "https://localhost:8080/",
          "height": 35
        },
        "outputId": "95f3bff8-71b0-42fe-9949-6ea883840429"
      },
      "source": [
        "recibos['gasto_neste_recibo'].values"
      ],
      "execution_count": 37,
      "outputs": [
        {
          "output_type": "execute_result",
          "data": {
            "text/plain": [
              "array([139.12,  22.2 , 278.73, ..., 329.05, 339.2 , 249.45])"
            ]
          },
          "metadata": {
            "tags": []
          },
          "execution_count": 37
        }
      ]
    },
    {
      "cell_type": "code",
      "metadata": {
        "id": "hJF-hO2fQsAl",
        "colab_type": "code",
        "colab": {
          "base_uri": "https://localhost:8080/",
          "height": 35
        },
        "outputId": "ccf2ef1a-ca43-4e70-9768-1a6adc9c826b"
      },
      "source": [
        "recibos['gasto_neste_recibo'].values.mean()"
      ],
      "execution_count": 38,
      "outputs": [
        {
          "output_type": "execute_result",
          "data": {
            "text/plain": [
              "374.0453273546642"
            ]
          },
          "metadata": {
            "tags": []
          },
          "execution_count": 38
        }
      ]
    },
    {
      "cell_type": "code",
      "metadata": {
        "id": "mNUiZyXsQ7Ld",
        "colab_type": "code",
        "colab": {
          "base_uri": "https://localhost:8080/",
          "height": 35
        },
        "outputId": "fd26ac2b-56bf-465e-ef73-bf5cc47f2b64"
      },
      "source": [
        "np.std(recibos['gasto_neste_recibo'].values)"
      ],
      "execution_count": 39,
      "outputs": [
        {
          "output_type": "execute_result",
          "data": {
            "text/plain": [
              "2018.4373869059943"
            ]
          },
          "metadata": {
            "tags": []
          },
          "execution_count": 39
        }
      ]
    },
    {
      "cell_type": "code",
      "metadata": {
        "id": "SY5xKDnfRAuq",
        "colab_type": "code",
        "colab": {
          "base_uri": "https://localhost:8080/",
          "height": 35
        },
        "outputId": "47e730d9-b687-489a-b86f-d4a7baa62cc1"
      },
      "source": [
        "max(recibos['gasto_neste_recibo'].values)"
      ],
      "execution_count": 40,
      "outputs": [
        {
          "output_type": "execute_result",
          "data": {
            "text/plain": [
              "168469.6"
            ]
          },
          "metadata": {
            "tags": []
          },
          "execution_count": 40
        }
      ]
    },
    {
      "cell_type": "code",
      "metadata": {
        "id": "KAvYVsTyRFRY",
        "colab_type": "code",
        "colab": {
          "base_uri": "https://localhost:8080/",
          "height": 35
        },
        "outputId": "0f99a1ae-07a5-43a6-e3df-004975304aef"
      },
      "source": [
        "min(recibos['gasto_neste_recibo'].values)"
      ],
      "execution_count": 43,
      "outputs": [
        {
          "output_type": "execute_result",
          "data": {
            "text/plain": [
              "-168469.6"
            ]
          },
          "metadata": {
            "tags": []
          },
          "execution_count": 43
        }
      ]
    },
    {
      "cell_type": "code",
      "metadata": {
        "id": "dGqDUjzBRf4p",
        "colab_type": "code",
        "colab": {
          "base_uri": "https://localhost:8080/",
          "height": 35
        },
        "outputId": "2e46f943-c919-4355-e186-9506cf413bb3"
      },
      "source": [
        "np.argmin(recibos['gasto_neste_recibo'].values)"
      ],
      "execution_count": 44,
      "outputs": [
        {
          "output_type": "execute_result",
          "data": {
            "text/plain": [
              "22153"
            ]
          },
          "metadata": {
            "tags": []
          },
          "execution_count": 44
        }
      ]
    },
    {
      "cell_type": "code",
      "metadata": {
        "id": "Q6VyF2KzRjlg",
        "colab_type": "code",
        "colab": {
          "base_uri": "https://localhost:8080/",
          "height": 35
        },
        "outputId": "a592f1b3-7df7-4808-ffd4-6933d70b6548"
      },
      "source": [
        "np.argmax(recibos['gasto_neste_recibo'].values)"
      ],
      "execution_count": 45,
      "outputs": [
        {
          "output_type": "execute_result",
          "data": {
            "text/plain": [
              "22152"
            ]
          },
          "metadata": {
            "tags": []
          },
          "execution_count": 45
        }
      ]
    },
    {
      "cell_type": "code",
      "metadata": {
        "id": "xmTjPJZWRsFs",
        "colab_type": "code",
        "colab": {
          "base_uri": "https://localhost:8080/",
          "height": 72
        },
        "outputId": "42513cff-9831-42e1-d795-20dee5166379"
      },
      "source": [
        "recibos.iloc[22152]"
      ],
      "execution_count": 47,
      "outputs": [
        {
          "output_type": "execute_result",
          "data": {
            "text/plain": [
              "cliente                16446.0\n",
              "gasto_neste_recibo    168469.6\n",
              "Name: 581483, dtype: float64"
            ]
          },
          "metadata": {
            "tags": []
          },
          "execution_count": 47
        }
      ]
    },
    {
      "cell_type": "code",
      "metadata": {
        "id": "0mjJqa5uSgwh",
        "colab_type": "code",
        "colab": {
          "base_uri": "https://localhost:8080/",
          "height": 72
        },
        "outputId": "c28e832b-7795-4ede-c568-95a37e4aed72"
      },
      "source": [
        "recibos.iloc[22153] #SEMPRE QUE TEM UM C ANTES DO RECIBO É NEGATIVO (CASHBACK)"
      ],
      "execution_count": 48,
      "outputs": [
        {
          "output_type": "execute_result",
          "data": {
            "text/plain": [
              "cliente                16446.0\n",
              "gasto_neste_recibo   -168469.6\n",
              "Name: C581484, dtype: float64"
            ]
          },
          "metadata": {
            "tags": []
          },
          "execution_count": 48
        }
      ]
    },
    {
      "cell_type": "code",
      "metadata": {
        "id": "B0njCN8KTAhZ",
        "colab_type": "code",
        "colab": {
          "base_uri": "https://localhost:8080/",
          "height": 115
        },
        "outputId": "2927a188-913f-4057-c6fc-cebd141cc4d7"
      },
      "source": [
        "data[data['InvoiceNo'] == 'C581484']"
      ],
      "execution_count": 50,
      "outputs": [
        {
          "output_type": "execute_result",
          "data": {
            "text/html": [
              "<div>\n",
              "<style scoped>\n",
              "    .dataframe tbody tr th:only-of-type {\n",
              "        vertical-align: middle;\n",
              "    }\n",
              "\n",
              "    .dataframe tbody tr th {\n",
              "        vertical-align: top;\n",
              "    }\n",
              "\n",
              "    .dataframe thead th {\n",
              "        text-align: right;\n",
              "    }\n",
              "</style>\n",
              "<table border=\"1\" class=\"dataframe\">\n",
              "  <thead>\n",
              "    <tr style=\"text-align: right;\">\n",
              "      <th></th>\n",
              "      <th>Unnamed: 0</th>\n",
              "      <th>InvoiceNo</th>\n",
              "      <th>StockCode</th>\n",
              "      <th>Description</th>\n",
              "      <th>Quantity</th>\n",
              "      <th>InvoiceDate</th>\n",
              "      <th>UnitPrice</th>\n",
              "      <th>CustomerID</th>\n",
              "      <th>Country</th>\n",
              "    </tr>\n",
              "  </thead>\n",
              "  <tbody>\n",
              "    <tr>\n",
              "      <th>406350</th>\n",
              "      <td>540422</td>\n",
              "      <td>C581484</td>\n",
              "      <td>23843</td>\n",
              "      <td>PAPER CRAFT , LITTLE BIRDIE</td>\n",
              "      <td>-80995</td>\n",
              "      <td>12/9/2011 9:27</td>\n",
              "      <td>2.08</td>\n",
              "      <td>16446.0</td>\n",
              "      <td>United Kingdom</td>\n",
              "    </tr>\n",
              "  </tbody>\n",
              "</table>\n",
              "</div>"
            ],
            "text/plain": [
              "        Unnamed: 0 InvoiceNo StockCode  ... UnitPrice  CustomerID         Country\n",
              "406350      540422   C581484     23843  ...      2.08     16446.0  United Kingdom\n",
              "\n",
              "[1 rows x 9 columns]"
            ]
          },
          "metadata": {
            "tags": []
          },
          "execution_count": 50
        }
      ]
    },
    {
      "cell_type": "code",
      "metadata": {
        "id": "C6-KG13wTXcg",
        "colab_type": "code",
        "colab": {
          "base_uri": "https://localhost:8080/",
          "height": 115
        },
        "outputId": "7addd6d9-a9f3-43a3-c170-80026a172bd5"
      },
      "source": [
        "data[data['InvoiceNo'] == '581483']"
      ],
      "execution_count": 52,
      "outputs": [
        {
          "output_type": "execute_result",
          "data": {
            "text/html": [
              "<div>\n",
              "<style scoped>\n",
              "    .dataframe tbody tr th:only-of-type {\n",
              "        vertical-align: middle;\n",
              "    }\n",
              "\n",
              "    .dataframe tbody tr th {\n",
              "        vertical-align: top;\n",
              "    }\n",
              "\n",
              "    .dataframe thead th {\n",
              "        text-align: right;\n",
              "    }\n",
              "</style>\n",
              "<table border=\"1\" class=\"dataframe\">\n",
              "  <thead>\n",
              "    <tr style=\"text-align: right;\">\n",
              "      <th></th>\n",
              "      <th>Unnamed: 0</th>\n",
              "      <th>InvoiceNo</th>\n",
              "      <th>StockCode</th>\n",
              "      <th>Description</th>\n",
              "      <th>Quantity</th>\n",
              "      <th>InvoiceDate</th>\n",
              "      <th>UnitPrice</th>\n",
              "      <th>CustomerID</th>\n",
              "      <th>Country</th>\n",
              "    </tr>\n",
              "  </thead>\n",
              "  <tbody>\n",
              "    <tr>\n",
              "      <th>406349</th>\n",
              "      <td>540421</td>\n",
              "      <td>581483</td>\n",
              "      <td>23843</td>\n",
              "      <td>PAPER CRAFT , LITTLE BIRDIE</td>\n",
              "      <td>80995</td>\n",
              "      <td>12/9/2011 9:15</td>\n",
              "      <td>2.08</td>\n",
              "      <td>16446.0</td>\n",
              "      <td>United Kingdom</td>\n",
              "    </tr>\n",
              "  </tbody>\n",
              "</table>\n",
              "</div>"
            ],
            "text/plain": [
              "        Unnamed: 0 InvoiceNo StockCode  ... UnitPrice  CustomerID         Country\n",
              "406349      540421    581483     23843  ...      2.08     16446.0  United Kingdom\n",
              "\n",
              "[1 rows x 9 columns]"
            ]
          },
          "metadata": {
            "tags": []
          },
          "execution_count": 52
        }
      ]
    },
    {
      "cell_type": "code",
      "metadata": {
        "id": "S3KeC1aoTeU8",
        "colab_type": "code",
        "colab": {
          "base_uri": "https://localhost:8080/",
          "height": 262
        },
        "outputId": "16968ea8-933e-47a9-f8a5-24581ace8a01"
      },
      "source": [
        "data[data['CustomerID'] == 16446.0]"
      ],
      "execution_count": 56,
      "outputs": [
        {
          "output_type": "execute_result",
          "data": {
            "text/html": [
              "<div>\n",
              "<style scoped>\n",
              "    .dataframe tbody tr th:only-of-type {\n",
              "        vertical-align: middle;\n",
              "    }\n",
              "\n",
              "    .dataframe tbody tr th {\n",
              "        vertical-align: top;\n",
              "    }\n",
              "\n",
              "    .dataframe thead th {\n",
              "        text-align: right;\n",
              "    }\n",
              "</style>\n",
              "<table border=\"1\" class=\"dataframe\">\n",
              "  <thead>\n",
              "    <tr style=\"text-align: right;\">\n",
              "      <th></th>\n",
              "      <th>Unnamed: 0</th>\n",
              "      <th>InvoiceNo</th>\n",
              "      <th>StockCode</th>\n",
              "      <th>Description</th>\n",
              "      <th>Quantity</th>\n",
              "      <th>InvoiceDate</th>\n",
              "      <th>UnitPrice</th>\n",
              "      <th>CustomerID</th>\n",
              "      <th>Country</th>\n",
              "    </tr>\n",
              "  </thead>\n",
              "  <tbody>\n",
              "    <tr>\n",
              "      <th>137062</th>\n",
              "      <td>194354</td>\n",
              "      <td>553573</td>\n",
              "      <td>22980</td>\n",
              "      <td>PANTRY SCRUBBING BRUSH</td>\n",
              "      <td>1</td>\n",
              "      <td>5/18/2011 9:52</td>\n",
              "      <td>1.65</td>\n",
              "      <td>16446.0</td>\n",
              "      <td>United Kingdom</td>\n",
              "    </tr>\n",
              "    <tr>\n",
              "      <th>137063</th>\n",
              "      <td>194355</td>\n",
              "      <td>553573</td>\n",
              "      <td>22982</td>\n",
              "      <td>PANTRY PASTRY BRUSH</td>\n",
              "      <td>1</td>\n",
              "      <td>5/18/2011 9:52</td>\n",
              "      <td>1.25</td>\n",
              "      <td>16446.0</td>\n",
              "      <td>United Kingdom</td>\n",
              "    </tr>\n",
              "    <tr>\n",
              "      <th>406349</th>\n",
              "      <td>540421</td>\n",
              "      <td>581483</td>\n",
              "      <td>23843</td>\n",
              "      <td>PAPER CRAFT , LITTLE BIRDIE</td>\n",
              "      <td>80995</td>\n",
              "      <td>12/9/2011 9:15</td>\n",
              "      <td>2.08</td>\n",
              "      <td>16446.0</td>\n",
              "      <td>United Kingdom</td>\n",
              "    </tr>\n",
              "    <tr>\n",
              "      <th>406350</th>\n",
              "      <td>540422</td>\n",
              "      <td>C581484</td>\n",
              "      <td>23843</td>\n",
              "      <td>PAPER CRAFT , LITTLE BIRDIE</td>\n",
              "      <td>-80995</td>\n",
              "      <td>12/9/2011 9:27</td>\n",
              "      <td>2.08</td>\n",
              "      <td>16446.0</td>\n",
              "      <td>United Kingdom</td>\n",
              "    </tr>\n",
              "  </tbody>\n",
              "</table>\n",
              "</div>"
            ],
            "text/plain": [
              "        Unnamed: 0 InvoiceNo StockCode  ... UnitPrice  CustomerID         Country\n",
              "137062      194354    553573     22980  ...      1.65     16446.0  United Kingdom\n",
              "137063      194355    553573     22982  ...      1.25     16446.0  United Kingdom\n",
              "406349      540421    581483     23843  ...      2.08     16446.0  United Kingdom\n",
              "406350      540422   C581484     23843  ...      2.08     16446.0  United Kingdom\n",
              "\n",
              "[4 rows x 9 columns]"
            ]
          },
          "metadata": {
            "tags": []
          },
          "execution_count": 56
        }
      ]
    },
    {
      "cell_type": "code",
      "metadata": {
        "id": "I7QW_-XxUdTu",
        "colab_type": "code",
        "colab": {
          "base_uri": "https://localhost:8080/",
          "height": 35
        },
        "outputId": "7942e1ad-2332-4ed2-c4b0-d812a0a04dc2"
      },
      "source": [
        "data['Quantity'].mean()"
      ],
      "execution_count": 57,
      "outputs": [
        {
          "output_type": "execute_result",
          "data": {
            "text/plain": [
              "12.06130339774205"
            ]
          },
          "metadata": {
            "tags": []
          },
          "execution_count": 57
        }
      ]
    },
    {
      "cell_type": "code",
      "metadata": {
        "id": "9OofuOk2Fb2r",
        "colab_type": "code",
        "colab": {}
      },
      "source": [
        "z=0\n",
        "#while z < len(recibos[0].value_counts()):\n",
        "customers\n"
      ],
      "execution_count": null,
      "outputs": []
    },
    {
      "cell_type": "code",
      "metadata": {
        "id": "RMJ1Jo44V9w2",
        "colab_type": "code",
        "colab": {}
      },
      "source": [
        ""
      ],
      "execution_count": null,
      "outputs": []
    }
  ]
}
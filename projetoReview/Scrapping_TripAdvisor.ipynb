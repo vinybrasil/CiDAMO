{
 "cells": [
  {
   "cell_type": "code",
   "execution_count": 5,
   "metadata": {},
   "outputs": [],
   "source": [
    "import requests\n",
    "from bs4 import BeautifulSoup\n",
    "import re\n",
    "import pandas as pd \n"
   ]
  },
  {
   "cell_type": "markdown",
   "metadata": {},
   "source": [
    "<h2>Duas funções: </h2>\n",
    "<p>A get_data pega a url e devolve num formato que o Beautiful Soup entende.\n",
    "   A get_reviews pega todas as caixas de texto que tem naquele formato e retorna todos os reviews, excluindo as respostas do donos do restaurante. A get_reviews retorna uma lista que vai ser usada no dataframe pra treinar o modelo. <p> "
   ]
  },
  {
   "cell_type": "code",
   "execution_count": 6,
   "metadata": {},
   "outputs": [],
   "source": [
    "def get_data(url):\n",
    "    req = requests.get(url)\n",
    "    content = req.content\n",
    "    soup = BeautifulSoup(content, 'html.parser')\n",
    "    return soup"
   ]
  },
  {
   "cell_type": "code",
   "execution_count": 7,
   "metadata": {},
   "outputs": [],
   "source": [
    "def get_reviews(url):\n",
    "    reviews = []\n",
    "    respostas = []\n",
    "    for item in url.findAll(\"div\", {\"class\":\"mgrRspnInline\"}):\n",
    "        for resposta in item.find_all(\"p\", {\"class\":\"partial_entry\"}):\n",
    "            respostas.append(resposta)\n",
    "    for review in url.find_all(\"p\", {\"class\":\"partial_entry\"}):\n",
    "        \n",
    "        if review not in respostas:\n",
    "            reviews.append(review)\n",
    "    return reviews"
   ]
  },
  {
   "cell_type": "code",
   "execution_count": 9,
   "metadata": {},
   "outputs": [
    {
     "name": "stdout",
     "output_type": "stream",
     "text": [
      "<bound method NDFrame.head of                                              reviews\n",
      "0  [Com a epidemia não dá pra sair... Mas deu pra...\n",
      "1  [Meu marido me levou no dia do meu aniversário...\n",
      "2  [Happy hour excelente, drinks diferentes, pizz...\n",
      "3  [Impecável recepção, ambiente de sossego, víde...\n",
      "4  [Pizza muito saborosa, com sabores tradicionai...\n",
      "5  [Recomendo!! Top!!! Fui porque vi no Tripadvis...\n",
      "6  [Ambiente super agradável. Atendimento excelen...\n",
      "7  [Vale a pena! Pizza linda e tão deliciosa quan...\n",
      "8  [Conheço a Pizzaria Bis dês de 2014 quando era...\n",
      "9  [Local agradável, pizza muito boa, pela promoç...>\n"
     ]
    }
   ],
   "source": [
    "SITE = get_data('https://www.tripadvisor.com.br/Restaurant_Review-g303441-d16787688-Reviews-Pizza_Bis_Batel-Curitiba_State_of_Parana.html')\n",
    "REVIEWS = get_reviews(SITE) \n",
    "df = pd.DataFrame(list(zip(REVIEWS)), columns=['reviews'])\n",
    "print(df.head)"
   ]
  },
  {
   "cell_type": "code",
   "execution_count": null,
   "metadata": {},
   "outputs": [],
   "source": []
  }
 ],
 "metadata": {
  "kernelspec": {
   "display_name": "Python 3",
   "language": "python",
   "name": "python3"
  },
  "language_info": {
   "codemirror_mode": {
    "name": "ipython",
    "version": 3
   },
   "file_extension": ".py",
   "mimetype": "text/x-python",
   "name": "python",
   "nbconvert_exporter": "python",
   "pygments_lexer": "ipython3",
   "version": "3.7.6"
  }
 },
 "nbformat": 4,
 "nbformat_minor": 4
}

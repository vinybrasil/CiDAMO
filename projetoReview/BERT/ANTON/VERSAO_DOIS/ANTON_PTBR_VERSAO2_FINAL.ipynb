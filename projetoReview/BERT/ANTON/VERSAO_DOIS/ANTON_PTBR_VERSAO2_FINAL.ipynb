{
  "nbformat": 4,
  "nbformat_minor": 0,
  "metadata": {
    "colab": {
      "name": "ANTON_PTBR_VERSAO2.ipynb",
      "provenance": [],
      "collapsed_sections": []
    },
    "kernelspec": {
      "name": "python3",
      "display_name": "Python 3"
    },
    "accelerator": "GPU",
    "widgets": {
      "application/vnd.jupyter.widget-state+json": {
        "19aedd6b7b4944969d86276f6872b367": {
          "model_module": "@jupyter-widgets/controls",
          "model_name": "HBoxModel",
          "state": {
            "_view_name": "HBoxView",
            "_dom_classes": [],
            "_model_name": "HBoxModel",
            "_view_module": "@jupyter-widgets/controls",
            "_model_module_version": "1.5.0",
            "_view_count": null,
            "_view_module_version": "1.5.0",
            "box_style": "",
            "layout": "IPY_MODEL_b5cdad4529164716b9ee0c66d3738217",
            "_model_module": "@jupyter-widgets/controls",
            "children": [
              "IPY_MODEL_277d8024d44141ffa9f6fb9a5ec9bebb",
              "IPY_MODEL_78fffaccc5944fddaf67ea5ae7e1e74a"
            ]
          }
        },
        "b5cdad4529164716b9ee0c66d3738217": {
          "model_module": "@jupyter-widgets/base",
          "model_name": "LayoutModel",
          "state": {
            "_view_name": "LayoutView",
            "grid_template_rows": null,
            "right": null,
            "justify_content": null,
            "_view_module": "@jupyter-widgets/base",
            "overflow": null,
            "_model_module_version": "1.2.0",
            "_view_count": null,
            "flex_flow": null,
            "width": null,
            "min_width": null,
            "border": null,
            "align_items": null,
            "bottom": null,
            "_model_module": "@jupyter-widgets/base",
            "top": null,
            "grid_column": null,
            "overflow_y": null,
            "overflow_x": null,
            "grid_auto_flow": null,
            "grid_area": null,
            "grid_template_columns": null,
            "flex": null,
            "_model_name": "LayoutModel",
            "justify_items": null,
            "grid_row": null,
            "max_height": null,
            "align_content": null,
            "visibility": null,
            "align_self": null,
            "height": null,
            "min_height": null,
            "padding": null,
            "grid_auto_rows": null,
            "grid_gap": null,
            "max_width": null,
            "order": null,
            "_view_module_version": "1.2.0",
            "grid_template_areas": null,
            "object_position": null,
            "object_fit": null,
            "grid_auto_columns": null,
            "margin": null,
            "display": null,
            "left": null
          }
        },
        "277d8024d44141ffa9f6fb9a5ec9bebb": {
          "model_module": "@jupyter-widgets/controls",
          "model_name": "IntProgressModel",
          "state": {
            "_view_name": "ProgressView",
            "style": "IPY_MODEL_0e5242e9b3734e4d97fd7ff3d7db3ce4",
            "_dom_classes": [],
            "description": "Downloading: 100%",
            "_model_name": "IntProgressModel",
            "bar_style": "success",
            "max": 647,
            "_view_module": "@jupyter-widgets/controls",
            "_model_module_version": "1.5.0",
            "value": 647,
            "_view_count": null,
            "_view_module_version": "1.5.0",
            "orientation": "horizontal",
            "min": 0,
            "description_tooltip": null,
            "_model_module": "@jupyter-widgets/controls",
            "layout": "IPY_MODEL_e2a0cade720f4275ba0abe1f0ddf7f1e"
          }
        },
        "78fffaccc5944fddaf67ea5ae7e1e74a": {
          "model_module": "@jupyter-widgets/controls",
          "model_name": "HTMLModel",
          "state": {
            "_view_name": "HTMLView",
            "style": "IPY_MODEL_810c1a53a86d49bbb60883bd8d5b5f22",
            "_dom_classes": [],
            "description": "",
            "_model_name": "HTMLModel",
            "placeholder": "​",
            "_view_module": "@jupyter-widgets/controls",
            "_model_module_version": "1.5.0",
            "value": " 647/647 [00:00&lt;00:00, 660B/s]",
            "_view_count": null,
            "_view_module_version": "1.5.0",
            "description_tooltip": null,
            "_model_module": "@jupyter-widgets/controls",
            "layout": "IPY_MODEL_0280e47f1f2b4e0a89d895cb12c9c109"
          }
        },
        "0e5242e9b3734e4d97fd7ff3d7db3ce4": {
          "model_module": "@jupyter-widgets/controls",
          "model_name": "ProgressStyleModel",
          "state": {
            "_view_name": "StyleView",
            "_model_name": "ProgressStyleModel",
            "description_width": "initial",
            "_view_module": "@jupyter-widgets/base",
            "_model_module_version": "1.5.0",
            "_view_count": null,
            "_view_module_version": "1.2.0",
            "bar_color": null,
            "_model_module": "@jupyter-widgets/controls"
          }
        },
        "e2a0cade720f4275ba0abe1f0ddf7f1e": {
          "model_module": "@jupyter-widgets/base",
          "model_name": "LayoutModel",
          "state": {
            "_view_name": "LayoutView",
            "grid_template_rows": null,
            "right": null,
            "justify_content": null,
            "_view_module": "@jupyter-widgets/base",
            "overflow": null,
            "_model_module_version": "1.2.0",
            "_view_count": null,
            "flex_flow": null,
            "width": null,
            "min_width": null,
            "border": null,
            "align_items": null,
            "bottom": null,
            "_model_module": "@jupyter-widgets/base",
            "top": null,
            "grid_column": null,
            "overflow_y": null,
            "overflow_x": null,
            "grid_auto_flow": null,
            "grid_area": null,
            "grid_template_columns": null,
            "flex": null,
            "_model_name": "LayoutModel",
            "justify_items": null,
            "grid_row": null,
            "max_height": null,
            "align_content": null,
            "visibility": null,
            "align_self": null,
            "height": null,
            "min_height": null,
            "padding": null,
            "grid_auto_rows": null,
            "grid_gap": null,
            "max_width": null,
            "order": null,
            "_view_module_version": "1.2.0",
            "grid_template_areas": null,
            "object_position": null,
            "object_fit": null,
            "grid_auto_columns": null,
            "margin": null,
            "display": null,
            "left": null
          }
        },
        "810c1a53a86d49bbb60883bd8d5b5f22": {
          "model_module": "@jupyter-widgets/controls",
          "model_name": "DescriptionStyleModel",
          "state": {
            "_view_name": "StyleView",
            "_model_name": "DescriptionStyleModel",
            "description_width": "",
            "_view_module": "@jupyter-widgets/base",
            "_model_module_version": "1.5.0",
            "_view_count": null,
            "_view_module_version": "1.2.0",
            "_model_module": "@jupyter-widgets/controls"
          }
        },
        "0280e47f1f2b4e0a89d895cb12c9c109": {
          "model_module": "@jupyter-widgets/base",
          "model_name": "LayoutModel",
          "state": {
            "_view_name": "LayoutView",
            "grid_template_rows": null,
            "right": null,
            "justify_content": null,
            "_view_module": "@jupyter-widgets/base",
            "overflow": null,
            "_model_module_version": "1.2.0",
            "_view_count": null,
            "flex_flow": null,
            "width": null,
            "min_width": null,
            "border": null,
            "align_items": null,
            "bottom": null,
            "_model_module": "@jupyter-widgets/base",
            "top": null,
            "grid_column": null,
            "overflow_y": null,
            "overflow_x": null,
            "grid_auto_flow": null,
            "grid_area": null,
            "grid_template_columns": null,
            "flex": null,
            "_model_name": "LayoutModel",
            "justify_items": null,
            "grid_row": null,
            "max_height": null,
            "align_content": null,
            "visibility": null,
            "align_self": null,
            "height": null,
            "min_height": null,
            "padding": null,
            "grid_auto_rows": null,
            "grid_gap": null,
            "max_width": null,
            "order": null,
            "_view_module_version": "1.2.0",
            "grid_template_areas": null,
            "object_position": null,
            "object_fit": null,
            "grid_auto_columns": null,
            "margin": null,
            "display": null,
            "left": null
          }
        },
        "98fe1febcb1042e8816d49e1ba496da4": {
          "model_module": "@jupyter-widgets/controls",
          "model_name": "HBoxModel",
          "state": {
            "_view_name": "HBoxView",
            "_dom_classes": [],
            "_model_name": "HBoxModel",
            "_view_module": "@jupyter-widgets/controls",
            "_model_module_version": "1.5.0",
            "_view_count": null,
            "_view_module_version": "1.5.0",
            "box_style": "",
            "layout": "IPY_MODEL_b5cfcdd30542486785d77d949da1751a",
            "_model_module": "@jupyter-widgets/controls",
            "children": [
              "IPY_MODEL_651ba37e01b040568039bd8bbad63973",
              "IPY_MODEL_7d07c044c6004d218185dc13106d88f4"
            ]
          }
        },
        "b5cfcdd30542486785d77d949da1751a": {
          "model_module": "@jupyter-widgets/base",
          "model_name": "LayoutModel",
          "state": {
            "_view_name": "LayoutView",
            "grid_template_rows": null,
            "right": null,
            "justify_content": null,
            "_view_module": "@jupyter-widgets/base",
            "overflow": null,
            "_model_module_version": "1.2.0",
            "_view_count": null,
            "flex_flow": null,
            "width": null,
            "min_width": null,
            "border": null,
            "align_items": null,
            "bottom": null,
            "_model_module": "@jupyter-widgets/base",
            "top": null,
            "grid_column": null,
            "overflow_y": null,
            "overflow_x": null,
            "grid_auto_flow": null,
            "grid_area": null,
            "grid_template_columns": null,
            "flex": null,
            "_model_name": "LayoutModel",
            "justify_items": null,
            "grid_row": null,
            "max_height": null,
            "align_content": null,
            "visibility": null,
            "align_self": null,
            "height": null,
            "min_height": null,
            "padding": null,
            "grid_auto_rows": null,
            "grid_gap": null,
            "max_width": null,
            "order": null,
            "_view_module_version": "1.2.0",
            "grid_template_areas": null,
            "object_position": null,
            "object_fit": null,
            "grid_auto_columns": null,
            "margin": null,
            "display": null,
            "left": null
          }
        },
        "651ba37e01b040568039bd8bbad63973": {
          "model_module": "@jupyter-widgets/controls",
          "model_name": "IntProgressModel",
          "state": {
            "_view_name": "ProgressView",
            "style": "IPY_MODEL_28107dee79b94dc1a4efc247edcb7212",
            "_dom_classes": [],
            "description": "Downloading: 100%",
            "_model_name": "IntProgressModel",
            "bar_style": "success",
            "max": 209528,
            "_view_module": "@jupyter-widgets/controls",
            "_model_module_version": "1.5.0",
            "value": 209528,
            "_view_count": null,
            "_view_module_version": "1.5.0",
            "orientation": "horizontal",
            "min": 0,
            "description_tooltip": null,
            "_model_module": "@jupyter-widgets/controls",
            "layout": "IPY_MODEL_717959ec7a44440da1498324f701cc12"
          }
        },
        "7d07c044c6004d218185dc13106d88f4": {
          "model_module": "@jupyter-widgets/controls",
          "model_name": "HTMLModel",
          "state": {
            "_view_name": "HTMLView",
            "style": "IPY_MODEL_74b9ea5592ba4e3ca82c157d9c4d9dcf",
            "_dom_classes": [],
            "description": "",
            "_model_name": "HTMLModel",
            "placeholder": "​",
            "_view_module": "@jupyter-widgets/controls",
            "_model_module_version": "1.5.0",
            "value": " 210k/210k [00:04&lt;00:00, 46.8kB/s]",
            "_view_count": null,
            "_view_module_version": "1.5.0",
            "description_tooltip": null,
            "_model_module": "@jupyter-widgets/controls",
            "layout": "IPY_MODEL_7cb543503fe244e3a523078af870ee0c"
          }
        },
        "28107dee79b94dc1a4efc247edcb7212": {
          "model_module": "@jupyter-widgets/controls",
          "model_name": "ProgressStyleModel",
          "state": {
            "_view_name": "StyleView",
            "_model_name": "ProgressStyleModel",
            "description_width": "initial",
            "_view_module": "@jupyter-widgets/base",
            "_model_module_version": "1.5.0",
            "_view_count": null,
            "_view_module_version": "1.2.0",
            "bar_color": null,
            "_model_module": "@jupyter-widgets/controls"
          }
        },
        "717959ec7a44440da1498324f701cc12": {
          "model_module": "@jupyter-widgets/base",
          "model_name": "LayoutModel",
          "state": {
            "_view_name": "LayoutView",
            "grid_template_rows": null,
            "right": null,
            "justify_content": null,
            "_view_module": "@jupyter-widgets/base",
            "overflow": null,
            "_model_module_version": "1.2.0",
            "_view_count": null,
            "flex_flow": null,
            "width": null,
            "min_width": null,
            "border": null,
            "align_items": null,
            "bottom": null,
            "_model_module": "@jupyter-widgets/base",
            "top": null,
            "grid_column": null,
            "overflow_y": null,
            "overflow_x": null,
            "grid_auto_flow": null,
            "grid_area": null,
            "grid_template_columns": null,
            "flex": null,
            "_model_name": "LayoutModel",
            "justify_items": null,
            "grid_row": null,
            "max_height": null,
            "align_content": null,
            "visibility": null,
            "align_self": null,
            "height": null,
            "min_height": null,
            "padding": null,
            "grid_auto_rows": null,
            "grid_gap": null,
            "max_width": null,
            "order": null,
            "_view_module_version": "1.2.0",
            "grid_template_areas": null,
            "object_position": null,
            "object_fit": null,
            "grid_auto_columns": null,
            "margin": null,
            "display": null,
            "left": null
          }
        },
        "74b9ea5592ba4e3ca82c157d9c4d9dcf": {
          "model_module": "@jupyter-widgets/controls",
          "model_name": "DescriptionStyleModel",
          "state": {
            "_view_name": "StyleView",
            "_model_name": "DescriptionStyleModel",
            "description_width": "",
            "_view_module": "@jupyter-widgets/base",
            "_model_module_version": "1.5.0",
            "_view_count": null,
            "_view_module_version": "1.2.0",
            "_model_module": "@jupyter-widgets/controls"
          }
        },
        "7cb543503fe244e3a523078af870ee0c": {
          "model_module": "@jupyter-widgets/base",
          "model_name": "LayoutModel",
          "state": {
            "_view_name": "LayoutView",
            "grid_template_rows": null,
            "right": null,
            "justify_content": null,
            "_view_module": "@jupyter-widgets/base",
            "overflow": null,
            "_model_module_version": "1.2.0",
            "_view_count": null,
            "flex_flow": null,
            "width": null,
            "min_width": null,
            "border": null,
            "align_items": null,
            "bottom": null,
            "_model_module": "@jupyter-widgets/base",
            "top": null,
            "grid_column": null,
            "overflow_y": null,
            "overflow_x": null,
            "grid_auto_flow": null,
            "grid_area": null,
            "grid_template_columns": null,
            "flex": null,
            "_model_name": "LayoutModel",
            "justify_items": null,
            "grid_row": null,
            "max_height": null,
            "align_content": null,
            "visibility": null,
            "align_self": null,
            "height": null,
            "min_height": null,
            "padding": null,
            "grid_auto_rows": null,
            "grid_gap": null,
            "max_width": null,
            "order": null,
            "_view_module_version": "1.2.0",
            "grid_template_areas": null,
            "object_position": null,
            "object_fit": null,
            "grid_auto_columns": null,
            "margin": null,
            "display": null,
            "left": null
          }
        },
        "2d4f647d467248e2b61feafa17aa6b69": {
          "model_module": "@jupyter-widgets/controls",
          "model_name": "HBoxModel",
          "state": {
            "_view_name": "HBoxView",
            "_dom_classes": [],
            "_model_name": "HBoxModel",
            "_view_module": "@jupyter-widgets/controls",
            "_model_module_version": "1.5.0",
            "_view_count": null,
            "_view_module_version": "1.5.0",
            "box_style": "",
            "layout": "IPY_MODEL_66a6ced029ad4b06997b9a6b3e151d13",
            "_model_module": "@jupyter-widgets/controls",
            "children": [
              "IPY_MODEL_e1aba014c9c24ba8bd7fa950a252ad3a",
              "IPY_MODEL_92b90c7f577a48b4a68e8265d3e412ed"
            ]
          }
        },
        "66a6ced029ad4b06997b9a6b3e151d13": {
          "model_module": "@jupyter-widgets/base",
          "model_name": "LayoutModel",
          "state": {
            "_view_name": "LayoutView",
            "grid_template_rows": null,
            "right": null,
            "justify_content": null,
            "_view_module": "@jupyter-widgets/base",
            "overflow": null,
            "_model_module_version": "1.2.0",
            "_view_count": null,
            "flex_flow": null,
            "width": null,
            "min_width": null,
            "border": null,
            "align_items": null,
            "bottom": null,
            "_model_module": "@jupyter-widgets/base",
            "top": null,
            "grid_column": null,
            "overflow_y": null,
            "overflow_x": null,
            "grid_auto_flow": null,
            "grid_area": null,
            "grid_template_columns": null,
            "flex": null,
            "_model_name": "LayoutModel",
            "justify_items": null,
            "grid_row": null,
            "max_height": null,
            "align_content": null,
            "visibility": null,
            "align_self": null,
            "height": null,
            "min_height": null,
            "padding": null,
            "grid_auto_rows": null,
            "grid_gap": null,
            "max_width": null,
            "order": null,
            "_view_module_version": "1.2.0",
            "grid_template_areas": null,
            "object_position": null,
            "object_fit": null,
            "grid_auto_columns": null,
            "margin": null,
            "display": null,
            "left": null
          }
        },
        "e1aba014c9c24ba8bd7fa950a252ad3a": {
          "model_module": "@jupyter-widgets/controls",
          "model_name": "IntProgressModel",
          "state": {
            "_view_name": "ProgressView",
            "style": "IPY_MODEL_27a69f3b5ed44a93aa9327f2f93b44d0",
            "_dom_classes": [],
            "description": "Downloading: 100%",
            "_model_name": "IntProgressModel",
            "bar_style": "success",
            "max": 2,
            "_view_module": "@jupyter-widgets/controls",
            "_model_module_version": "1.5.0",
            "value": 2,
            "_view_count": null,
            "_view_module_version": "1.5.0",
            "orientation": "horizontal",
            "min": 0,
            "description_tooltip": null,
            "_model_module": "@jupyter-widgets/controls",
            "layout": "IPY_MODEL_2635e6ebf77e4d0990e616b9d3ba2e9b"
          }
        },
        "92b90c7f577a48b4a68e8265d3e412ed": {
          "model_module": "@jupyter-widgets/controls",
          "model_name": "HTMLModel",
          "state": {
            "_view_name": "HTMLView",
            "style": "IPY_MODEL_b1ad657dcb9142bd8187e43f0885b3a1",
            "_dom_classes": [],
            "description": "",
            "_model_name": "HTMLModel",
            "placeholder": "​",
            "_view_module": "@jupyter-widgets/controls",
            "_model_module_version": "1.5.0",
            "value": " 2.00/2.00 [00:01&lt;00:00, 1.02B/s]",
            "_view_count": null,
            "_view_module_version": "1.5.0",
            "description_tooltip": null,
            "_model_module": "@jupyter-widgets/controls",
            "layout": "IPY_MODEL_788108a53b9143c58cc90a1e0f444f94"
          }
        },
        "27a69f3b5ed44a93aa9327f2f93b44d0": {
          "model_module": "@jupyter-widgets/controls",
          "model_name": "ProgressStyleModel",
          "state": {
            "_view_name": "StyleView",
            "_model_name": "ProgressStyleModel",
            "description_width": "initial",
            "_view_module": "@jupyter-widgets/base",
            "_model_module_version": "1.5.0",
            "_view_count": null,
            "_view_module_version": "1.2.0",
            "bar_color": null,
            "_model_module": "@jupyter-widgets/controls"
          }
        },
        "2635e6ebf77e4d0990e616b9d3ba2e9b": {
          "model_module": "@jupyter-widgets/base",
          "model_name": "LayoutModel",
          "state": {
            "_view_name": "LayoutView",
            "grid_template_rows": null,
            "right": null,
            "justify_content": null,
            "_view_module": "@jupyter-widgets/base",
            "overflow": null,
            "_model_module_version": "1.2.0",
            "_view_count": null,
            "flex_flow": null,
            "width": null,
            "min_width": null,
            "border": null,
            "align_items": null,
            "bottom": null,
            "_model_module": "@jupyter-widgets/base",
            "top": null,
            "grid_column": null,
            "overflow_y": null,
            "overflow_x": null,
            "grid_auto_flow": null,
            "grid_area": null,
            "grid_template_columns": null,
            "flex": null,
            "_model_name": "LayoutModel",
            "justify_items": null,
            "grid_row": null,
            "max_height": null,
            "align_content": null,
            "visibility": null,
            "align_self": null,
            "height": null,
            "min_height": null,
            "padding": null,
            "grid_auto_rows": null,
            "grid_gap": null,
            "max_width": null,
            "order": null,
            "_view_module_version": "1.2.0",
            "grid_template_areas": null,
            "object_position": null,
            "object_fit": null,
            "grid_auto_columns": null,
            "margin": null,
            "display": null,
            "left": null
          }
        },
        "b1ad657dcb9142bd8187e43f0885b3a1": {
          "model_module": "@jupyter-widgets/controls",
          "model_name": "DescriptionStyleModel",
          "state": {
            "_view_name": "StyleView",
            "_model_name": "DescriptionStyleModel",
            "description_width": "",
            "_view_module": "@jupyter-widgets/base",
            "_model_module_version": "1.5.0",
            "_view_count": null,
            "_view_module_version": "1.2.0",
            "_model_module": "@jupyter-widgets/controls"
          }
        },
        "788108a53b9143c58cc90a1e0f444f94": {
          "model_module": "@jupyter-widgets/base",
          "model_name": "LayoutModel",
          "state": {
            "_view_name": "LayoutView",
            "grid_template_rows": null,
            "right": null,
            "justify_content": null,
            "_view_module": "@jupyter-widgets/base",
            "overflow": null,
            "_model_module_version": "1.2.0",
            "_view_count": null,
            "flex_flow": null,
            "width": null,
            "min_width": null,
            "border": null,
            "align_items": null,
            "bottom": null,
            "_model_module": "@jupyter-widgets/base",
            "top": null,
            "grid_column": null,
            "overflow_y": null,
            "overflow_x": null,
            "grid_auto_flow": null,
            "grid_area": null,
            "grid_template_columns": null,
            "flex": null,
            "_model_name": "LayoutModel",
            "justify_items": null,
            "grid_row": null,
            "max_height": null,
            "align_content": null,
            "visibility": null,
            "align_self": null,
            "height": null,
            "min_height": null,
            "padding": null,
            "grid_auto_rows": null,
            "grid_gap": null,
            "max_width": null,
            "order": null,
            "_view_module_version": "1.2.0",
            "grid_template_areas": null,
            "object_position": null,
            "object_fit": null,
            "grid_auto_columns": null,
            "margin": null,
            "display": null,
            "left": null
          }
        },
        "19dde23d7aa64fa3aa3167691888c125": {
          "model_module": "@jupyter-widgets/controls",
          "model_name": "HBoxModel",
          "state": {
            "_view_name": "HBoxView",
            "_dom_classes": [],
            "_model_name": "HBoxModel",
            "_view_module": "@jupyter-widgets/controls",
            "_model_module_version": "1.5.0",
            "_view_count": null,
            "_view_module_version": "1.5.0",
            "box_style": "",
            "layout": "IPY_MODEL_e02bf77f713b40a59eb96739cff0cb2a",
            "_model_module": "@jupyter-widgets/controls",
            "children": [
              "IPY_MODEL_323a1f111a7243568b4844efe6bceb7f",
              "IPY_MODEL_54d00b7aaa2b40c39410b274e30a0f0e"
            ]
          }
        },
        "e02bf77f713b40a59eb96739cff0cb2a": {
          "model_module": "@jupyter-widgets/base",
          "model_name": "LayoutModel",
          "state": {
            "_view_name": "LayoutView",
            "grid_template_rows": null,
            "right": null,
            "justify_content": null,
            "_view_module": "@jupyter-widgets/base",
            "overflow": null,
            "_model_module_version": "1.2.0",
            "_view_count": null,
            "flex_flow": null,
            "width": null,
            "min_width": null,
            "border": null,
            "align_items": null,
            "bottom": null,
            "_model_module": "@jupyter-widgets/base",
            "top": null,
            "grid_column": null,
            "overflow_y": null,
            "overflow_x": null,
            "grid_auto_flow": null,
            "grid_area": null,
            "grid_template_columns": null,
            "flex": null,
            "_model_name": "LayoutModel",
            "justify_items": null,
            "grid_row": null,
            "max_height": null,
            "align_content": null,
            "visibility": null,
            "align_self": null,
            "height": null,
            "min_height": null,
            "padding": null,
            "grid_auto_rows": null,
            "grid_gap": null,
            "max_width": null,
            "order": null,
            "_view_module_version": "1.2.0",
            "grid_template_areas": null,
            "object_position": null,
            "object_fit": null,
            "grid_auto_columns": null,
            "margin": null,
            "display": null,
            "left": null
          }
        },
        "323a1f111a7243568b4844efe6bceb7f": {
          "model_module": "@jupyter-widgets/controls",
          "model_name": "IntProgressModel",
          "state": {
            "_view_name": "ProgressView",
            "style": "IPY_MODEL_73997641e73546e6bbb61df093320ddc",
            "_dom_classes": [],
            "description": "Downloading: 100%",
            "_model_name": "IntProgressModel",
            "bar_style": "success",
            "max": 112,
            "_view_module": "@jupyter-widgets/controls",
            "_model_module_version": "1.5.0",
            "value": 112,
            "_view_count": null,
            "_view_module_version": "1.5.0",
            "orientation": "horizontal",
            "min": 0,
            "description_tooltip": null,
            "_model_module": "@jupyter-widgets/controls",
            "layout": "IPY_MODEL_f87d7be2421f4e28af8188e24b0fe6b7"
          }
        },
        "54d00b7aaa2b40c39410b274e30a0f0e": {
          "model_module": "@jupyter-widgets/controls",
          "model_name": "HTMLModel",
          "state": {
            "_view_name": "HTMLView",
            "style": "IPY_MODEL_68e654709c304d628fc7f9f78ceb3b09",
            "_dom_classes": [],
            "description": "",
            "_model_name": "HTMLModel",
            "placeholder": "​",
            "_view_module": "@jupyter-widgets/controls",
            "_model_module_version": "1.5.0",
            "value": " 112/112 [00:01&lt;00:00, 58.9B/s]",
            "_view_count": null,
            "_view_module_version": "1.5.0",
            "description_tooltip": null,
            "_model_module": "@jupyter-widgets/controls",
            "layout": "IPY_MODEL_dbb48c57f9f7470d9ad1f5f69f8030b9"
          }
        },
        "73997641e73546e6bbb61df093320ddc": {
          "model_module": "@jupyter-widgets/controls",
          "model_name": "ProgressStyleModel",
          "state": {
            "_view_name": "StyleView",
            "_model_name": "ProgressStyleModel",
            "description_width": "initial",
            "_view_module": "@jupyter-widgets/base",
            "_model_module_version": "1.5.0",
            "_view_count": null,
            "_view_module_version": "1.2.0",
            "bar_color": null,
            "_model_module": "@jupyter-widgets/controls"
          }
        },
        "f87d7be2421f4e28af8188e24b0fe6b7": {
          "model_module": "@jupyter-widgets/base",
          "model_name": "LayoutModel",
          "state": {
            "_view_name": "LayoutView",
            "grid_template_rows": null,
            "right": null,
            "justify_content": null,
            "_view_module": "@jupyter-widgets/base",
            "overflow": null,
            "_model_module_version": "1.2.0",
            "_view_count": null,
            "flex_flow": null,
            "width": null,
            "min_width": null,
            "border": null,
            "align_items": null,
            "bottom": null,
            "_model_module": "@jupyter-widgets/base",
            "top": null,
            "grid_column": null,
            "overflow_y": null,
            "overflow_x": null,
            "grid_auto_flow": null,
            "grid_area": null,
            "grid_template_columns": null,
            "flex": null,
            "_model_name": "LayoutModel",
            "justify_items": null,
            "grid_row": null,
            "max_height": null,
            "align_content": null,
            "visibility": null,
            "align_self": null,
            "height": null,
            "min_height": null,
            "padding": null,
            "grid_auto_rows": null,
            "grid_gap": null,
            "max_width": null,
            "order": null,
            "_view_module_version": "1.2.0",
            "grid_template_areas": null,
            "object_position": null,
            "object_fit": null,
            "grid_auto_columns": null,
            "margin": null,
            "display": null,
            "left": null
          }
        },
        "68e654709c304d628fc7f9f78ceb3b09": {
          "model_module": "@jupyter-widgets/controls",
          "model_name": "DescriptionStyleModel",
          "state": {
            "_view_name": "StyleView",
            "_model_name": "DescriptionStyleModel",
            "description_width": "",
            "_view_module": "@jupyter-widgets/base",
            "_model_module_version": "1.5.0",
            "_view_count": null,
            "_view_module_version": "1.2.0",
            "_model_module": "@jupyter-widgets/controls"
          }
        },
        "dbb48c57f9f7470d9ad1f5f69f8030b9": {
          "model_module": "@jupyter-widgets/base",
          "model_name": "LayoutModel",
          "state": {
            "_view_name": "LayoutView",
            "grid_template_rows": null,
            "right": null,
            "justify_content": null,
            "_view_module": "@jupyter-widgets/base",
            "overflow": null,
            "_model_module_version": "1.2.0",
            "_view_count": null,
            "flex_flow": null,
            "width": null,
            "min_width": null,
            "border": null,
            "align_items": null,
            "bottom": null,
            "_model_module": "@jupyter-widgets/base",
            "top": null,
            "grid_column": null,
            "overflow_y": null,
            "overflow_x": null,
            "grid_auto_flow": null,
            "grid_area": null,
            "grid_template_columns": null,
            "flex": null,
            "_model_name": "LayoutModel",
            "justify_items": null,
            "grid_row": null,
            "max_height": null,
            "align_content": null,
            "visibility": null,
            "align_self": null,
            "height": null,
            "min_height": null,
            "padding": null,
            "grid_auto_rows": null,
            "grid_gap": null,
            "max_width": null,
            "order": null,
            "_view_module_version": "1.2.0",
            "grid_template_areas": null,
            "object_position": null,
            "object_fit": null,
            "grid_auto_columns": null,
            "margin": null,
            "display": null,
            "left": null
          }
        },
        "73162cd2005940fd896b1354098d4b36": {
          "model_module": "@jupyter-widgets/controls",
          "model_name": "HBoxModel",
          "state": {
            "_view_name": "HBoxView",
            "_dom_classes": [],
            "_model_name": "HBoxModel",
            "_view_module": "@jupyter-widgets/controls",
            "_model_module_version": "1.5.0",
            "_view_count": null,
            "_view_module_version": "1.5.0",
            "box_style": "",
            "layout": "IPY_MODEL_7b39d5397bcf4c08bc2523dcb22faa47",
            "_model_module": "@jupyter-widgets/controls",
            "children": [
              "IPY_MODEL_4fa038db68154e3cacd8829d242d076b",
              "IPY_MODEL_b377b69507ce47a2a1863ae40b9fa250"
            ]
          }
        },
        "7b39d5397bcf4c08bc2523dcb22faa47": {
          "model_module": "@jupyter-widgets/base",
          "model_name": "LayoutModel",
          "state": {
            "_view_name": "LayoutView",
            "grid_template_rows": null,
            "right": null,
            "justify_content": null,
            "_view_module": "@jupyter-widgets/base",
            "overflow": null,
            "_model_module_version": "1.2.0",
            "_view_count": null,
            "flex_flow": null,
            "width": null,
            "min_width": null,
            "border": null,
            "align_items": null,
            "bottom": null,
            "_model_module": "@jupyter-widgets/base",
            "top": null,
            "grid_column": null,
            "overflow_y": null,
            "overflow_x": null,
            "grid_auto_flow": null,
            "grid_area": null,
            "grid_template_columns": null,
            "flex": null,
            "_model_name": "LayoutModel",
            "justify_items": null,
            "grid_row": null,
            "max_height": null,
            "align_content": null,
            "visibility": null,
            "align_self": null,
            "height": null,
            "min_height": null,
            "padding": null,
            "grid_auto_rows": null,
            "grid_gap": null,
            "max_width": null,
            "order": null,
            "_view_module_version": "1.2.0",
            "grid_template_areas": null,
            "object_position": null,
            "object_fit": null,
            "grid_auto_columns": null,
            "margin": null,
            "display": null,
            "left": null
          }
        },
        "4fa038db68154e3cacd8829d242d076b": {
          "model_module": "@jupyter-widgets/controls",
          "model_name": "IntProgressModel",
          "state": {
            "_view_name": "ProgressView",
            "style": "IPY_MODEL_80626b0d152d489b8b812bd84bcec009",
            "_dom_classes": [],
            "description": "Downloading: 100%",
            "_model_name": "IntProgressModel",
            "bar_style": "success",
            "max": 43,
            "_view_module": "@jupyter-widgets/controls",
            "_model_module_version": "1.5.0",
            "value": 43,
            "_view_count": null,
            "_view_module_version": "1.5.0",
            "orientation": "horizontal",
            "min": 0,
            "description_tooltip": null,
            "_model_module": "@jupyter-widgets/controls",
            "layout": "IPY_MODEL_db0e3ce0985c4ba992149af39dae5419"
          }
        },
        "b377b69507ce47a2a1863ae40b9fa250": {
          "model_module": "@jupyter-widgets/controls",
          "model_name": "HTMLModel",
          "state": {
            "_view_name": "HTMLView",
            "style": "IPY_MODEL_1d65a02b9ced4bd8bae167f77307bb19",
            "_dom_classes": [],
            "description": "",
            "_model_name": "HTMLModel",
            "placeholder": "​",
            "_view_module": "@jupyter-widgets/controls",
            "_model_module_version": "1.5.0",
            "value": " 43.0/43.0 [00:00&lt;00:00, 640B/s]",
            "_view_count": null,
            "_view_module_version": "1.5.0",
            "description_tooltip": null,
            "_model_module": "@jupyter-widgets/controls",
            "layout": "IPY_MODEL_cb3d3242de3e4e178d8ea99306239eea"
          }
        },
        "80626b0d152d489b8b812bd84bcec009": {
          "model_module": "@jupyter-widgets/controls",
          "model_name": "ProgressStyleModel",
          "state": {
            "_view_name": "StyleView",
            "_model_name": "ProgressStyleModel",
            "description_width": "initial",
            "_view_module": "@jupyter-widgets/base",
            "_model_module_version": "1.5.0",
            "_view_count": null,
            "_view_module_version": "1.2.0",
            "bar_color": null,
            "_model_module": "@jupyter-widgets/controls"
          }
        },
        "db0e3ce0985c4ba992149af39dae5419": {
          "model_module": "@jupyter-widgets/base",
          "model_name": "LayoutModel",
          "state": {
            "_view_name": "LayoutView",
            "grid_template_rows": null,
            "right": null,
            "justify_content": null,
            "_view_module": "@jupyter-widgets/base",
            "overflow": null,
            "_model_module_version": "1.2.0",
            "_view_count": null,
            "flex_flow": null,
            "width": null,
            "min_width": null,
            "border": null,
            "align_items": null,
            "bottom": null,
            "_model_module": "@jupyter-widgets/base",
            "top": null,
            "grid_column": null,
            "overflow_y": null,
            "overflow_x": null,
            "grid_auto_flow": null,
            "grid_area": null,
            "grid_template_columns": null,
            "flex": null,
            "_model_name": "LayoutModel",
            "justify_items": null,
            "grid_row": null,
            "max_height": null,
            "align_content": null,
            "visibility": null,
            "align_self": null,
            "height": null,
            "min_height": null,
            "padding": null,
            "grid_auto_rows": null,
            "grid_gap": null,
            "max_width": null,
            "order": null,
            "_view_module_version": "1.2.0",
            "grid_template_areas": null,
            "object_position": null,
            "object_fit": null,
            "grid_auto_columns": null,
            "margin": null,
            "display": null,
            "left": null
          }
        },
        "1d65a02b9ced4bd8bae167f77307bb19": {
          "model_module": "@jupyter-widgets/controls",
          "model_name": "DescriptionStyleModel",
          "state": {
            "_view_name": "StyleView",
            "_model_name": "DescriptionStyleModel",
            "description_width": "",
            "_view_module": "@jupyter-widgets/base",
            "_model_module_version": "1.5.0",
            "_view_count": null,
            "_view_module_version": "1.2.0",
            "_model_module": "@jupyter-widgets/controls"
          }
        },
        "cb3d3242de3e4e178d8ea99306239eea": {
          "model_module": "@jupyter-widgets/base",
          "model_name": "LayoutModel",
          "state": {
            "_view_name": "LayoutView",
            "grid_template_rows": null,
            "right": null,
            "justify_content": null,
            "_view_module": "@jupyter-widgets/base",
            "overflow": null,
            "_model_module_version": "1.2.0",
            "_view_count": null,
            "flex_flow": null,
            "width": null,
            "min_width": null,
            "border": null,
            "align_items": null,
            "bottom": null,
            "_model_module": "@jupyter-widgets/base",
            "top": null,
            "grid_column": null,
            "overflow_y": null,
            "overflow_x": null,
            "grid_auto_flow": null,
            "grid_area": null,
            "grid_template_columns": null,
            "flex": null,
            "_model_name": "LayoutModel",
            "justify_items": null,
            "grid_row": null,
            "max_height": null,
            "align_content": null,
            "visibility": null,
            "align_self": null,
            "height": null,
            "min_height": null,
            "padding": null,
            "grid_auto_rows": null,
            "grid_gap": null,
            "max_width": null,
            "order": null,
            "_view_module_version": "1.2.0",
            "grid_template_areas": null,
            "object_position": null,
            "object_fit": null,
            "grid_auto_columns": null,
            "margin": null,
            "display": null,
            "left": null
          }
        },
        "d3405b18b18242fb8266cd4e3e1dcd86": {
          "model_module": "@jupyter-widgets/controls",
          "model_name": "HBoxModel",
          "state": {
            "_view_name": "HBoxView",
            "_dom_classes": [],
            "_model_name": "HBoxModel",
            "_view_module": "@jupyter-widgets/controls",
            "_model_module_version": "1.5.0",
            "_view_count": null,
            "_view_module_version": "1.5.0",
            "box_style": "",
            "layout": "IPY_MODEL_af1790c088e444a8981d14f5f848b28e",
            "_model_module": "@jupyter-widgets/controls",
            "children": [
              "IPY_MODEL_a6e093aed4644aa6bd4933519bc801c2",
              "IPY_MODEL_f2096b7a6f724dbdaa54853898692004"
            ]
          }
        },
        "af1790c088e444a8981d14f5f848b28e": {
          "model_module": "@jupyter-widgets/base",
          "model_name": "LayoutModel",
          "state": {
            "_view_name": "LayoutView",
            "grid_template_rows": null,
            "right": null,
            "justify_content": null,
            "_view_module": "@jupyter-widgets/base",
            "overflow": null,
            "_model_module_version": "1.2.0",
            "_view_count": null,
            "flex_flow": null,
            "width": null,
            "min_width": null,
            "border": null,
            "align_items": null,
            "bottom": null,
            "_model_module": "@jupyter-widgets/base",
            "top": null,
            "grid_column": null,
            "overflow_y": null,
            "overflow_x": null,
            "grid_auto_flow": null,
            "grid_area": null,
            "grid_template_columns": null,
            "flex": null,
            "_model_name": "LayoutModel",
            "justify_items": null,
            "grid_row": null,
            "max_height": null,
            "align_content": null,
            "visibility": null,
            "align_self": null,
            "height": null,
            "min_height": null,
            "padding": null,
            "grid_auto_rows": null,
            "grid_gap": null,
            "max_width": null,
            "order": null,
            "_view_module_version": "1.2.0",
            "grid_template_areas": null,
            "object_position": null,
            "object_fit": null,
            "grid_auto_columns": null,
            "margin": null,
            "display": null,
            "left": null
          }
        },
        "a6e093aed4644aa6bd4933519bc801c2": {
          "model_module": "@jupyter-widgets/controls",
          "model_name": "IntProgressModel",
          "state": {
            "_view_name": "ProgressView",
            "style": "IPY_MODEL_e2afbc6593bf4a97a2aa3b38a919f6b1",
            "_dom_classes": [],
            "description": "Downloading: 100%",
            "_model_name": "IntProgressModel",
            "bar_style": "success",
            "max": 438235074,
            "_view_module": "@jupyter-widgets/controls",
            "_model_module_version": "1.5.0",
            "value": 438235074,
            "_view_count": null,
            "_view_module_version": "1.5.0",
            "orientation": "horizontal",
            "min": 0,
            "description_tooltip": null,
            "_model_module": "@jupyter-widgets/controls",
            "layout": "IPY_MODEL_8019c1f120f5441a94f0131ad9b7ce1b"
          }
        },
        "f2096b7a6f724dbdaa54853898692004": {
          "model_module": "@jupyter-widgets/controls",
          "model_name": "HTMLModel",
          "state": {
            "_view_name": "HTMLView",
            "style": "IPY_MODEL_8c5bb7c993704e73bee25b800a3d24d0",
            "_dom_classes": [],
            "description": "",
            "_model_name": "HTMLModel",
            "placeholder": "​",
            "_view_module": "@jupyter-widgets/controls",
            "_model_module_version": "1.5.0",
            "value": " 438M/438M [00:40&lt;00:00, 10.9MB/s]",
            "_view_count": null,
            "_view_module_version": "1.5.0",
            "description_tooltip": null,
            "_model_module": "@jupyter-widgets/controls",
            "layout": "IPY_MODEL_d93f5b449d434305a105fcb26ac05782"
          }
        },
        "e2afbc6593bf4a97a2aa3b38a919f6b1": {
          "model_module": "@jupyter-widgets/controls",
          "model_name": "ProgressStyleModel",
          "state": {
            "_view_name": "StyleView",
            "_model_name": "ProgressStyleModel",
            "description_width": "initial",
            "_view_module": "@jupyter-widgets/base",
            "_model_module_version": "1.5.0",
            "_view_count": null,
            "_view_module_version": "1.2.0",
            "bar_color": null,
            "_model_module": "@jupyter-widgets/controls"
          }
        },
        "8019c1f120f5441a94f0131ad9b7ce1b": {
          "model_module": "@jupyter-widgets/base",
          "model_name": "LayoutModel",
          "state": {
            "_view_name": "LayoutView",
            "grid_template_rows": null,
            "right": null,
            "justify_content": null,
            "_view_module": "@jupyter-widgets/base",
            "overflow": null,
            "_model_module_version": "1.2.0",
            "_view_count": null,
            "flex_flow": null,
            "width": null,
            "min_width": null,
            "border": null,
            "align_items": null,
            "bottom": null,
            "_model_module": "@jupyter-widgets/base",
            "top": null,
            "grid_column": null,
            "overflow_y": null,
            "overflow_x": null,
            "grid_auto_flow": null,
            "grid_area": null,
            "grid_template_columns": null,
            "flex": null,
            "_model_name": "LayoutModel",
            "justify_items": null,
            "grid_row": null,
            "max_height": null,
            "align_content": null,
            "visibility": null,
            "align_self": null,
            "height": null,
            "min_height": null,
            "padding": null,
            "grid_auto_rows": null,
            "grid_gap": null,
            "max_width": null,
            "order": null,
            "_view_module_version": "1.2.0",
            "grid_template_areas": null,
            "object_position": null,
            "object_fit": null,
            "grid_auto_columns": null,
            "margin": null,
            "display": null,
            "left": null
          }
        },
        "8c5bb7c993704e73bee25b800a3d24d0": {
          "model_module": "@jupyter-widgets/controls",
          "model_name": "DescriptionStyleModel",
          "state": {
            "_view_name": "StyleView",
            "_model_name": "DescriptionStyleModel",
            "description_width": "",
            "_view_module": "@jupyter-widgets/base",
            "_model_module_version": "1.5.0",
            "_view_count": null,
            "_view_module_version": "1.2.0",
            "_model_module": "@jupyter-widgets/controls"
          }
        },
        "d93f5b449d434305a105fcb26ac05782": {
          "model_module": "@jupyter-widgets/base",
          "model_name": "LayoutModel",
          "state": {
            "_view_name": "LayoutView",
            "grid_template_rows": null,
            "right": null,
            "justify_content": null,
            "_view_module": "@jupyter-widgets/base",
            "overflow": null,
            "_model_module_version": "1.2.0",
            "_view_count": null,
            "flex_flow": null,
            "width": null,
            "min_width": null,
            "border": null,
            "align_items": null,
            "bottom": null,
            "_model_module": "@jupyter-widgets/base",
            "top": null,
            "grid_column": null,
            "overflow_y": null,
            "overflow_x": null,
            "grid_auto_flow": null,
            "grid_area": null,
            "grid_template_columns": null,
            "flex": null,
            "_model_name": "LayoutModel",
            "justify_items": null,
            "grid_row": null,
            "max_height": null,
            "align_content": null,
            "visibility": null,
            "align_self": null,
            "height": null,
            "min_height": null,
            "padding": null,
            "grid_auto_rows": null,
            "grid_gap": null,
            "max_width": null,
            "order": null,
            "_view_module_version": "1.2.0",
            "grid_template_areas": null,
            "object_position": null,
            "object_fit": null,
            "grid_auto_columns": null,
            "margin": null,
            "display": null,
            "left": null
          }
        }
      }
    }
  },
  "cells": [
    {
      "cell_type": "code",
      "metadata": {
        "id": "-KAIqibvQUdh",
        "colab_type": "code",
        "outputId": "ed46acc7-dcb0-4579-8961-692b58dcab36",
        "colab": {
          "base_uri": "https://localhost:8080/",
          "height": 35
        }
      },
      "source": [
        "#https://github.com/chriskhanhtran/bert-for-sentiment-analysis\n",
        "import os\n",
        "import re\n",
        "from tqdm import tqdm\n",
        "import numpy as np\n",
        "import pandas as pd\n",
        "import matplotlib.pyplot as plt\n",
        "import torch\n",
        "from sklearn.metrics import accuracy_score, precision_score, recall_score, f1_score\n",
        "%tensorflow_version 1.x\n",
        "%matplotlib inline"
      ],
      "execution_count": 0,
      "outputs": [
        {
          "output_type": "stream",
          "text": [
            "TensorFlow 1.x selected.\n"
          ],
          "name": "stdout"
        }
      ]
    },
    {
      "cell_type": "code",
      "metadata": {
        "id": "Ic0_h6n2Q3nW",
        "colab_type": "code",
        "outputId": "943f312a-f798-4e3d-9c28-c4bc208e9c30",
        "colab": {
          "base_uri": "https://localhost:8080/",
          "height": 735
        }
      },
      "source": [
        "!pip install transformers"
      ],
      "execution_count": 0,
      "outputs": [
        {
          "output_type": "stream",
          "text": [
            "Collecting transformers\n",
            "\u001b[?25l  Downloading https://files.pythonhosted.org/packages/a3/78/92cedda05552398352ed9784908b834ee32a0bd071a9b32de287327370b7/transformers-2.8.0-py3-none-any.whl (563kB)\n",
            "\u001b[K     |████████████████████████████████| 573kB 13.3MB/s \n",
            "\u001b[?25hCollecting sentencepiece\n",
            "\u001b[?25l  Downloading https://files.pythonhosted.org/packages/98/2c/8df20f3ac6c22ac224fff307ebc102818206c53fc454ecd37d8ac2060df5/sentencepiece-0.1.86-cp36-cp36m-manylinux1_x86_64.whl (1.0MB)\n",
            "\u001b[K     |████████████████████████████████| 1.0MB 13.0MB/s \n",
            "\u001b[?25hRequirement already satisfied: tqdm>=4.27 in /usr/local/lib/python3.6/dist-packages (from transformers) (4.38.0)\n",
            "Requirement already satisfied: numpy in /usr/local/lib/python3.6/dist-packages (from transformers) (1.18.3)\n",
            "Collecting sacremoses\n",
            "\u001b[?25l  Downloading https://files.pythonhosted.org/packages/99/50/93509f906a40bffd7d175f97fd75ea328ad9bd91f48f59c4bd084c94a25e/sacremoses-0.0.41.tar.gz (883kB)\n",
            "\u001b[K     |████████████████████████████████| 890kB 54.9MB/s \n",
            "\u001b[?25hRequirement already satisfied: dataclasses; python_version < \"3.7\" in /usr/local/lib/python3.6/dist-packages (from transformers) (0.7)\n",
            "Requirement already satisfied: boto3 in /usr/local/lib/python3.6/dist-packages (from transformers) (1.12.47)\n",
            "Collecting tokenizers==0.5.2\n",
            "\u001b[?25l  Downloading https://files.pythonhosted.org/packages/d1/3f/73c881ea4723e43c1e9acf317cf407fab3a278daab3a69c98dcac511c04f/tokenizers-0.5.2-cp36-cp36m-manylinux1_x86_64.whl (3.7MB)\n",
            "\u001b[K     |████████████████████████████████| 3.7MB 50.4MB/s \n",
            "\u001b[?25hRequirement already satisfied: requests in /usr/local/lib/python3.6/dist-packages (from transformers) (2.23.0)\n",
            "Requirement already satisfied: regex!=2019.12.17 in /usr/local/lib/python3.6/dist-packages (from transformers) (2019.12.20)\n",
            "Requirement already satisfied: filelock in /usr/local/lib/python3.6/dist-packages (from transformers) (3.0.12)\n",
            "Requirement already satisfied: six in /usr/local/lib/python3.6/dist-packages (from sacremoses->transformers) (1.12.0)\n",
            "Requirement already satisfied: click in /usr/local/lib/python3.6/dist-packages (from sacremoses->transformers) (7.1.2)\n",
            "Requirement already satisfied: joblib in /usr/local/lib/python3.6/dist-packages (from sacremoses->transformers) (0.14.1)\n",
            "Requirement already satisfied: s3transfer<0.4.0,>=0.3.0 in /usr/local/lib/python3.6/dist-packages (from boto3->transformers) (0.3.3)\n",
            "Requirement already satisfied: jmespath<1.0.0,>=0.7.1 in /usr/local/lib/python3.6/dist-packages (from boto3->transformers) (0.9.5)\n",
            "Requirement already satisfied: botocore<1.16.0,>=1.15.47 in /usr/local/lib/python3.6/dist-packages (from boto3->transformers) (1.15.47)\n",
            "Requirement already satisfied: chardet<4,>=3.0.2 in /usr/local/lib/python3.6/dist-packages (from requests->transformers) (3.0.4)\n",
            "Requirement already satisfied: idna<3,>=2.5 in /usr/local/lib/python3.6/dist-packages (from requests->transformers) (2.9)\n",
            "Requirement already satisfied: certifi>=2017.4.17 in /usr/local/lib/python3.6/dist-packages (from requests->transformers) (2020.4.5.1)\n",
            "Requirement already satisfied: urllib3!=1.25.0,!=1.25.1,<1.26,>=1.21.1 in /usr/local/lib/python3.6/dist-packages (from requests->transformers) (1.24.3)\n",
            "Requirement already satisfied: docutils<0.16,>=0.10 in /usr/local/lib/python3.6/dist-packages (from botocore<1.16.0,>=1.15.47->boto3->transformers) (0.15.2)\n",
            "Requirement already satisfied: python-dateutil<3.0.0,>=2.1 in /usr/local/lib/python3.6/dist-packages (from botocore<1.16.0,>=1.15.47->boto3->transformers) (2.8.1)\n",
            "Building wheels for collected packages: sacremoses\n",
            "  Building wheel for sacremoses (setup.py) ... \u001b[?25l\u001b[?25hdone\n",
            "  Created wheel for sacremoses: filename=sacremoses-0.0.41-cp36-none-any.whl size=893334 sha256=5640d55a5f95fdad54c9b3b309eaa8b2e0aa0dd683d133419458df2717aa6cf5\n",
            "  Stored in directory: /root/.cache/pip/wheels/22/5a/d4/b020a81249de7dc63758a34222feaa668dbe8ebfe9170cc9b1\n",
            "Successfully built sacremoses\n",
            "Installing collected packages: sentencepiece, sacremoses, tokenizers, transformers\n",
            "Successfully installed sacremoses-0.0.41 sentencepiece-0.1.86 tokenizers-0.5.2 transformers-2.8.0\n"
          ],
          "name": "stdout"
        }
      ]
    },
    {
      "cell_type": "code",
      "metadata": {
        "id": "sKiZLZFAQ9B3",
        "colab_type": "code",
        "outputId": "9b4e896c-b672-46ee-8de9-ed1106b386b4",
        "colab": {
          "base_uri": "https://localhost:8080/",
          "height": 54
        }
      },
      "source": [
        "if torch.cuda.is_available():       \n",
        "    device = torch.device(\"cuda\")\n",
        "    print(f'There are {torch.cuda.device_count()} GPU(s) available.')\n",
        "    print('Device name:', torch.cuda.get_device_name(0))\n",
        "\n",
        "else:\n",
        "    print('No GPU available, using the CPU instead.')\n",
        "    device = torch.device(\"cpu\")\n"
      ],
      "execution_count": 0,
      "outputs": [
        {
          "output_type": "stream",
          "text": [
            "There are 1 GPU(s) available.\n",
            "Device name: Tesla P4\n"
          ],
          "name": "stdout"
        }
      ]
    },
    {
      "cell_type": "code",
      "metadata": {
        "id": "ZETF9nghQeM2",
        "colab_type": "code",
        "outputId": "ab6113e5-fae0-4824-b688-96f6ea28b213",
        "colab": {
          "base_uri": "https://localhost:8080/",
          "height": 206
        }
      },
      "source": [
        "data = pd.read_csv(\"/content/drive/My Drive/BERT/CSV_FINAL_EQUALIZADO.csv\")\n",
        "data = data.drop([\"Unnamed: 0\", \"review_rate\"], axis=1)\n",
        "data.head()"
      ],
      "execution_count": 0,
      "outputs": [
        {
          "output_type": "execute_result",
          "data": {
            "text/html": [
              "<div>\n",
              "<style scoped>\n",
              "    .dataframe tbody tr th:only-of-type {\n",
              "        vertical-align: middle;\n",
              "    }\n",
              "\n",
              "    .dataframe tbody tr th {\n",
              "        vertical-align: top;\n",
              "    }\n",
              "\n",
              "    .dataframe thead th {\n",
              "        text-align: right;\n",
              "    }\n",
              "</style>\n",
              "<table border=\"1\" class=\"dataframe\">\n",
              "  <thead>\n",
              "    <tr style=\"text-align: right;\">\n",
              "      <th></th>\n",
              "      <th>review_body</th>\n",
              "      <th>RESULTADO_BINARIO</th>\n",
              "    </tr>\n",
              "  </thead>\n",
              "  <tbody>\n",
              "    <tr>\n",
              "      <th>0</th>\n",
              "      <td>Excelente experiência !! Atendimento impecável...</td>\n",
              "      <td>1</td>\n",
              "    </tr>\n",
              "    <tr>\n",
              "      <th>1</th>\n",
              "      <td>Local agradável, porém, já fui em melhores, co...</td>\n",
              "      <td>0</td>\n",
              "    </tr>\n",
              "    <tr>\n",
              "      <th>2</th>\n",
              "      <td>Esta é a “milésima” vez que venho a este resta...</td>\n",
              "      <td>1</td>\n",
              "    </tr>\n",
              "    <tr>\n",
              "      <th>3</th>\n",
              "      <td>O local, o atendimento e a comida, sensacionai...</td>\n",
              "      <td>1</td>\n",
              "    </tr>\n",
              "    <tr>\n",
              "      <th>4</th>\n",
              "      <td>Comida espetacular, atendimento ímpar! Frank e...</td>\n",
              "      <td>1</td>\n",
              "    </tr>\n",
              "  </tbody>\n",
              "</table>\n",
              "</div>"
            ],
            "text/plain": [
              "                                         review_body  RESULTADO_BINARIO\n",
              "0  Excelente experiência !! Atendimento impecável...                  1\n",
              "1  Local agradável, porém, já fui em melhores, co...                  0\n",
              "2  Esta é a “milésima” vez que venho a este resta...                  1\n",
              "3  O local, o atendimento e a comida, sensacionai...                  1\n",
              "4  Comida espetacular, atendimento ímpar! Frank e...                  1"
            ]
          },
          "metadata": {
            "tags": []
          },
          "execution_count": 4
        }
      ]
    },
    {
      "cell_type": "code",
      "metadata": {
        "id": "x9JvfzJ1Qfrb",
        "colab_type": "code",
        "colab": {}
      },
      "source": [
        "from sklearn.model_selection import train_test_split\n",
        "\n",
        "X = data.review_body.values\n",
        "y = data.RESULTADO_BINARIO.values\n",
        "\n",
        "X_train, X_val, y_train, y_val =\\\n",
        "    train_test_split(X, y, test_size=0.1, random_state=2020)"
      ],
      "execution_count": 0,
      "outputs": []
    },
    {
      "cell_type": "code",
      "metadata": {
        "id": "XbVF4VhnQn-O",
        "colab_type": "code",
        "outputId": "4c90a8e1-778e-4698-c36e-f89d6e4d4390",
        "colab": {
          "base_uri": "https://localhost:8080/",
          "height": 54
        }
      },
      "source": [
        "import nltk\n",
        "# Uncomment to download \"stopwords\"\n",
        "nltk.download(\"stopwords\")\n",
        "from nltk.corpus import stopwords\n",
        "\n",
        "def text_preprocessing(s):\n",
        "    \"\"\"\n",
        "    - Lowercase the sentence\n",
        "    - Change \"'t\" to \"not\"\n",
        "    - Remove \"@name\"\n",
        "    - Isolate and remove punctuations except \"?\"\n",
        "    - Remove other special characters\n",
        "    - Remove stop words except \"not\" and \"can\"\n",
        "    - Remove trailing whitespace\n",
        "    \"\"\"\n",
        "    s = s.lower()\n",
        "    # Isolate and remove punctuations except '?'\n",
        "    s = re.sub(r'([\\'\\\"\\.\\(\\)\\!\\?\\\\\\/\\,])', r' \\1 ', s)\n",
        "    s = re.sub(r'[^\\w\\s\\?]', ' ', s)\n",
        "    # Remove some special characters\n",
        "    #s = re.sub(r'([\\;\\:\\|•«\\n])', ' ', s)\n",
        "    # Remove stopwords except 'not' and 'can'\n",
        "    s = \" \".join([word for word in s.split()\n",
        "                  if word not in stopwords.words('portuguese')])\n",
        "    # Remove trailing whitespace\n",
        "    s = re.sub(r'\\s+', ' ', s).strip()\n",
        "    \n",
        "    return s"
      ],
      "execution_count": 0,
      "outputs": [
        {
          "output_type": "stream",
          "text": [
            "[nltk_data] Downloading package stopwords to /root/nltk_data...\n",
            "[nltk_data]   Unzipping corpora/stopwords.zip.\n"
          ],
          "name": "stdout"
        }
      ]
    },
    {
      "cell_type": "code",
      "metadata": {
        "id": "uS0utQuxQwMO",
        "colab_type": "code",
        "outputId": "55bb2b95-b5dd-4e55-9f12-1ff327e0f12d",
        "colab": {
          "base_uri": "https://localhost:8080/",
          "height": 269,
          "referenced_widgets": [
            "19aedd6b7b4944969d86276f6872b367",
            "b5cdad4529164716b9ee0c66d3738217",
            "277d8024d44141ffa9f6fb9a5ec9bebb",
            "78fffaccc5944fddaf67ea5ae7e1e74a",
            "0e5242e9b3734e4d97fd7ff3d7db3ce4",
            "e2a0cade720f4275ba0abe1f0ddf7f1e",
            "810c1a53a86d49bbb60883bd8d5b5f22",
            "0280e47f1f2b4e0a89d895cb12c9c109",
            "98fe1febcb1042e8816d49e1ba496da4",
            "b5cfcdd30542486785d77d949da1751a",
            "651ba37e01b040568039bd8bbad63973",
            "7d07c044c6004d218185dc13106d88f4",
            "28107dee79b94dc1a4efc247edcb7212",
            "717959ec7a44440da1498324f701cc12",
            "74b9ea5592ba4e3ca82c157d9c4d9dcf",
            "7cb543503fe244e3a523078af870ee0c",
            "2d4f647d467248e2b61feafa17aa6b69",
            "66a6ced029ad4b06997b9a6b3e151d13",
            "e1aba014c9c24ba8bd7fa950a252ad3a",
            "92b90c7f577a48b4a68e8265d3e412ed",
            "27a69f3b5ed44a93aa9327f2f93b44d0",
            "2635e6ebf77e4d0990e616b9d3ba2e9b",
            "b1ad657dcb9142bd8187e43f0885b3a1",
            "788108a53b9143c58cc90a1e0f444f94",
            "19dde23d7aa64fa3aa3167691888c125",
            "e02bf77f713b40a59eb96739cff0cb2a",
            "323a1f111a7243568b4844efe6bceb7f",
            "54d00b7aaa2b40c39410b274e30a0f0e",
            "73997641e73546e6bbb61df093320ddc",
            "f87d7be2421f4e28af8188e24b0fe6b7",
            "68e654709c304d628fc7f9f78ceb3b09",
            "dbb48c57f9f7470d9ad1f5f69f8030b9",
            "73162cd2005940fd896b1354098d4b36",
            "7b39d5397bcf4c08bc2523dcb22faa47",
            "4fa038db68154e3cacd8829d242d076b",
            "b377b69507ce47a2a1863ae40b9fa250",
            "80626b0d152d489b8b812bd84bcec009",
            "db0e3ce0985c4ba992149af39dae5419",
            "1d65a02b9ced4bd8bae167f77307bb19",
            "cb3d3242de3e4e178d8ea99306239eea"
          ]
        }
      },
      "source": [
        "from transformers import BertTokenizer, AutoModel, AutoTokenizer\n",
        "\n",
        "# Load the BERT tokenizer\n",
        "#tokenizer = BertTokenizer.from_pretrained('vocab.txt', do_lower_case=True)\n",
        "#tokenizer = AutoTokenizer.from_pretrained('neuralmind/bert-base-portuguese-cased')\n",
        "tokenizer = AutoTokenizer.from_pretrained('neuralmind/bert-base-portuguese-cased')\n",
        "# Create a function to tokenize a set of texts\n",
        "def preprocessing_for_bert(data):\n",
        "    \"\"\"Perform required preprocessing steps for pretrained BERT.\n",
        "    @param    data (np.array): Array of texts to be processed.\n",
        "    @return   input_ids (torch.Tensor): Tensor of token ids to be fed to a model.\n",
        "    @return   attention_masks (torch.Tensor): Tensor of indices specifying which\n",
        "                  tokens should be attended to by the model.\n",
        "    \"\"\"\n",
        "    # Create empty lists to store outputs\n",
        "    input_ids = []\n",
        "    attention_masks = []\n",
        "\n",
        "    # For every sentence...\n",
        "    for sent in data:\n",
        "        # `encode_plus` will:\n",
        "        #    (1) Tokenize the sentence\n",
        "        #    (2) Add the `[CLS]` and `[SEP]` token to the start and end\n",
        "        #    (3) Truncate/Pad sentence to max length\n",
        "        #    (4) Map tokens to their IDs\n",
        "        #    (5) Create attention mask\n",
        "        #    (6) Return a dictionary of outputs\n",
        "        encoded_sent = tokenizer.encode_plus(\n",
        "            text=text_preprocessing(sent),  # Preprocess sentence\n",
        "            add_special_tokens=True,        # Add `[CLS]` and `[SEP]`\n",
        "            max_length=MAX_LEN,                  # Max length to truncate/pad\n",
        "            pad_to_max_length=True,         # Pad sentence to max length\n",
        "            #return_tensors='pt',           # Return PyTorch tensor\n",
        "            return_attention_mask=True      # Return attention mask\n",
        "            )\n",
        "        \n",
        "        # Add the outputs to the lists\n",
        "        input_ids.append(encoded_sent.get('input_ids'))\n",
        "        attention_masks.append(encoded_sent.get('attention_mask'))\n",
        "\n",
        "    # Convert lists to tensors\n",
        "    input_ids = torch.tensor(input_ids)\n",
        "    attention_masks = torch.tensor(attention_masks)\n",
        "\n",
        "    return input_ids, attention_masks"
      ],
      "execution_count": 0,
      "outputs": [
        {
          "output_type": "display_data",
          "data": {
            "application/vnd.jupyter.widget-view+json": {
              "model_id": "19aedd6b7b4944969d86276f6872b367",
              "version_minor": 0,
              "version_major": 2
            },
            "text/plain": [
              "HBox(children=(IntProgress(value=0, description='Downloading', max=647, style=ProgressStyle(description_width=…"
            ]
          },
          "metadata": {
            "tags": []
          }
        },
        {
          "output_type": "stream",
          "text": [
            "\n"
          ],
          "name": "stdout"
        },
        {
          "output_type": "display_data",
          "data": {
            "application/vnd.jupyter.widget-view+json": {
              "model_id": "98fe1febcb1042e8816d49e1ba496da4",
              "version_minor": 0,
              "version_major": 2
            },
            "text/plain": [
              "HBox(children=(IntProgress(value=0, description='Downloading', max=209528, style=ProgressStyle(description_wid…"
            ]
          },
          "metadata": {
            "tags": []
          }
        },
        {
          "output_type": "stream",
          "text": [
            "\n"
          ],
          "name": "stdout"
        },
        {
          "output_type": "display_data",
          "data": {
            "application/vnd.jupyter.widget-view+json": {
              "model_id": "2d4f647d467248e2b61feafa17aa6b69",
              "version_minor": 0,
              "version_major": 2
            },
            "text/plain": [
              "HBox(children=(IntProgress(value=0, description='Downloading', max=2, style=ProgressStyle(description_width='i…"
            ]
          },
          "metadata": {
            "tags": []
          }
        },
        {
          "output_type": "stream",
          "text": [
            "\n"
          ],
          "name": "stdout"
        },
        {
          "output_type": "display_data",
          "data": {
            "application/vnd.jupyter.widget-view+json": {
              "model_id": "19dde23d7aa64fa3aa3167691888c125",
              "version_minor": 0,
              "version_major": 2
            },
            "text/plain": [
              "HBox(children=(IntProgress(value=0, description='Downloading', max=112, style=ProgressStyle(description_width=…"
            ]
          },
          "metadata": {
            "tags": []
          }
        },
        {
          "output_type": "stream",
          "text": [
            "\n"
          ],
          "name": "stdout"
        },
        {
          "output_type": "display_data",
          "data": {
            "application/vnd.jupyter.widget-view+json": {
              "model_id": "73162cd2005940fd896b1354098d4b36",
              "version_minor": 0,
              "version_major": 2
            },
            "text/plain": [
              "HBox(children=(IntProgress(value=0, description='Downloading', max=43, style=ProgressStyle(description_width='…"
            ]
          },
          "metadata": {
            "tags": []
          }
        },
        {
          "output_type": "stream",
          "text": [
            "\n"
          ],
          "name": "stdout"
        }
      ]
    },
    {
      "cell_type": "code",
      "metadata": {
        "id": "VEqSBUxqRNXY",
        "colab_type": "code",
        "outputId": "642f2336-27db-4f92-abfd-82d29cc22042",
        "colab": {
          "base_uri": "https://localhost:8080/",
          "height": 35
        }
      },
      "source": [
        "encoded_tweets = [tokenizer.encode(sent, add_special_tokens=True) for sent in data.review_body]\n",
        "\n",
        "\n",
        "max_len = max([len(sent) for sent in encoded_tweets])\n",
        "print('Max length: ', max_len)"
      ],
      "execution_count": 0,
      "outputs": [
        {
          "output_type": "stream",
          "text": [
            "Max length:  1678\n"
          ],
          "name": "stdout"
        }
      ]
    },
    {
      "cell_type": "code",
      "metadata": {
        "id": "BKq5RgrtROKO",
        "colab_type": "code",
        "outputId": "a6951904-3c06-4d37-b882-ffce2827fb0a",
        "colab": {
          "base_uri": "https://localhost:8080/",
          "height": 92
        }
      },
      "source": [
        "MAX_LEN = 256\n",
        "\n",
        "token_ids = list(preprocessing_for_bert([X[0]])[0].squeeze().numpy())\n",
        "print('Original: ', X[0])\n",
        "print('Token IDs: ', token_ids)\n",
        "\n",
        "\n",
        "print('Tokenizando os dados...')\n",
        "train_inputs, train_masks = preprocessing_for_bert(X_train)\n",
        "val_inputs, val_masks = preprocessing_for_bert(X_val)"
      ],
      "execution_count": 0,
      "outputs": [
        {
          "output_type": "stream",
          "text": [
            "Original:  Excelente experiência !! Atendimento impecável do funcionário Franklin. Comida excepcional e ambiente muito agradável. Recomendo!!\n",
            "Token IDs:  [101, 9235, 4040, 11289, 6554, 7775, 415, 13222, 6251, 22331, 3552, 9652, 21300, 3580, 19260, 9099, 22280, 102, 0, 0, 0, 0, 0, 0, 0, 0, 0, 0, 0, 0, 0, 0, 0, 0, 0, 0, 0, 0, 0, 0, 0, 0, 0, 0, 0, 0, 0, 0, 0, 0, 0, 0, 0, 0, 0, 0, 0, 0, 0, 0, 0, 0, 0, 0, 0, 0, 0, 0, 0, 0, 0, 0, 0, 0, 0, 0, 0, 0, 0, 0, 0, 0, 0, 0, 0, 0, 0, 0, 0, 0, 0, 0, 0, 0, 0, 0, 0, 0, 0, 0, 0, 0, 0, 0, 0, 0, 0, 0, 0, 0, 0, 0, 0, 0, 0, 0, 0, 0, 0, 0, 0, 0, 0, 0, 0, 0, 0, 0, 0, 0, 0, 0, 0, 0, 0, 0, 0, 0, 0, 0, 0, 0, 0, 0, 0, 0, 0, 0, 0, 0, 0, 0, 0, 0, 0, 0, 0, 0, 0, 0, 0, 0, 0, 0, 0, 0, 0, 0, 0, 0, 0, 0, 0, 0, 0, 0, 0, 0, 0, 0, 0, 0, 0, 0, 0, 0, 0, 0, 0, 0, 0, 0, 0, 0, 0, 0, 0, 0, 0, 0, 0, 0, 0, 0, 0, 0, 0, 0, 0, 0, 0, 0, 0, 0, 0, 0, 0, 0, 0, 0, 0, 0, 0, 0, 0, 0, 0, 0, 0, 0, 0, 0, 0, 0, 0, 0, 0, 0, 0, 0, 0, 0, 0, 0, 0, 0, 0, 0, 0, 0, 0, 0, 0, 0, 0, 0]\n",
            "Tokenizando os dados...\n"
          ],
          "name": "stdout"
        }
      ]
    },
    {
      "cell_type": "code",
      "metadata": {
        "id": "d573JvTCRTe6",
        "colab_type": "code",
        "colab": {}
      },
      "source": [
        "#CRIANDO O DATALOADER:\n",
        "\n",
        "from torch.utils.data import TensorDataset, DataLoader, RandomSampler, SequentialSampler\n",
        "\n",
        "train_labels = torch.tensor(y_train)\n",
        "val_labels = torch.tensor(y_val)\n",
        "\n",
        "\n",
        "batch_size = 16\n",
        "\n",
        "#treino:\n",
        "train_data = TensorDataset(train_inputs, train_masks, train_labels)\n",
        "train_sampler = RandomSampler(train_data)\n",
        "train_dataloader = DataLoader(train_data, sampler=train_sampler, batch_size=batch_size)\n",
        "#teste:\n",
        "val_data = TensorDataset(val_inputs, val_masks, val_labels)\n",
        "val_sampler = SequentialSampler(val_data)\n",
        "val_dataloader = DataLoader(val_data, sampler=val_sampler, batch_size=batch_size)"
      ],
      "execution_count": 0,
      "outputs": []
    },
    {
      "cell_type": "code",
      "metadata": {
        "id": "6_Fd6TfKReAn",
        "colab_type": "code",
        "outputId": "aab0fc60-6f1d-4ceb-b0e2-aaaa586b56d9",
        "colab": {
          "base_uri": "https://localhost:8080/",
          "height": 54
        }
      },
      "source": [
        "%%time\n",
        "import torch\n",
        "import torch.nn as nn\n",
        "from transformers import BertModel, AutoModel\n",
        "\n",
        "\n",
        "class BertClassifier(nn.Module):\n",
        "   \n",
        "    def __init__(self, freeze_bert=False):\n",
        "     \n",
        "        super(BertClassifier, self).__init__()\n",
        "        D_in, H, D_out = 768, 50, 2\n",
        "\n",
        "    \n",
        "        #self.bert = BertModel.from_pretrained('bert-base-multilingual-uncased')\n",
        "        #self.bert = AutoModel.from_pretrained('neuralmind/bert-base-portuguese-cased')\n",
        "        self.bert = AutoModel.from_pretrained('neuralmind/bert-base-portuguese-cased')\n",
        "        self.classifier = nn.Sequential(\n",
        "            nn.Linear(D_in, H),\n",
        "            nn.ReLU(),\n",
        "         \n",
        "            nn.Linear(H, D_out)\n",
        "        )\n",
        "\n",
        "      \n",
        "        if freeze_bert:\n",
        "            for param in self.bert.parameters():\n",
        "                param.requires_grad = False\n",
        "        \n",
        "    def forward(self, input_ids, attention_mask):\n",
        "         \n",
        "        outputs = self.bert(input_ids=input_ids,\n",
        "                            attention_mask=attention_mask)\n",
        "        \n",
        "      \n",
        "        last_hidden_state_cls = outputs[0][:, 0, :]\n",
        "\n",
        "        logits = self.classifier(last_hidden_state_cls)\n",
        "\n",
        "        return logits"
      ],
      "execution_count": 0,
      "outputs": [
        {
          "output_type": "stream",
          "text": [
            "CPU times: user 45 µs, sys: 0 ns, total: 45 µs\n",
            "Wall time: 48.4 µs\n"
          ],
          "name": "stdout"
        }
      ]
    },
    {
      "cell_type": "code",
      "metadata": {
        "id": "7YSHD2hxRfuk",
        "colab_type": "code",
        "colab": {}
      },
      "source": [
        "from transformers import AdamW, get_linear_schedule_with_warmup\n",
        "\n",
        "def initialize_model(epochs=4):\n",
        "    \"\"\"Initialize the Bert Classifier, the optimizer and the learning rate scheduler.\n",
        "    \"\"\"\n",
        "    # Instantiate Bert Classifier\n",
        "    bert_classifier = BertClassifier(freeze_bert=False)\n",
        "\n",
        "    # Tell PyTorch to run the model on GPU\n",
        "    bert_classifier.to(device)\n",
        "\n",
        "    # Create the optimizer\n",
        "    optimizer = AdamW(bert_classifier.parameters(),\n",
        "                      lr=5e-5,   \n",
        "                      eps=1e-8  \n",
        "                      )\n",
        "\n",
        "    \n",
        "    total_steps = len(train_dataloader) * epochs\n",
        "\n",
        "    \n",
        "    scheduler = get_linear_schedule_with_warmup(optimizer,\n",
        "                                                num_warmup_steps=0, \n",
        "                                                num_training_steps=total_steps)\n",
        "    return bert_classifier, optimizer, scheduler"
      ],
      "execution_count": 0,
      "outputs": []
    },
    {
      "cell_type": "code",
      "metadata": {
        "id": "veVmul_SRi3k",
        "colab_type": "code",
        "outputId": "23a1e4f1-c8cf-457b-b02c-21a4fa3aabed",
        "colab": {
          "base_uri": "https://localhost:8080/",
          "height": 55
        }
      },
      "source": [
        "import random\n",
        "import time\n",
        "\n",
        "\n",
        "loss_fn = nn.CrossEntropyLoss()\n",
        "\n",
        "def set_seed(seed_value=42):\n",
        "    \n",
        "    random.seed(seed_value)\n",
        "    np.random.seed(seed_value)\n",
        "    torch.manual_seed(seed_value)\n",
        "    torch.cuda.manual_seed_all(seed_value)\n",
        "\n",
        "def train(model, train_dataloader, val_dataloader=None, epochs=4, evaluation=False):\n",
        "   \n",
        "    print(\"Treino iniciado...\\n\")\n",
        "    for epoch_i in range(epochs):\n",
        "\n",
        "        print(f\"{'Epoch':^7} | {'Batch':^7} | {'Train Loss':^12} | {'Val Loss':^10} | {'Val Acc':^9} | {'Tempo':^9}\")\n",
        "        print(\"-\"*70)\n",
        "\n",
        "        t0_epoch, t0_batch = time.time(), time.time()\n",
        "\n",
        "       \n",
        "        total_loss, batch_loss, batch_counts = 0, 0, 0\n",
        "\n",
        "        \n",
        "        model.train()\n",
        "\n",
        "        \n",
        "        for step, batch in enumerate(train_dataloader):\n",
        "            batch_counts +=1\n",
        "            \n",
        "            b_input_ids, b_attn_mask, b_labels = tuple(t.to(device) for t in batch)\n",
        "\n",
        "            \n",
        "            model.zero_grad()\n",
        "\n",
        "           \n",
        "            logits = model(b_input_ids, b_attn_mask)\n",
        "\n",
        "          \n",
        "            loss = loss_fn(logits, b_labels)\n",
        "            batch_loss += loss.item()\n",
        "            total_loss += loss.item()\n",
        "\n",
        "          \n",
        "            loss.backward()\n",
        "\n",
        "        \n",
        "            torch.nn.utils.clip_grad_norm_(model.parameters(), 1.0)\n",
        "\n",
        "          \n",
        "            optimizer.step()\n",
        "            scheduler.step()\n",
        "\n",
        "      \n",
        "            if (step % 20 == 0 and step != 0) or (step == len(train_dataloader) - 1):\n",
        "              \n",
        "                time_elapsed = time.time() - t0_batch\n",
        "\n",
        "                \n",
        "                print(f\"{epoch_i + 1:^7} | {step:^7} | {batch_loss / batch_counts:^12.6f} | {'-':^10} | {'-':^9} | {time_elapsed:^9.2f}\")\n",
        "\n",
        "              \n",
        "                batch_loss, batch_counts = 0, 0\n",
        "                t0_batch = time.time()\n",
        "\n",
        "            \n",
        "        avg_train_loss = total_loss / len(train_dataloader)\n",
        "\n",
        "        print(\"-\"*70)\n",
        "  \n",
        "        if evaluation == True:\n",
        "           \n",
        "            val_loss, val_accuracy = evaluate(model, val_dataloader)\n",
        "\n",
        "         \n",
        "            time_elapsed = time.time() - t0_epoch\n",
        "            \n",
        "            print(f\"{epoch_i + 1:^7} | {'-':^7} | {avg_train_loss:^12.6f} | {val_loss:^10.6f} | {val_accuracy:^9.2f} | {time_elapsed:^9.2f}\")\n",
        "            print(\"-\"*70)\n",
        "        print(\"\\n\")\n",
        "    \n",
        "    print(\"Fim da etapa de treinamento!\")\n",
        "    torch.save(model.state_dict(), '/content/drive/My Drive/BERT/'+\"modelo_pronto_2_2\")\n",
        "\n",
        "def evaluate(model, val_dataloader):\n",
        "   \n",
        "    model.eval()\n",
        "    val_accuracy = []\n",
        "    val_loss = []\n",
        "    for batch in val_dataloader:    \n",
        "        b_input_ids, b_attn_mask, b_labels = tuple(t.to(device) for t in batch)   \n",
        "        with torch.no_grad():\n",
        "            logits = model(b_input_ids, b_attn_mask)   \n",
        "        loss = loss_fn(logits, b_labels)\n",
        "        val_loss.append(loss.item())     \n",
        "        preds = torch.argmax(logits, dim=1).flatten()    \n",
        "        accuracy = (preds == b_labels).cpu().numpy().mean() * 100\n",
        "        val_accuracy.append(accuracy)\n",
        "    print(type(preds))\n",
        "    val_loss = np.mean(val_loss)\n",
        "    val_accuracy = np.mean(val_accuracy)\n",
        "    return val_loss, val_accuracy\n",
        "'''\n",
        "    accuracy = accuracy_score(y_true, y_pred)\n",
        "    precisao = precision_score(y_true, y_pred)\n",
        "    recall = recall_score(y_true, y_pred)\n",
        "    fscore = f1_score(y_true, y_pred)\n",
        "\n",
        "\n",
        "    print(f' Acurácia: {accuracy*100:.2f}%',  (\"\\n\"),\n",
        "          'Precisão: ', precisao,  (\"\\n\"),\n",
        "          'Recall: ', recall,  (\"\\n\"),\n",
        "          'F1 score: ', fscore)'''\n",
        "\n",
        "\n",
        "      "
      ],
      "execution_count": 0,
      "outputs": [
        {
          "output_type": "execute_result",
          "data": {
            "text/plain": [
              "'\\n    accuracy = accuracy_score(y_true, y_pred)\\n    precisao = precision_score(y_true, y_pred)\\n    recall = recall_score(y_true, y_pred)\\n    fscore = f1_score(y_true, y_pred)\\n\\n\\n    print(f\\' Acurácia: {accuracy*100:.2f}%\\',  (\"\\n\"),\\n          \\'Precisão: \\', precisao,  (\"\\n\"),\\n          \\'Recall: \\', recall,  (\"\\n\"),\\n          \\'F1 score: \\', fscore)'"
            ]
          },
          "metadata": {
            "tags": []
          },
          "execution_count": 13
        }
      ]
    },
    {
      "cell_type": "code",
      "metadata": {
        "id": "Zhc3nO0QRj7N",
        "colab_type": "code",
        "outputId": "3db99c6c-7d87-4376-d06d-7976fd124a9b",
        "colab": {
          "base_uri": "https://localhost:8080/",
          "height": 67,
          "referenced_widgets": [
            "d3405b18b18242fb8266cd4e3e1dcd86",
            "af1790c088e444a8981d14f5f848b28e",
            "a6e093aed4644aa6bd4933519bc801c2",
            "f2096b7a6f724dbdaa54853898692004",
            "e2afbc6593bf4a97a2aa3b38a919f6b1",
            "8019c1f120f5441a94f0131ad9b7ce1b",
            "8c5bb7c993704e73bee25b800a3d24d0",
            "d93f5b449d434305a105fcb26ac05782"
          ]
        }
      },
      "source": [
        "set_seed(42)    \n",
        "bert_classifier, optimizer, scheduler = initialize_model(epochs=2)"
      ],
      "execution_count": 0,
      "outputs": [
        {
          "output_type": "display_data",
          "data": {
            "application/vnd.jupyter.widget-view+json": {
              "model_id": "d3405b18b18242fb8266cd4e3e1dcd86",
              "version_minor": 0,
              "version_major": 2
            },
            "text/plain": [
              "HBox(children=(IntProgress(value=0, description='Downloading', max=438235074, style=ProgressStyle(description_…"
            ]
          },
          "metadata": {
            "tags": []
          }
        },
        {
          "output_type": "stream",
          "text": [
            "\n"
          ],
          "name": "stdout"
        }
      ]
    },
    {
      "cell_type": "code",
      "metadata": {
        "id": "8iUhwOnVRpk-",
        "colab_type": "code",
        "colab": {}
      },
      "source": [
        "import torch.nn.functional as F\n",
        "\n",
        "def bert_predict(model, test_dataloader):\n",
        "\n",
        "    model.eval()\n",
        "\n",
        "    all_logits = []\n",
        "\n",
        "\n",
        "    for batch in test_dataloader:\n",
        "        \n",
        "        b_input_ids, b_attn_mask = tuple(t.to(device) for t in batch)[:2]\n",
        "\n",
        "        \n",
        "        with torch.no_grad():\n",
        "            logits = model(b_input_ids, b_attn_mask)\n",
        "        all_logits.append(logits)\n",
        "    \n",
        "   \n",
        "    all_logits = torch.cat(all_logits, dim=0)\n",
        "\n",
        "   \n",
        "    probs = F.softmax(all_logits, dim=1).cpu().numpy()\n",
        "\n",
        "    return probs"
      ],
      "execution_count": 0,
      "outputs": []
    },
    {
      "cell_type": "code",
      "metadata": {
        "id": "1LABYoOERw_f",
        "colab_type": "code",
        "colab": {}
      },
      "source": [
        "from sklearn.metrics import accuracy_score, roc_curve, auc\n",
        "\n",
        "def evaluate_roc(probs, y_true):\n",
        "  \n",
        "    preds = probs[:, 1]\n",
        "    fpr, tpr, threshold = roc_curve(y_true, preds)\n",
        "    roc_auc = auc(fpr, tpr)\n",
        "    print(f' AUC: {roc_auc:.4f}')\n",
        "       \n",
        "    # Get accuracy over the test set\n",
        "    y_pred = np.where(preds >= 0.5, 1, 0)\n",
        "\n",
        "\n",
        "    accuracy = accuracy_score(y_true, y_pred)\n",
        "    precisao = precision_score(y_true, y_pred)\n",
        "    recall = recall_score(y_true, y_pred)\n",
        "    fscore = f1_score(y_true, y_pred)\n",
        "\n",
        "\n",
        "    print(f' Acurácia: {accuracy*100:.2f}%',  (\"\\n\"),\n",
        "          'Precisão: ', precisao,  (\"\\n\"),\n",
        "          'Recall: ', recall,  (\"\\n\"),\n",
        "          'F1 score: ', fscore)\n",
        "\n",
        "\n",
        "    #print(' acc = ', accuracy_score(y_true, preds.round()), (\"\\n\"),\n",
        "    #  'prec = ', precision_score(y_true, preds.round()), (\"\\n\"),\n",
        "    #  'recall = ', recall_score(y_truel, preds.round()), (\"\\n\"),\n",
        "    #  'f1 = ', f1_score(y_true, preds.round()))\n",
        "\n",
        "    #print(' acc = ', accuracy_score(y_true, y_pred), (\"\\n\"),\n",
        "    #  'prec = ', precision_score(y_true, y_pred), (\"\\n\"),\n",
        "    #  'recall = ', recall_score(y_true, y_pred), (\"\\n\"),\n",
        "    #  'f1 = ', f1_score(y_true, y_pred))\n",
        "\n",
        "\n",
        "    # Plot ROC AUC\n",
        "    plt.title('Curva ROC')\n",
        "    plt.plot(fpr, tpr, 'b', label = 'AUC = %0.2f' % roc_auc)\n",
        "    plt.legend(loc = 'lower right')\n",
        "    plt.plot([0, 1], [0, 1],'r--')\n",
        "    plt.xlim([0, 1])\n",
        "    plt.ylim([0, 1])\n",
        "    plt.ylabel('Taxa de true positive')\n",
        "    plt.xlabel('Taxa de false positive ')\n",
        "    plt.show()\n",
        "    "
      ],
      "execution_count": 0,
      "outputs": []
    },
    {
      "cell_type": "code",
      "metadata": {
        "id": "r3-FEHwuShbX",
        "colab_type": "code",
        "outputId": "4902e170-875f-4e2f-bf3f-bebb226baf93",
        "colab": {
          "base_uri": "https://localhost:8080/",
          "height": 35
        }
      },
      "source": [
        "bert_classifier.load_state_dict(torch.load('/content/drive/My Drive/BERT/modelo_pronto_2_2'))\n"
      ],
      "execution_count": 0,
      "outputs": [
        {
          "output_type": "execute_result",
          "data": {
            "text/plain": [
              "<All keys matched successfully>"
            ]
          },
          "metadata": {
            "tags": []
          },
          "execution_count": 17
        }
      ]
    },
    {
      "cell_type": "code",
      "metadata": {
        "id": "gtX_XVIS6p9D",
        "colab_type": "code",
        "colab": {}
      },
      "source": [
        "np.set_printoptions(suppress=True, precision=5)"
      ],
      "execution_count": 0,
      "outputs": []
    },
    {
      "cell_type": "code",
      "metadata": {
        "id": "3KC9QkGoyUUi",
        "colab_type": "code",
        "colab": {}
      },
      "source": [
        "review_exemplo = [\"A comida estava ótima e o ambiente agradável\",\n",
        "                  \"O restaurante é horrível\",\n",
        "                  \"Até parecia um bom restaurante, mas fomos enganados\"]\n",
        "\n",
        "exemplo_inputs, exemplo_masks = preprocessing_for_bert(review_exemplo)\n",
        "exemplo_data = TensorDataset(exemplo_inputs, exemplo_masks)\n",
        "exemplo_dataloader = DataLoader(exemplo_data, batch_size=batch_size)"
      ],
      "execution_count": 0,
      "outputs": []
    },
    {
      "cell_type": "code",
      "metadata": {
        "id": "i4rVoIZE1aEe",
        "colab_type": "code",
        "outputId": "902faa51-8c9c-426d-b064-1d0ba8fa6f13",
        "colab": {
          "base_uri": "https://localhost:8080/",
          "height": 72
        }
      },
      "source": [
        "probs = bert_predict(bert_classifier, exemplo_dataloader)\n",
        "print(probs)"
      ],
      "execution_count": 0,
      "outputs": [
        {
          "output_type": "stream",
          "text": [
            "[[0.00443 0.99557]\n",
            " [0.99927 0.00073]\n",
            " [0.99915 0.00085]]\n"
          ],
          "name": "stdout"
        }
      ]
    },
    {
      "cell_type": "code",
      "metadata": {
        "id": "-Ws4GALyavaF",
        "colab_type": "code",
        "outputId": "88639f0a-01c7-4967-d09f-0a792f4a8432",
        "colab": {
          "base_uri": "https://localhost:8080/",
          "height": 1000
        }
      },
      "source": [
        "train(bert_classifier, train_dataloader, val_dataloader, epochs=2, evaluation=True)"
      ],
      "execution_count": 0,
      "outputs": [
        {
          "output_type": "stream",
          "text": [
            "Treino iniciado...\n",
            "\n",
            " Epoch  |  Batch  |  Train Loss  |  Val Loss  |  Val Acc  |   Tempo  \n",
            "----------------------------------------------------------------------\n"
          ],
          "name": "stdout"
        },
        {
          "output_type": "stream",
          "text": [
            "/pytorch/torch/csrc/utils/python_arg_parser.cpp:756: UserWarning: This overload of add_ is deprecated:\n",
            "\tadd_(Number alpha, Tensor other)\n",
            "Consider using one of the following signatures instead:\n",
            "\tadd_(Tensor other, *, Number alpha)\n"
          ],
          "name": "stderr"
        },
        {
          "output_type": "stream",
          "text": [
            "   1    |   20    |   0.027409   |     -      |     -     |   16.89  \n",
            "   1    |   40    |   0.107847   |     -      |     -     |   15.77  \n",
            "   1    |   60    |   0.058933   |     -      |     -     |   15.77  \n",
            "   1    |   80    |   0.062170   |     -      |     -     |   15.87  \n",
            "   1    |   100   |   0.031879   |     -      |     -     |   15.85  \n",
            "   1    |   120   |   0.125990   |     -      |     -     |   15.88  \n",
            "   1    |   140   |   0.033436   |     -      |     -     |   15.93  \n",
            "   1    |   160   |   0.070234   |     -      |     -     |   15.96  \n",
            "   1    |   180   |   0.102070   |     -      |     -     |   16.01  \n",
            "   1    |   200   |   0.070499   |     -      |     -     |   16.02  \n",
            "   1    |   220   |   0.060771   |     -      |     -     |   16.04  \n",
            "   1    |   240   |   0.038125   |     -      |     -     |   16.01  \n",
            "   1    |   260   |   0.131515   |     -      |     -     |   16.09  \n",
            "   1    |   280   |   0.048181   |     -      |     -     |   16.10  \n",
            "   1    |   300   |   0.126759   |     -      |     -     |   16.09  \n",
            "   1    |   320   |   0.102590   |     -      |     -     |   16.12  \n",
            "   1    |   340   |   0.083594   |     -      |     -     |   16.16  \n",
            "   1    |   360   |   0.115326   |     -      |     -     |   16.26  \n",
            "   1    |   380   |   0.135677   |     -      |     -     |   16.25  \n",
            "   1    |   400   |   0.075620   |     -      |     -     |   16.26  \n",
            "   1    |   420   |   0.064284   |     -      |     -     |   16.30  \n",
            "   1    |   440   |   0.095410   |     -      |     -     |   16.33  \n",
            "   1    |   460   |   0.065555   |     -      |     -     |   16.35  \n",
            "   1    |   480   |   0.078057   |     -      |     -     |   16.27  \n",
            "   1    |   500   |   0.088501   |     -      |     -     |   16.37  \n",
            "   1    |   520   |   0.180972   |     -      |     -     |   16.41  \n",
            "   1    |   540   |   0.138556   |     -      |     -     |   16.41  \n",
            "   1    |   560   |   0.113892   |     -      |     -     |   16.43  \n",
            "   1    |   580   |   0.054247   |     -      |     -     |   16.39  \n",
            "   1    |   600   |   0.088156   |     -      |     -     |   16.42  \n",
            "   1    |   620   |   0.067241   |     -      |     -     |   16.40  \n",
            "   1    |   640   |   0.078268   |     -      |     -     |   16.41  \n",
            "   1    |   660   |   0.025181   |     -      |     -     |   16.34  \n",
            "   1    |   680   |   0.090518   |     -      |     -     |   16.38  \n",
            "   1    |   700   |   0.062654   |     -      |     -     |   16.38  \n",
            "   1    |   720   |   0.080206   |     -      |     -     |   16.37  \n",
            "   1    |   740   |   0.128791   |     -      |     -     |   16.40  \n",
            "   1    |   760   |   0.084265   |     -      |     -     |   16.39  \n",
            "   1    |   780   |   0.031015   |     -      |     -     |   16.35  \n",
            "   1    |   800   |   0.025136   |     -      |     -     |   16.37  \n",
            "   1    |   820   |   0.060461   |     -      |     -     |   16.36  \n",
            "   1    |   840   |   0.085399   |     -      |     -     |   16.39  \n",
            "   1    |   860   |   0.103662   |     -      |     -     |   16.41  \n",
            "   1    |   880   |   0.075508   |     -      |     -     |   16.35  \n",
            "   1    |   900   |   0.134118   |     -      |     -     |   16.36  \n",
            "   1    |   920   |   0.041558   |     -      |     -     |   16.35  \n",
            "   1    |   940   |   0.118277   |     -      |     -     |   16.39  \n",
            "   1    |   960   |   0.116397   |     -      |     -     |   16.36  \n",
            "   1    |   980   |   0.086977   |     -      |     -     |   16.38  \n",
            "   1    |  1000   |   0.103263   |     -      |     -     |   16.37  \n",
            "   1    |  1020   |   0.104512   |     -      |     -     |   16.35  \n",
            "   1    |  1040   |   0.147551   |     -      |     -     |   16.39  \n",
            "   1    |  1060   |   0.066477   |     -      |     -     |   16.37  \n",
            "   1    |  1080   |   0.153918   |     -      |     -     |   16.40  \n",
            "   1    |  1100   |   0.059568   |     -      |     -     |   16.37  \n",
            "   1    |  1120   |   0.042426   |     -      |     -     |   16.34  \n",
            "   1    |  1140   |   0.083140   |     -      |     -     |   16.40  \n",
            "   1    |  1160   |   0.101182   |     -      |     -     |   16.38  \n",
            "   1    |  1180   |   0.124828   |     -      |     -     |   16.37  \n",
            "   1    |  1200   |   0.092409   |     -      |     -     |   16.41  \n",
            "   1    |  1220   |   0.091123   |     -      |     -     |   16.39  \n",
            "   1    |  1240   |   0.066256   |     -      |     -     |   16.35  \n",
            "   1    |  1260   |   0.155989   |     -      |     -     |   16.36  \n",
            "   1    |  1280   |   0.062476   |     -      |     -     |   16.40  \n",
            "   1    |  1300   |   0.121596   |     -      |     -     |   16.39  \n",
            "   1    |  1320   |   0.080211   |     -      |     -     |   16.40  \n",
            "   1    |  1340   |   0.059925   |     -      |     -     |   16.38  \n",
            "   1    |  1360   |   0.111146   |     -      |     -     |   16.39  \n",
            "   1    |  1380   |   0.133928   |     -      |     -     |   16.40  \n",
            "   1    |  1400   |   0.104366   |     -      |     -     |   16.43  \n",
            "   1    |  1420   |   0.075580   |     -      |     -     |   16.39  \n",
            "   1    |  1440   |   0.103816   |     -      |     -     |   16.36  \n",
            "   1    |  1460   |   0.119201   |     -      |     -     |   16.40  \n",
            "   1    |  1480   |   0.066401   |     -      |     -     |   16.36  \n",
            "   1    |  1500   |   0.022466   |     -      |     -     |   16.38  \n",
            "   1    |  1520   |   0.110025   |     -      |     -     |   16.43  \n",
            "   1    |  1540   |   0.059931   |     -      |     -     |   16.36  \n",
            "   1    |  1560   |   0.031601   |     -      |     -     |   16.38  \n",
            "   1    |  1580   |   0.044596   |     -      |     -     |   16.38  \n",
            "   1    |  1600   |   0.196816   |     -      |     -     |   16.40  \n",
            "   1    |  1620   |   0.142248   |     -      |     -     |   16.42  \n",
            "   1    |  1640   |   0.057395   |     -      |     -     |   16.39  \n",
            "   1    |  1660   |   0.121736   |     -      |     -     |   16.42  \n",
            "   1    |  1680   |   0.076357   |     -      |     -     |   16.40  \n",
            "   1    |  1700   |   0.030443   |     -      |     -     |   16.42  \n",
            "   1    |  1720   |   0.081234   |     -      |     -     |   16.39  \n",
            "   1    |  1740   |   0.052898   |     -      |     -     |   16.40  \n",
            "   1    |  1760   |   0.111403   |     -      |     -     |   16.38  \n",
            "   1    |  1780   |   0.123713   |     -      |     -     |   16.41  \n",
            "   1    |  1800   |   0.100863   |     -      |     -     |   16.43  \n",
            "   1    |  1820   |   0.113380   |     -      |     -     |   16.42  \n",
            "   1    |  1840   |   0.090846   |     -      |     -     |   16.42  \n",
            "   1    |  1847   |   0.044356   |     -      |     -     |   5.75   \n",
            "----------------------------------------------------------------------\n",
            "<class 'torch.Tensor'>\n",
            "   1    |    -    |   0.087533   |  0.548005  |   88.41   |  1561.90 \n",
            "----------------------------------------------------------------------\n",
            "\n",
            "\n",
            " Epoch  |  Batch  |  Train Loss  |  Val Loss  |  Val Acc  |   Tempo  \n",
            "----------------------------------------------------------------------\n",
            "   2    |   20    |   0.103461   |     -      |     -     |   17.19  \n",
            "   2    |   40    |   0.030786   |     -      |     -     |   16.41  \n",
            "   2    |   60    |   0.078545   |     -      |     -     |   16.41  \n",
            "   2    |   80    |   0.006678   |     -      |     -     |   16.36  \n",
            "   2    |   100   |   0.124752   |     -      |     -     |   16.37  \n",
            "   2    |   120   |   0.040072   |     -      |     -     |   16.38  \n",
            "   2    |   140   |   0.015244   |     -      |     -     |   16.39  \n",
            "   2    |   160   |   0.055380   |     -      |     -     |   16.42  \n",
            "   2    |   180   |   0.002549   |     -      |     -     |   16.39  \n",
            "   2    |   200   |   0.137818   |     -      |     -     |   16.41  \n",
            "   2    |   220   |   0.021341   |     -      |     -     |   16.39  \n",
            "   2    |   240   |   0.083754   |     -      |     -     |   16.41  \n",
            "   2    |   260   |   0.017571   |     -      |     -     |   16.36  \n",
            "   2    |   280   |   0.065149   |     -      |     -     |   16.38  \n",
            "   2    |   300   |   0.038791   |     -      |     -     |   16.38  \n",
            "   2    |   320   |   0.022616   |     -      |     -     |   16.39  \n",
            "   2    |   340   |   0.056549   |     -      |     -     |   16.36  \n",
            "   2    |   360   |   0.074868   |     -      |     -     |   16.39  \n",
            "   2    |   380   |   0.038232   |     -      |     -     |   16.37  \n",
            "   2    |   400   |   0.027035   |     -      |     -     |   16.40  \n",
            "   2    |   420   |   0.052862   |     -      |     -     |   16.40  \n",
            "   2    |   440   |   0.056393   |     -      |     -     |   16.40  \n",
            "   2    |   460   |   0.050682   |     -      |     -     |   16.40  \n",
            "   2    |   480   |   0.038184   |     -      |     -     |   16.40  \n",
            "   2    |   500   |   0.046828   |     -      |     -     |   16.39  \n",
            "   2    |   520   |   0.039511   |     -      |     -     |   16.39  \n",
            "   2    |   540   |   0.060589   |     -      |     -     |   16.40  \n",
            "   2    |   560   |   0.063298   |     -      |     -     |   16.39  \n",
            "   2    |   580   |   0.014853   |     -      |     -     |   16.38  \n",
            "   2    |   600   |   0.071599   |     -      |     -     |   16.41  \n",
            "   2    |   620   |   0.024852   |     -      |     -     |   16.40  \n",
            "   2    |   640   |   0.038026   |     -      |     -     |   16.39  \n",
            "   2    |   660   |   0.079188   |     -      |     -     |   16.40  \n",
            "   2    |   680   |   0.001418   |     -      |     -     |   16.38  \n",
            "   2    |   700   |   0.034205   |     -      |     -     |   16.36  \n",
            "   2    |   720   |   0.018335   |     -      |     -     |   16.39  \n",
            "   2    |   740   |   0.011137   |     -      |     -     |   16.40  \n",
            "   2    |   760   |   0.000944   |     -      |     -     |   16.35  \n",
            "   2    |   780   |   0.059598   |     -      |     -     |   16.39  \n",
            "   2    |   800   |   0.068346   |     -      |     -     |   16.43  \n",
            "   2    |   820   |   0.039683   |     -      |     -     |   16.40  \n",
            "   2    |   840   |   0.026658   |     -      |     -     |   16.38  \n",
            "   2    |   860   |   0.045260   |     -      |     -     |   16.40  \n",
            "   2    |   880   |   0.095969   |     -      |     -     |   16.37  \n",
            "   2    |   900   |   0.037574   |     -      |     -     |   16.38  \n",
            "   2    |   920   |   0.067794   |     -      |     -     |   16.39  \n",
            "   2    |   940   |   0.061555   |     -      |     -     |   16.37  \n",
            "   2    |   960   |   0.001940   |     -      |     -     |   16.37  \n",
            "   2    |   980   |   0.039341   |     -      |     -     |   16.37  \n",
            "   2    |  1000   |   0.027860   |     -      |     -     |   16.38  \n",
            "   2    |  1020   |   0.048797   |     -      |     -     |   16.40  \n",
            "   2    |  1040   |   0.018692   |     -      |     -     |   16.37  \n",
            "   2    |  1060   |   0.122074   |     -      |     -     |   16.45  \n",
            "   2    |  1080   |   0.001427   |     -      |     -     |   16.38  \n",
            "   2    |  1100   |   0.022168   |     -      |     -     |   16.42  \n",
            "   2    |  1120   |   0.023623   |     -      |     -     |   16.41  \n",
            "   2    |  1140   |   0.046636   |     -      |     -     |   16.41  \n",
            "   2    |  1160   |   0.020026   |     -      |     -     |   16.35  \n",
            "   2    |  1180   |   0.073640   |     -      |     -     |   16.42  \n",
            "   2    |  1200   |   0.001639   |     -      |     -     |   16.38  \n",
            "   2    |  1220   |   0.038056   |     -      |     -     |   16.42  \n",
            "   2    |  1240   |   0.053449   |     -      |     -     |   16.43  \n",
            "   2    |  1260   |   0.049983   |     -      |     -     |   16.41  \n",
            "   2    |  1280   |   0.027881   |     -      |     -     |   16.42  \n",
            "   2    |  1300   |   0.016851   |     -      |     -     |   16.41  \n",
            "   2    |  1320   |   0.071061   |     -      |     -     |   16.41  \n",
            "   2    |  1340   |   0.039996   |     -      |     -     |   16.40  \n",
            "   2    |  1360   |   0.043434   |     -      |     -     |   16.41  \n"
          ],
          "name": "stdout"
        }
      ]
    },
    {
      "cell_type": "code",
      "metadata": {
        "id": "pbdhiNy4Zgux",
        "colab_type": "code",
        "colab": {}
      },
      "source": [
        "#no treino:\n",
        "probs = bert_predict(bert_classifier, train_dataloader)\n",
        "evaluate_roc(probs, y_train) #ta estranho"
      ],
      "execution_count": 0,
      "outputs": []
    },
    {
      "cell_type": "code",
      "metadata": {
        "id": "sZRvxfs1sIRw",
        "colab_type": "code",
        "colab": {}
      },
      "source": [
        "evaluate(bert_classifier, train_dataloader) #acuracia do treino"
      ],
      "execution_count": 0,
      "outputs": []
    },
    {
      "cell_type": "code",
      "metadata": {
        "id": "VMXy5ERZRqoR",
        "colab_type": "code",
        "outputId": "37297fd4-f8c1-46e3-d25f-a73ecf4a6e9a",
        "colab": {
          "base_uri": "https://localhost:8080/",
          "height": 387
        }
      },
      "source": [
        "#no teste:\n",
        "#probs = bert_predict(bert_classifier, val_dataloader)\n",
        "probs = bert_predict(bert_classifier, val_dataloader)\n",
        "evaluate_roc(probs, y_val)"
      ],
      "execution_count": 0,
      "outputs": [
        {
          "output_type": "stream",
          "text": [
            " AUC: 0.9465\n",
            " Acurácia: 88.53% \n",
            " Precisão:  0.8894289185905225 \n",
            " Recall:  0.8824593128390597 \n",
            " F1 score:  0.885930408472012\n"
          ],
          "name": "stdout"
        },
        {
          "output_type": "display_data",
          "data": {
            "image/png": "[encoded data removed]",
            "text/plain": [
              "<Figure size 432x288 with 1 Axes>"
            ]
          },
          "metadata": {
            "tags": [],
            "needs_background": "light"
          }
        }
      ]
    },
    {
      "cell_type": "code",
      "metadata": {
        "id": "5uMpAachTCGs",
        "colab_type": "code",
        "colab": {}
      },
      "source": [
        "#torch.save(bert_classifier.state_dict(), '/content/drive/My Drive/BERT/'+\"ANTON_modelo\")"
      ],
      "execution_count": 0,
      "outputs": []
    },
    {
      "cell_type": "code",
      "metadata": {
        "id": "E9ewjB7SwSjX",
        "colab_type": "code",
        "outputId": "449488fa-826b-4c34-a508-af29c17db6f8",
        "colab": {
          "base_uri": "https://localhost:8080/",
          "height": 35
        }
      },
      "source": [
        ""
      ],
      "execution_count": 0,
      "outputs": [
        {
          "output_type": "execute_result",
          "data": {
            "text/plain": [
              "(0.029398599302888045, 99.34050324675324)"
            ]
          },
          "metadata": {
            "tags": []
          },
          "execution_count": 25
        }
      ]
    },
    {
      "cell_type": "code",
      "metadata": {
        "id": "QRSXfufrmKvj",
        "colab_type": "code",
        "colab": {}
      },
      "source": [
        ""
      ],
      "execution_count": 0,
      "outputs": []
    }
  ]
}
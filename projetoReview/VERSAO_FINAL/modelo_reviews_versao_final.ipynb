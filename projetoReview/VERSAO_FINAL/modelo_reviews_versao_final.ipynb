{
 "cells": [
  {
   "cell_type": "code",
   "execution_count": 0,
   "metadata": {
    "colab": {},
    "colab_type": "code",
    "id": "nAn0oPFsMzWM"
   },
   "outputs": [],
   "source": [
    "import pandas as pd\n",
    "from sklearn.linear_model import LogisticRegression\n",
    "from sklearn.metrics import accuracy_score, precision_score, recall_score, f1_score\n",
    "from sklearn.model_selection import train_test_split, GridSearchCV\n",
    "from sklearn.ensemble import RandomForestClassifier\n",
    "from sklearn.feature_extraction.text import TfidfVectorizer\n",
    "from sklearn.metrics import accuracy_score, roc_curve, auc\n",
    "from sklearn.svm import SVC\n",
    "import spacy\n",
    "import re\n",
    "import string"
   ]
  },
  {
   "cell_type": "code",
   "execution_count": 0,
   "metadata": {
    "colab": {
     "base_uri": "https://localhost:8080/",
     "height": 35
    },
    "colab_type": "code",
    "id": "jLij0B3MNIyS",
    "outputId": "c8aa89ce-d155-4cc9-ec0d-0520b802bd6f"
   },
   "outputs": [
    {
     "name": "stdout",
     "output_type": "stream",
     "text": [
      "Requirement already satisfied: unidecode in /usr/local/lib/python3.6/dist-packages (1.1.1)\n"
     ]
    }
   ],
   "source": [
    "!pip install unidecode #para tirar os acentos, dado que tem gente que usa e outros que não"
   ]
  },
  {
   "cell_type": "code",
   "execution_count": 0,
   "metadata": {
    "colab": {},
    "colab_type": "code",
    "id": "a6QM4kXKNNW6"
   },
   "outputs": [],
   "source": [
    "from unidecode import unidecode"
   ]
  },
  {
   "cell_type": "code",
   "execution_count": 0,
   "metadata": {
    "colab": {},
    "colab_type": "code",
    "id": "fsiDDSZ6MzXB"
   },
   "outputs": [],
   "source": [
    "data = pd.read_csv('/content/drive/My Drive/BERT/CSV_FINAL_EQUALIZADO.csv')\n",
    "data = data.drop('Unnamed: 0', axis=1)\n",
    "data = data.drop_duplicates(subset=['review_body'])"
   ]
  },
  {
   "cell_type": "code",
   "execution_count": 0,
   "metadata": {
    "colab": {
     "base_uri": "https://localhost:8080/",
     "height": 35
    },
    "colab_type": "code",
    "id": "cuXMX7LqNSCy",
    "outputId": "40a85e5d-0993-4123-b759-ca8342f493b0"
   },
   "outputs": [
    {
     "name": "stdout",
     "output_type": "stream",
     "text": [
      "Drive already mounted at /content/drive; to attempt to forcibly remount, call drive.mount(\"/content/drive\", force_remount=True).\n"
     ]
    }
   ],
   "source": [
    "from google.colab import drive\n",
    "drive.mount('/content/drive')"
   ]
  },
  {
   "cell_type": "code",
   "execution_count": 0,
   "metadata": {
    "colab": {
     "base_uri": "https://localhost:8080/",
     "height": 127
    },
    "colab_type": "code",
    "id": "kFwTNcf5MzXx",
    "outputId": "605bce77-bd29-4681-c66a-6780a8952711"
   },
   "outputs": [
    {
     "data": {
      "text/plain": [
       "50    11580\n",
       "30    10558\n",
       "40     4847\n",
       "20     3335\n",
       "10     2534\n",
       "Name: review_rate, dtype: int64"
      ]
     },
     "execution_count": 7,
     "metadata": {
      "tags": []
     },
     "output_type": "execute_result"
    }
   ],
   "source": [
    "data['review_rate'].value_counts()"
   ]
  },
  {
   "cell_type": "code",
   "execution_count": 0,
   "metadata": {
    "colab": {
     "base_uri": "https://localhost:8080/",
     "height": 206
    },
    "colab_type": "code",
    "id": "fOLgb_f3MzY6",
    "outputId": "61f60f01-2026-40a0-817c-41825f75e143"
   },
   "outputs": [
    {
     "data": {
      "text/html": [
       "<div>\n",
       "<style scoped>\n",
       "    .dataframe tbody tr th:only-of-type {\n",
       "        vertical-align: middle;\n",
       "    }\n",
       "\n",
       "    .dataframe tbody tr th {\n",
       "        vertical-align: top;\n",
       "    }\n",
       "\n",
       "    .dataframe thead th {\n",
       "        text-align: right;\n",
       "    }\n",
       "</style>\n",
       "<table border=\"1\" class=\"dataframe\">\n",
       "  <thead>\n",
       "    <tr style=\"text-align: right;\">\n",
       "      <th></th>\n",
       "      <th>review_rate</th>\n",
       "      <th>review_body</th>\n",
       "      <th>RESULTADO_BINARIO</th>\n",
       "    </tr>\n",
       "  </thead>\n",
       "  <tbody>\n",
       "    <tr>\n",
       "      <th>0</th>\n",
       "      <td>50</td>\n",
       "      <td>Excelente experiência !! Atendimento impecável...</td>\n",
       "      <td>1</td>\n",
       "    </tr>\n",
       "    <tr>\n",
       "      <th>1</th>\n",
       "      <td>30</td>\n",
       "      <td>Local agradável, porém, já fui em melhores, co...</td>\n",
       "      <td>0</td>\n",
       "    </tr>\n",
       "    <tr>\n",
       "      <th>2</th>\n",
       "      <td>50</td>\n",
       "      <td>Esta é a “milésima” vez que venho a este resta...</td>\n",
       "      <td>1</td>\n",
       "    </tr>\n",
       "    <tr>\n",
       "      <th>3</th>\n",
       "      <td>40</td>\n",
       "      <td>O local, o atendimento e a comida, sensacionai...</td>\n",
       "      <td>1</td>\n",
       "    </tr>\n",
       "    <tr>\n",
       "      <th>4</th>\n",
       "      <td>50</td>\n",
       "      <td>Comida espetacular, atendimento ímpar! Frank e...</td>\n",
       "      <td>1</td>\n",
       "    </tr>\n",
       "  </tbody>\n",
       "</table>\n",
       "</div>"
      ],
      "text/plain": [
       "   review_rate  ... RESULTADO_BINARIO\n",
       "0           50  ...                 1\n",
       "1           30  ...                 0\n",
       "2           50  ...                 1\n",
       "3           40  ...                 1\n",
       "4           50  ...                 1\n",
       "\n",
       "[5 rows x 3 columns]"
      ]
     },
     "execution_count": 9,
     "metadata": {
      "tags": []
     },
     "output_type": "execute_result"
    }
   ],
   "source": [
    "data.head()"
   ]
  },
  {
   "cell_type": "code",
   "execution_count": 0,
   "metadata": {
    "colab": {
     "base_uri": "https://localhost:8080/",
     "height": 54
    },
    "colab_type": "code",
    "id": "m4OIBWzaMzZc",
    "outputId": "e5f2a9e5-c1c0-4729-a2ca-b930633a4529"
   },
   "outputs": [
    {
     "name": "stdout",
     "output_type": "stream",
     "text": [
      "[nltk_data] Downloading package stopwords to /root/nltk_data...\n",
      "[nltk_data]   Package stopwords is already up-to-date!\n"
     ]
    }
   ],
   "source": [
    "import nltk\n",
    "nltk.download(\"stopwords\")\n",
    "from nltk.corpus import stopwords\n",
    "from nltk.stem.snowball import PortugueseStemmer\n",
    "\n",
    "def clear_text(text):\n",
    "    #remove pontuacao, palavras com numeros, deixa o texto em caixa baixa e remove o texto entre colchetes\n",
    "    text = text.lower()\n",
    "    text = re.sub('\\[.*?\\]', '', text)\n",
    "    text = re.sub('[%s]' % re.escape(string.punctuation), '', text)\n",
    "    text = re.sub('\\w*\\d\\w*', '', text)\n",
    "    text = unidecode(text)  \n",
    "    stemizador = PortugueseStemmer()\n",
    "    #removendo as stopwords \n",
    "    text = \" \".join([word for word in text.split()\n",
    "                  if word not in stopwords.words('portuguese')])\n",
    "    text = stemizador.stem(text)\n",
    "    return text"
   ]
  },
  {
   "cell_type": "code",
   "execution_count": 0,
   "metadata": {
    "colab": {},
    "colab_type": "code",
    "id": "gEJ7wvQYMzZ6"
   },
   "outputs": [],
   "source": [
    "clear = lambda x: clear_text(x)\n",
    "data_clean = pd.DataFrame(data.review_body.apply(clear))\n",
    "#data_clean['review_rate'] = data['review_rate'].values\n",
    "data_clean['RESULTADO_BINARIO'] = data['RESULTADO_BINARIO'].values\n"
   ]
  },
  {
   "cell_type": "code",
   "execution_count": 0,
   "metadata": {
    "colab": {
     "base_uri": "https://localhost:8080/",
     "height": 74
    },
    "colab_type": "code",
    "id": "egveB8tnEL01",
    "outputId": "a1b7cd5d-9d42-41bd-9b23-f371ef468747"
   },
   "outputs": [
    {
     "name": "stdout",
     "output_type": "stream",
     "text": [
      "A melhor pedida para um feriadinho são os drinks sofisticados servidos na Adega. Obrigada Abel, Wellington e Antonio: O atendimento de vocês é de excelência!\n"
     ]
    },
    {
     "data": {
      "text/plain": [
       "'melhor pedida feriadinho sao drinks sofisticados servidos adega obrigada abel wellington antonio atendimento voces excelenc'"
      ]
     },
     "execution_count": 12,
     "metadata": {
      "tags": []
     },
     "output_type": "execute_result"
    }
   ],
   "source": [
    "print(data['review_body'][12])\n",
    "data_clean['review_body'][12]"
   ]
  },
  {
   "cell_type": "code",
   "execution_count": 0,
   "metadata": {
    "colab": {},
    "colab_type": "code",
    "id": "USB3vUywMzaQ"
   },
   "outputs": [],
   "source": [
    "X_train, X_test, y_train, y_test = train_test_split(data_clean[['review_body']], data_clean['RESULTADO_BINARIO'], test_size=0.20, random_state=2020)"
   ]
  },
  {
   "cell_type": "code",
   "execution_count": 0,
   "metadata": {
    "colab": {},
    "colab_type": "code",
    "id": "tXzwbE-dMzap"
   },
   "outputs": [],
   "source": [
    "t_vector = TfidfVectorizer()\n",
    "t_vector.fit(data_clean['review_body'])\n",
    "train_X = t_vector.transform(X_train['review_body']) #Tf-idf-weighted document-term matriz\n",
    "test_X = t_vector.transform(X_test['review_body'])\n"
   ]
  },
  {
   "cell_type": "code",
   "execution_count": 0,
   "metadata": {
    "colab": {},
    "colab_type": "code",
    "id": "UhEETpV_MzbG"
   },
   "outputs": [],
   "source": [
    "def validar(model, model_name, y, pred):\n",
    "    print(\"Os escores do \", model_name,\" são:\")\n",
    "    print(' acc = ', accuracy_score(y, pred), (\"\\n\"),\n",
    "      'prec = ', precision_score(y, pred), (\"\\n\"),\n",
    "      'recall = ', recall_score(y, pred), (\"\\n\"),\n",
    "      'f1 = ', f1_score(y, pred))\n",
    "\n",
    "    fpr, tpr, threshold = roc_curve(y, pred)\n",
    "    roc_auc = auc(fpr, tpr)\n",
    "    print(' auc = ', roc_auc)\n",
    "    return True"
   ]
  },
  {
   "cell_type": "markdown",
   "metadata": {
    "colab_type": "text",
    "id": "etfC8uIFMzbg"
   },
   "source": [
    "<h1>Modelos</h1>"
   ]
  },
  {
   "cell_type": "markdown",
   "metadata": {
    "colab_type": "text",
    "id": "C1RMgnffMzbn"
   },
   "source": [
    "<h2> Regressão Logística </h2>"
   ]
  },
  {
   "cell_type": "markdown",
   "metadata": {
    "colab_type": "text",
    "id": "ddF9sowOMzbs"
   },
   "source": [
    "<h2>Treino</h2>"
   ]
  },
  {
   "cell_type": "code",
   "execution_count": 0,
   "metadata": {
    "colab": {
     "base_uri": "https://localhost:8080/",
     "height": 109
    },
    "colab_type": "code",
    "id": "ndCVIQ24Mzb5",
    "outputId": "ebf8e4d3-52cf-40b5-f0ca-55ec3939aa84"
   },
   "outputs": [
    {
     "name": "stdout",
     "output_type": "stream",
     "text": [
      " acc =  0.915040140014458 \n",
      " prec =  0.9169282597044637 \n",
      " recall =  0.9125266686985675 \n",
      " f1 =  0.9147221691808287\n",
      " auc =  0.9150367973783893\n"
     ]
    }
   ],
   "source": [
    "log = LogisticRegression()\n",
    "log.fit(train_X, y_train)\n",
    "log_pred = log.predict(train_X)\n",
    "\n",
    "\n",
    "print(' acc = ', accuracy_score(y_train, log_pred), (\"\\n\"),\n",
    "      'prec = ', precision_score(y_train, log_pred), (\"\\n\"),\n",
    "      'recall = ', recall_score(y_train, log_pred), (\"\\n\"),\n",
    "      'f1 = ', f1_score(y_train, log_pred))\n",
    "\n",
    "fpr, tpr, threshold = roc_curve(y_train, log_pred)\n",
    "roc_auc = auc(fpr, tpr)\n",
    "print(' auc = ', roc_auc)\n"
   ]
  },
  {
   "cell_type": "markdown",
   "metadata": {
    "colab_type": "text",
    "id": "loWHwl8HMzcY"
   },
   "source": [
    "<h2>Teste</h2>"
   ]
  },
  {
   "cell_type": "code",
   "execution_count": 0,
   "metadata": {
    "colab": {
     "base_uri": "https://localhost:8080/",
     "height": 109
    },
    "colab_type": "code",
    "id": "O28fMNNfMzcc",
    "outputId": "8f0460b2-201e-42e1-f1ab-80d8953b1abb"
   },
   "outputs": [
    {
     "name": "stdout",
     "output_type": "stream",
     "text": [
      " acc =  0.870187186120834 \n",
      " prec =  0.873020706455542 \n",
      " recall =  0.8679987889797154 \n",
      " f1 =  0.8705025049339608\n",
      " auc =  0.8701989048937745\n"
     ]
    }
   ],
   "source": [
    "log_pred_test = log.predict(test_X)\n",
    "\n",
    "print(' acc = ', accuracy_score(y_test, log_pred_test), (\"\\n\"),\n",
    "      'prec = ', precision_score(y_test, log_pred_test), (\"\\n\"),\n",
    "      'recall = ', recall_score(y_test, log_pred_test), (\"\\n\"),\n",
    "      'f1 = ', f1_score(y_test, log_pred_test))\n",
    "\n",
    "fpr, tpr, threshold = roc_curve(y_test, log_pred_test)\n",
    "roc_auc = auc(fpr, tpr)\n",
    "print(' auc = ', roc_auc)\n"
   ]
  },
  {
   "cell_type": "markdown",
   "metadata": {
    "colab_type": "text",
    "id": "Otr4PHrdMzc_"
   },
   "source": [
    "<h2>Random Forest</h2>"
   ]
  },
  {
   "cell_type": "code",
   "execution_count": 0,
   "metadata": {
    "colab": {
     "base_uri": "https://localhost:8080/",
     "height": 164
    },
    "colab_type": "code",
    "id": "gSsyOt1JMzdC",
    "outputId": "2b0af0d3-f981-4265-813d-51f13134459a"
   },
   "outputs": [
    {
     "name": "stdout",
     "output_type": "stream",
     "text": [
      "RandomForestClassifier(bootstrap=True, ccp_alpha=0.0, class_weight=None,\n",
      "                       criterion='gini', max_depth=None, max_features=8,\n",
      "                       max_leaf_nodes=None, max_samples=None,\n",
      "                       min_impurity_decrease=0.0, min_impurity_split=None,\n",
      "                       min_samples_leaf=1, min_samples_split=2,\n",
      "                       min_weight_fraction_leaf=0.0, n_estimators=30,\n",
      "                       n_jobs=None, oob_score=False, random_state=None,\n",
      "                       verbose=0, warm_start=False)\n"
     ]
    }
   ],
   "source": [
    "def random_grid(x, labels):\n",
    "    param_grid = [\n",
    "    {'n_estimators': [3, 10, 30], 'max_features': [2,4,6,8]}, \n",
    "    {'bootstrap': [False], 'n_estimators': [3,10], 'max_features': [2, 3, 4]},\n",
    "    ]   \n",
    "    grid_search = GridSearchCV(RandomForestClassifier(), param_grid, cv=5)\n",
    "    grid_search.fit(x, labels)\n",
    "    print(grid_search.best_estimator_)\n",
    "    return grid_search.best_estimator_\n",
    "\n",
    "model = random_grid(train_X, y_train)"
   ]
  },
  {
   "cell_type": "markdown",
   "metadata": {
    "colab_type": "text",
    "id": "qI2-esRoMzdY"
   },
   "source": [
    "<h2>Treino</h2>"
   ]
  },
  {
   "cell_type": "code",
   "execution_count": 0,
   "metadata": {
    "colab": {
     "base_uri": "https://localhost:8080/",
     "height": 109
    },
    "colab_type": "code",
    "id": "TpDQGDNjMzdd",
    "outputId": "35d15bc6-3296-4cc1-d25b-f058c594dfbd"
   },
   "outputs": [
    {
     "name": "stdout",
     "output_type": "stream",
     "text": [
      " acc =  0.9999239051858616 \n",
      " prec =  0.9999238037183785 \n",
      " recall =  0.9999238037183785 \n",
      " f1 =  0.9999238037183785\n",
      " auc =  0.9999239050509211\n"
     ]
    }
   ],
   "source": [
    "rf_pred = model.predict(train_X)\n",
    "print(' acc = ', accuracy_score(y_train, rf_pred), (\"\\n\"),\n",
    "      'prec = ', precision_score(y_train, rf_pred), (\"\\n\"),\n",
    "      'recall = ', recall_score(y_train, rf_pred), (\"\\n\"),\n",
    "      'f1 = ', f1_score(y_train, rf_pred))\n",
    "\n",
    "fpr, tpr, threshold = roc_curve(y_train, rf_pred)\n",
    "roc_auc = auc(fpr, tpr)\n",
    "print(' auc = ', roc_auc)"
   ]
  },
  {
   "cell_type": "markdown",
   "metadata": {
    "colab_type": "text",
    "id": "sfvlICi5Mzd0"
   },
   "source": [
    "<h2>Teste</h2>"
   ]
  },
  {
   "cell_type": "code",
   "execution_count": 0,
   "metadata": {
    "colab": {
     "base_uri": "https://localhost:8080/",
     "height": 109
    },
    "colab_type": "code",
    "id": "Mcx47YzoMzd5",
    "outputId": "06062f5e-7a68-4ed0-cabd-204cf82dd7e7"
   },
   "outputs": [
    {
     "name": "stdout",
     "output_type": "stream",
     "text": [
      " acc =  0.81844 \n",
      " prec =  0.82322 \n",
      " recall =  0.8135 \n",
      " f1 =  0.81833\n",
      " auc =  0.81847\n"
     ]
    }
   ],
   "source": [
    "rf_pred_test = model.predict(test_X)\n",
    "print(' acc = ', round(accuracy_score(y_test, rf_pred_test), 5), (\"\\n\"),\n",
    "      'prec = ', round(precision_score(y_test, rf_pred_test), 5), (\"\\n\"),\n",
    "      'recall = ', round(recall_score(y_test, rf_pred_test), 5), (\"\\n\"),\n",
    "      'f1 = ', round(f1_score(y_test, rf_pred_test), 5))\n",
    "\n",
    "fpr, tpr, threshold = roc_curve(y_test, rf_pred_test)\n",
    "roc_auc = auc(fpr, tpr)\n",
    "print(' auc = ', round(roc_auc, 5))"
   ]
  },
  {
   "cell_type": "markdown",
   "metadata": {
    "colab_type": "text",
    "id": "pCiaaFdKMzgo"
   },
   "source": [
    "<h2>SVM Polinomial</h2>"
   ]
  },
  {
   "cell_type": "code",
   "execution_count": 0,
   "metadata": {
    "colab": {},
    "colab_type": "code",
    "id": "5g1H8KXoMzgr"
   },
   "outputs": [],
   "source": [
    "model = SVC(kernel='poly', C=100000)\n",
    "model.fit(train_X, y_train)"
   ]
  },
  {
   "cell_type": "markdown",
   "metadata": {
    "colab_type": "text",
    "id": "6cGsiadrMzhB"
   },
   "source": [
    "<h2>Treino</h2>"
   ]
  },
  {
   "cell_type": "code",
   "execution_count": 0,
   "metadata": {
    "colab": {},
    "colab_type": "code",
    "id": "G1HZhZ3sMzhE"
   },
   "outputs": [],
   "source": [
    "svm_pred = model.predict(train_X)\n",
    "print(' acc = ', round(accuracy_score(y_train, svm_pred), 5), (\"\\n\"),\n",
    "      'prec = ', round(precision_score(y_train, svm_pred), 5), (\"\\n\"),\n",
    "      'recall = ', round(recall_score(y_train, svm_pred), 5), (\"\\n\"),\n",
    "      'f1 = ', round(f1_score(y_train, svm_pred), 5))\n",
    "\n",
    "fpr, tpr, threshold = roc_curve(y_train, svm_pred)\n",
    "roc_auc = auc(fpr, tpr)\n",
    "print(' auc = ', round(roc_auc, 5))"
   ]
  },
  {
   "cell_type": "markdown",
   "metadata": {
    "colab_type": "text",
    "id": "LkidcHoHMzhZ"
   },
   "source": [
    "<h2>Teste</h2>"
   ]
  },
  {
   "cell_type": "code",
   "execution_count": 0,
   "metadata": {
    "colab": {},
    "colab_type": "code",
    "id": "zCBa4fXjMzhd"
   },
   "outputs": [],
   "source": [
    "svm_pred_test = model.predict(test_X)\n",
    "print(' acc = ', round(accuracy_score(y_test, svm_pred_test), 5), (\"\\n\"),\n",
    "      'prec = ', round(precision_score(y_test, svm_pred_test), 5), (\"\\n\"),\n",
    "      'recall = ', round(recall_score(y_test, svm_pred_test), 5), (\"\\n\"),\n",
    "      'f1 = ', round(f1_score(y_test, svm_pred_test), 5))\n",
    "\n",
    "fpr, tpr, threshold = roc_curve(y_test, svm_pred_test)\n",
    "roc_auc = auc(fpr, tpr)\n",
    "print(' auc = ', round(roc_auc, 5))"
   ]
  }
 ],
 "metadata": {
  "colab": {
   "collapsed_sections": [],
   "name": "modelo_reviews_versao_2.ipynb",
   "provenance": []
  },
  "kernelspec": {
   "display_name": "Python 3",
   "language": "python",
   "name": "python3"
  },
  "language_info": {
   "codemirror_mode": {
    "name": "ipython",
    "version": 3
   },
   "file_extension": ".py",
   "mimetype": "text/x-python",
   "name": "python",
   "nbconvert_exporter": "python",
   "pygments_lexer": "ipython3",
   "version": "3.7.6"
  }
 },
 "nbformat": 4,
 "nbformat_minor": 1
}
